{
  "nbformat": 4,
  "nbformat_minor": 0,
  "metadata": {
    "colab": {
      "provenance": []
    },
    "kernelspec": {
      "name": "python3",
      "display_name": "Python 3"
    },
    "language_info": {
      "name": "python"
    }
  },
  "cells": [
    {
      "cell_type": "markdown",
      "source": [
        "Title : Movie Recommendation System"
      ],
      "metadata": {
        "id": "9myC8y_QvFda"
      }
    },
    {
      "cell_type": "markdown",
      "source": [
        "Objective: The objective of the the movie recommendation system, machine learning project is to provide personalized movie suggestions to viewers based on their film tastes and viewing history, enhancing their overall movie watching experience and increasing user engagement on a platform."
      ],
      "metadata": {
        "id": "e4h3ZwifvVBs"
      }
    },
    {
      "cell_type": "markdown",
      "source": [
        "Data Source : https://github.com/YBI-Foundation/Dataset/blob/main/Movies%20Recommendation.csv"
      ],
      "metadata": {
        "id": "Yz46M7mB0wE0"
      }
    },
    {
      "cell_type": "markdown",
      "source": [
        "Import Library"
      ],
      "metadata": {
        "id": "J3LPq_av079S"
      }
    },
    {
      "cell_type": "code",
      "source": [
        "import pandas as pd\n",
        "import numpy as np\n",
        "import matplotlib.pyplot as plt\n",
        "import seaborn as sns\n",
        "from sklearn.feature_extraction.text import TfidfVectorizer\n",
        "from sklearn.metrics.pairwise import cosine_similarity"
      ],
      "metadata": {
        "id": "nQjMUYUM0j2P"
      },
      "execution_count": null,
      "outputs": []
    },
    {
      "cell_type": "markdown",
      "source": [
        "Import Data"
      ],
      "metadata": {
        "id": "3RumaJmA1HIg"
      }
    },
    {
      "cell_type": "code",
      "execution_count": null,
      "metadata": {
        "id": "JSiWTH0luS54"
      },
      "outputs": [],
      "source": [
        "data=pd.read_csv(\"https://github.com/YBI-Foundation/Dataset/raw/main/Movies%20Recommendation.csv\")"
      ]
    },
    {
      "cell_type": "markdown",
      "source": [
        "Describe Data"
      ],
      "metadata": {
        "id": "seJ6T5uz2RUT"
      }
    },
    {
      "cell_type": "code",
      "source": [
        "data.head()"
      ],
      "metadata": {
        "colab": {
          "base_uri": "https://localhost:8080/",
          "height": 672
        },
        "id": "G4G8DtgL2Q3k",
        "outputId": "ab94ebbe-44df-47da-9437-720db14ae253"
      },
      "execution_count": null,
      "outputs": [
        {
          "output_type": "execute_result",
          "data": {
            "text/plain": [
              "   Movie_ID      Movie_Title                       Movie_Genre Movie_Language  \\\n",
              "0         1       Four Rooms                      Crime Comedy             en   \n",
              "1         2        Star Wars  Adventure Action Science Fiction             en   \n",
              "2         3     Finding Nemo                  Animation Family             en   \n",
              "3         4     Forrest Gump              Comedy Drama Romance             en   \n",
              "4         5  American Beauty                             Drama             en   \n",
              "\n",
              "   Movie_Budget  Movie_Popularity Movie_Release_Date  Movie_Revenue  \\\n",
              "0       4000000         22.876230         09-12-1995        4300000   \n",
              "1      11000000        126.393695         25-05-1977      775398007   \n",
              "2      94000000         85.688789         30-05-2003      940335536   \n",
              "3      55000000        138.133331         06-07-1994      677945399   \n",
              "4      15000000         80.878605         15-09-1999      356296601   \n",
              "\n",
              "   Movie_Runtime  Movie_Vote  ...  \\\n",
              "0           98.0         6.5  ...   \n",
              "1          121.0         8.1  ...   \n",
              "2          100.0         7.6  ...   \n",
              "3          142.0         8.2  ...   \n",
              "4          122.0         7.9  ...   \n",
              "\n",
              "                                      Movie_Homepage  \\\n",
              "0                                                NaN   \n",
              "1  http://www.starwars.com/films/star-wars-episod...   \n",
              "2              http://movies.disney.com/finding-nemo   \n",
              "3                                                NaN   \n",
              "4                      http://www.dreamworks.com/ab/   \n",
              "\n",
              "                                      Movie_Keywords  \\\n",
              "0          hotel new year's eve witch bet hotel room   \n",
              "1        android galaxy hermit death star lightsaber   \n",
              "2  father son relationship harbor underwater fish...   \n",
              "3  vietnam veteran hippie mentally disabled runni...   \n",
              "4  male nudity female nudity adultery midlife cri...   \n",
              "\n",
              "                                      Movie_Overview  \\\n",
              "0  It's Ted the Bellhop's first night on the job....   \n",
              "1  Princess Leia is captured and held hostage by ...   \n",
              "2  Nemo, an adventurous young clownfish, is unexp...   \n",
              "3  A man with a low IQ has accomplished great thi...   \n",
              "4  Lester Burnham, a depressed suburban father in...   \n",
              "\n",
              "                              Movie_Production_House  \\\n",
              "0  [{\"name\": \"Miramax Films\", \"id\": 14}, {\"name\":...   \n",
              "1  [{\"name\": \"Lucasfilm\", \"id\": 1}, {\"name\": \"Twe...   \n",
              "2     [{\"name\": \"Pixar Animation Studios\", \"id\": 3}]   \n",
              "3          [{\"name\": \"Paramount Pictures\", \"id\": 4}]   \n",
              "4  [{\"name\": \"DreamWorks SKG\", \"id\": 27}, {\"name\"...   \n",
              "\n",
              "                            Movie_Production_Country  \\\n",
              "0  [{\"iso_3166_1\": \"US\", \"name\": \"United States o...   \n",
              "1  [{\"iso_3166_1\": \"US\", \"name\": \"United States o...   \n",
              "2  [{\"iso_3166_1\": \"US\", \"name\": \"United States o...   \n",
              "3  [{\"iso_3166_1\": \"US\", \"name\": \"United States o...   \n",
              "4  [{\"iso_3166_1\": \"US\", \"name\": \"United States o...   \n",
              "\n",
              "                      Movie_Spoken_Language  \\\n",
              "0  [{\"iso_639_1\": \"en\", \"name\": \"English\"}]   \n",
              "1  [{\"iso_639_1\": \"en\", \"name\": \"English\"}]   \n",
              "2  [{\"iso_639_1\": \"en\", \"name\": \"English\"}]   \n",
              "3  [{\"iso_639_1\": \"en\", \"name\": \"English\"}]   \n",
              "4  [{\"iso_639_1\": \"en\", \"name\": \"English\"}]   \n",
              "\n",
              "                                       Movie_Tagline  \\\n",
              "0  Twelve outrageous guests. Four scandalous requ...   \n",
              "1       A long time ago in a galaxy far, far away...   \n",
              "2  There are 3.7 trillion fish in the ocean, they...   \n",
              "3  The world will never be the same, once you've ...   \n",
              "4                                       Look closer.   \n",
              "\n",
              "                                          Movie_Cast  \\\n",
              "0  Tim Roth Antonio Banderas Jennifer Beals Madon...   \n",
              "1  Mark Hamill Harrison Ford Carrie Fisher Peter ...   \n",
              "2  Albert Brooks Ellen DeGeneres Alexander Gould ...   \n",
              "3  Tom Hanks Robin Wright Gary Sinise Mykelti Wil...   \n",
              "4  Kevin Spacey Annette Bening Thora Birch Wes Be...   \n",
              "\n",
              "                                          Movie_Crew   Movie_Director  \n",
              "0  [{'name': 'Allison Anders', 'gender': 1, 'depa...   Allison Anders  \n",
              "1  [{'name': 'George Lucas', 'gender': 2, 'depart...     George Lucas  \n",
              "2  [{'name': 'Andrew Stanton', 'gender': 2, 'depa...   Andrew Stanton  \n",
              "3  [{'name': 'Alan Silvestri', 'gender': 2, 'depa...  Robert Zemeckis  \n",
              "4  [{'name': 'Thomas Newman', 'gender': 2, 'depar...       Sam Mendes  \n",
              "\n",
              "[5 rows x 21 columns]"
            ],
            "text/html": [
              "\n",
              "  <div id=\"df-3e8ede1b-78aa-40b6-9d0e-860f224374e7\" class=\"colab-df-container\">\n",
              "    <div>\n",
              "<style scoped>\n",
              "    .dataframe tbody tr th:only-of-type {\n",
              "        vertical-align: middle;\n",
              "    }\n",
              "\n",
              "    .dataframe tbody tr th {\n",
              "        vertical-align: top;\n",
              "    }\n",
              "\n",
              "    .dataframe thead th {\n",
              "        text-align: right;\n",
              "    }\n",
              "</style>\n",
              "<table border=\"1\" class=\"dataframe\">\n",
              "  <thead>\n",
              "    <tr style=\"text-align: right;\">\n",
              "      <th></th>\n",
              "      <th>Movie_ID</th>\n",
              "      <th>Movie_Title</th>\n",
              "      <th>Movie_Genre</th>\n",
              "      <th>Movie_Language</th>\n",
              "      <th>Movie_Budget</th>\n",
              "      <th>Movie_Popularity</th>\n",
              "      <th>Movie_Release_Date</th>\n",
              "      <th>Movie_Revenue</th>\n",
              "      <th>Movie_Runtime</th>\n",
              "      <th>Movie_Vote</th>\n",
              "      <th>...</th>\n",
              "      <th>Movie_Homepage</th>\n",
              "      <th>Movie_Keywords</th>\n",
              "      <th>Movie_Overview</th>\n",
              "      <th>Movie_Production_House</th>\n",
              "      <th>Movie_Production_Country</th>\n",
              "      <th>Movie_Spoken_Language</th>\n",
              "      <th>Movie_Tagline</th>\n",
              "      <th>Movie_Cast</th>\n",
              "      <th>Movie_Crew</th>\n",
              "      <th>Movie_Director</th>\n",
              "    </tr>\n",
              "  </thead>\n",
              "  <tbody>\n",
              "    <tr>\n",
              "      <th>0</th>\n",
              "      <td>1</td>\n",
              "      <td>Four Rooms</td>\n",
              "      <td>Crime Comedy</td>\n",
              "      <td>en</td>\n",
              "      <td>4000000</td>\n",
              "      <td>22.876230</td>\n",
              "      <td>09-12-1995</td>\n",
              "      <td>4300000</td>\n",
              "      <td>98.0</td>\n",
              "      <td>6.5</td>\n",
              "      <td>...</td>\n",
              "      <td>NaN</td>\n",
              "      <td>hotel new year's eve witch bet hotel room</td>\n",
              "      <td>It's Ted the Bellhop's first night on the job....</td>\n",
              "      <td>[{\"name\": \"Miramax Films\", \"id\": 14}, {\"name\":...</td>\n",
              "      <td>[{\"iso_3166_1\": \"US\", \"name\": \"United States o...</td>\n",
              "      <td>[{\"iso_639_1\": \"en\", \"name\": \"English\"}]</td>\n",
              "      <td>Twelve outrageous guests. Four scandalous requ...</td>\n",
              "      <td>Tim Roth Antonio Banderas Jennifer Beals Madon...</td>\n",
              "      <td>[{'name': 'Allison Anders', 'gender': 1, 'depa...</td>\n",
              "      <td>Allison Anders</td>\n",
              "    </tr>\n",
              "    <tr>\n",
              "      <th>1</th>\n",
              "      <td>2</td>\n",
              "      <td>Star Wars</td>\n",
              "      <td>Adventure Action Science Fiction</td>\n",
              "      <td>en</td>\n",
              "      <td>11000000</td>\n",
              "      <td>126.393695</td>\n",
              "      <td>25-05-1977</td>\n",
              "      <td>775398007</td>\n",
              "      <td>121.0</td>\n",
              "      <td>8.1</td>\n",
              "      <td>...</td>\n",
              "      <td>http://www.starwars.com/films/star-wars-episod...</td>\n",
              "      <td>android galaxy hermit death star lightsaber</td>\n",
              "      <td>Princess Leia is captured and held hostage by ...</td>\n",
              "      <td>[{\"name\": \"Lucasfilm\", \"id\": 1}, {\"name\": \"Twe...</td>\n",
              "      <td>[{\"iso_3166_1\": \"US\", \"name\": \"United States o...</td>\n",
              "      <td>[{\"iso_639_1\": \"en\", \"name\": \"English\"}]</td>\n",
              "      <td>A long time ago in a galaxy far, far away...</td>\n",
              "      <td>Mark Hamill Harrison Ford Carrie Fisher Peter ...</td>\n",
              "      <td>[{'name': 'George Lucas', 'gender': 2, 'depart...</td>\n",
              "      <td>George Lucas</td>\n",
              "    </tr>\n",
              "    <tr>\n",
              "      <th>2</th>\n",
              "      <td>3</td>\n",
              "      <td>Finding Nemo</td>\n",
              "      <td>Animation Family</td>\n",
              "      <td>en</td>\n",
              "      <td>94000000</td>\n",
              "      <td>85.688789</td>\n",
              "      <td>30-05-2003</td>\n",
              "      <td>940335536</td>\n",
              "      <td>100.0</td>\n",
              "      <td>7.6</td>\n",
              "      <td>...</td>\n",
              "      <td>http://movies.disney.com/finding-nemo</td>\n",
              "      <td>father son relationship harbor underwater fish...</td>\n",
              "      <td>Nemo, an adventurous young clownfish, is unexp...</td>\n",
              "      <td>[{\"name\": \"Pixar Animation Studios\", \"id\": 3}]</td>\n",
              "      <td>[{\"iso_3166_1\": \"US\", \"name\": \"United States o...</td>\n",
              "      <td>[{\"iso_639_1\": \"en\", \"name\": \"English\"}]</td>\n",
              "      <td>There are 3.7 trillion fish in the ocean, they...</td>\n",
              "      <td>Albert Brooks Ellen DeGeneres Alexander Gould ...</td>\n",
              "      <td>[{'name': 'Andrew Stanton', 'gender': 2, 'depa...</td>\n",
              "      <td>Andrew Stanton</td>\n",
              "    </tr>\n",
              "    <tr>\n",
              "      <th>3</th>\n",
              "      <td>4</td>\n",
              "      <td>Forrest Gump</td>\n",
              "      <td>Comedy Drama Romance</td>\n",
              "      <td>en</td>\n",
              "      <td>55000000</td>\n",
              "      <td>138.133331</td>\n",
              "      <td>06-07-1994</td>\n",
              "      <td>677945399</td>\n",
              "      <td>142.0</td>\n",
              "      <td>8.2</td>\n",
              "      <td>...</td>\n",
              "      <td>NaN</td>\n",
              "      <td>vietnam veteran hippie mentally disabled runni...</td>\n",
              "      <td>A man with a low IQ has accomplished great thi...</td>\n",
              "      <td>[{\"name\": \"Paramount Pictures\", \"id\": 4}]</td>\n",
              "      <td>[{\"iso_3166_1\": \"US\", \"name\": \"United States o...</td>\n",
              "      <td>[{\"iso_639_1\": \"en\", \"name\": \"English\"}]</td>\n",
              "      <td>The world will never be the same, once you've ...</td>\n",
              "      <td>Tom Hanks Robin Wright Gary Sinise Mykelti Wil...</td>\n",
              "      <td>[{'name': 'Alan Silvestri', 'gender': 2, 'depa...</td>\n",
              "      <td>Robert Zemeckis</td>\n",
              "    </tr>\n",
              "    <tr>\n",
              "      <th>4</th>\n",
              "      <td>5</td>\n",
              "      <td>American Beauty</td>\n",
              "      <td>Drama</td>\n",
              "      <td>en</td>\n",
              "      <td>15000000</td>\n",
              "      <td>80.878605</td>\n",
              "      <td>15-09-1999</td>\n",
              "      <td>356296601</td>\n",
              "      <td>122.0</td>\n",
              "      <td>7.9</td>\n",
              "      <td>...</td>\n",
              "      <td>http://www.dreamworks.com/ab/</td>\n",
              "      <td>male nudity female nudity adultery midlife cri...</td>\n",
              "      <td>Lester Burnham, a depressed suburban father in...</td>\n",
              "      <td>[{\"name\": \"DreamWorks SKG\", \"id\": 27}, {\"name\"...</td>\n",
              "      <td>[{\"iso_3166_1\": \"US\", \"name\": \"United States o...</td>\n",
              "      <td>[{\"iso_639_1\": \"en\", \"name\": \"English\"}]</td>\n",
              "      <td>Look closer.</td>\n",
              "      <td>Kevin Spacey Annette Bening Thora Birch Wes Be...</td>\n",
              "      <td>[{'name': 'Thomas Newman', 'gender': 2, 'depar...</td>\n",
              "      <td>Sam Mendes</td>\n",
              "    </tr>\n",
              "  </tbody>\n",
              "</table>\n",
              "<p>5 rows × 21 columns</p>\n",
              "</div>\n",
              "    <div class=\"colab-df-buttons\">\n",
              "\n",
              "  <div class=\"colab-df-container\">\n",
              "    <button class=\"colab-df-convert\" onclick=\"convertToInteractive('df-3e8ede1b-78aa-40b6-9d0e-860f224374e7')\"\n",
              "            title=\"Convert this dataframe to an interactive table.\"\n",
              "            style=\"display:none;\">\n",
              "\n",
              "  <svg xmlns=\"http://www.w3.org/2000/svg\" height=\"24px\" viewBox=\"0 -960 960 960\">\n",
              "    <path d=\"M120-120v-720h720v720H120Zm60-500h600v-160H180v160Zm220 220h160v-160H400v160Zm0 220h160v-160H400v160ZM180-400h160v-160H180v160Zm440 0h160v-160H620v160ZM180-180h160v-160H180v160Zm440 0h160v-160H620v160Z\"/>\n",
              "  </svg>\n",
              "    </button>\n",
              "\n",
              "  <style>\n",
              "    .colab-df-container {\n",
              "      display:flex;\n",
              "      gap: 12px;\n",
              "    }\n",
              "\n",
              "    .colab-df-convert {\n",
              "      background-color: #E8F0FE;\n",
              "      border: none;\n",
              "      border-radius: 50%;\n",
              "      cursor: pointer;\n",
              "      display: none;\n",
              "      fill: #1967D2;\n",
              "      height: 32px;\n",
              "      padding: 0 0 0 0;\n",
              "      width: 32px;\n",
              "    }\n",
              "\n",
              "    .colab-df-convert:hover {\n",
              "      background-color: #E2EBFA;\n",
              "      box-shadow: 0px 1px 2px rgba(60, 64, 67, 0.3), 0px 1px 3px 1px rgba(60, 64, 67, 0.15);\n",
              "      fill: #174EA6;\n",
              "    }\n",
              "\n",
              "    .colab-df-buttons div {\n",
              "      margin-bottom: 4px;\n",
              "    }\n",
              "\n",
              "    [theme=dark] .colab-df-convert {\n",
              "      background-color: #3B4455;\n",
              "      fill: #D2E3FC;\n",
              "    }\n",
              "\n",
              "    [theme=dark] .colab-df-convert:hover {\n",
              "      background-color: #434B5C;\n",
              "      box-shadow: 0px 1px 3px 1px rgba(0, 0, 0, 0.15);\n",
              "      filter: drop-shadow(0px 1px 2px rgba(0, 0, 0, 0.3));\n",
              "      fill: #FFFFFF;\n",
              "    }\n",
              "  </style>\n",
              "\n",
              "    <script>\n",
              "      const buttonEl =\n",
              "        document.querySelector('#df-3e8ede1b-78aa-40b6-9d0e-860f224374e7 button.colab-df-convert');\n",
              "      buttonEl.style.display =\n",
              "        google.colab.kernel.accessAllowed ? 'block' : 'none';\n",
              "\n",
              "      async function convertToInteractive(key) {\n",
              "        const element = document.querySelector('#df-3e8ede1b-78aa-40b6-9d0e-860f224374e7');\n",
              "        const dataTable =\n",
              "          await google.colab.kernel.invokeFunction('convertToInteractive',\n",
              "                                                    [key], {});\n",
              "        if (!dataTable) return;\n",
              "\n",
              "        const docLinkHtml = 'Like what you see? Visit the ' +\n",
              "          '<a target=\"_blank\" href=https://colab.research.google.com/notebooks/data_table.ipynb>data table notebook</a>'\n",
              "          + ' to learn more about interactive tables.';\n",
              "        element.innerHTML = '';\n",
              "        dataTable['output_type'] = 'display_data';\n",
              "        await google.colab.output.renderOutput(dataTable, element);\n",
              "        const docLink = document.createElement('div');\n",
              "        docLink.innerHTML = docLinkHtml;\n",
              "        element.appendChild(docLink);\n",
              "      }\n",
              "    </script>\n",
              "  </div>\n",
              "\n",
              "\n",
              "<div id=\"df-8672d770-45b7-4e08-8c39-a87dadea4b06\">\n",
              "  <button class=\"colab-df-quickchart\" onclick=\"quickchart('df-8672d770-45b7-4e08-8c39-a87dadea4b06')\"\n",
              "            title=\"Suggest charts.\"\n",
              "            style=\"display:none;\">\n",
              "\n",
              "<svg xmlns=\"http://www.w3.org/2000/svg\" height=\"24px\"viewBox=\"0 0 24 24\"\n",
              "     width=\"24px\">\n",
              "    <g>\n",
              "        <path d=\"M19 3H5c-1.1 0-2 .9-2 2v14c0 1.1.9 2 2 2h14c1.1 0 2-.9 2-2V5c0-1.1-.9-2-2-2zM9 17H7v-7h2v7zm4 0h-2V7h2v10zm4 0h-2v-4h2v4z\"/>\n",
              "    </g>\n",
              "</svg>\n",
              "  </button>\n",
              "\n",
              "<style>\n",
              "  .colab-df-quickchart {\n",
              "      --bg-color: #E8F0FE;\n",
              "      --fill-color: #1967D2;\n",
              "      --hover-bg-color: #E2EBFA;\n",
              "      --hover-fill-color: #174EA6;\n",
              "      --disabled-fill-color: #AAA;\n",
              "      --disabled-bg-color: #DDD;\n",
              "  }\n",
              "\n",
              "  [theme=dark] .colab-df-quickchart {\n",
              "      --bg-color: #3B4455;\n",
              "      --fill-color: #D2E3FC;\n",
              "      --hover-bg-color: #434B5C;\n",
              "      --hover-fill-color: #FFFFFF;\n",
              "      --disabled-bg-color: #3B4455;\n",
              "      --disabled-fill-color: #666;\n",
              "  }\n",
              "\n",
              "  .colab-df-quickchart {\n",
              "    background-color: var(--bg-color);\n",
              "    border: none;\n",
              "    border-radius: 50%;\n",
              "    cursor: pointer;\n",
              "    display: none;\n",
              "    fill: var(--fill-color);\n",
              "    height: 32px;\n",
              "    padding: 0;\n",
              "    width: 32px;\n",
              "  }\n",
              "\n",
              "  .colab-df-quickchart:hover {\n",
              "    background-color: var(--hover-bg-color);\n",
              "    box-shadow: 0 1px 2px rgba(60, 64, 67, 0.3), 0 1px 3px 1px rgba(60, 64, 67, 0.15);\n",
              "    fill: var(--button-hover-fill-color);\n",
              "  }\n",
              "\n",
              "  .colab-df-quickchart-complete:disabled,\n",
              "  .colab-df-quickchart-complete:disabled:hover {\n",
              "    background-color: var(--disabled-bg-color);\n",
              "    fill: var(--disabled-fill-color);\n",
              "    box-shadow: none;\n",
              "  }\n",
              "\n",
              "  .colab-df-spinner {\n",
              "    border: 2px solid var(--fill-color);\n",
              "    border-color: transparent;\n",
              "    border-bottom-color: var(--fill-color);\n",
              "    animation:\n",
              "      spin 1s steps(1) infinite;\n",
              "  }\n",
              "\n",
              "  @keyframes spin {\n",
              "    0% {\n",
              "      border-color: transparent;\n",
              "      border-bottom-color: var(--fill-color);\n",
              "      border-left-color: var(--fill-color);\n",
              "    }\n",
              "    20% {\n",
              "      border-color: transparent;\n",
              "      border-left-color: var(--fill-color);\n",
              "      border-top-color: var(--fill-color);\n",
              "    }\n",
              "    30% {\n",
              "      border-color: transparent;\n",
              "      border-left-color: var(--fill-color);\n",
              "      border-top-color: var(--fill-color);\n",
              "      border-right-color: var(--fill-color);\n",
              "    }\n",
              "    40% {\n",
              "      border-color: transparent;\n",
              "      border-right-color: var(--fill-color);\n",
              "      border-top-color: var(--fill-color);\n",
              "    }\n",
              "    60% {\n",
              "      border-color: transparent;\n",
              "      border-right-color: var(--fill-color);\n",
              "    }\n",
              "    80% {\n",
              "      border-color: transparent;\n",
              "      border-right-color: var(--fill-color);\n",
              "      border-bottom-color: var(--fill-color);\n",
              "    }\n",
              "    90% {\n",
              "      border-color: transparent;\n",
              "      border-bottom-color: var(--fill-color);\n",
              "    }\n",
              "  }\n",
              "</style>\n",
              "\n",
              "  <script>\n",
              "    async function quickchart(key) {\n",
              "      const quickchartButtonEl =\n",
              "        document.querySelector('#' + key + ' button');\n",
              "      quickchartButtonEl.disabled = true;  // To prevent multiple clicks.\n",
              "      quickchartButtonEl.classList.add('colab-df-spinner');\n",
              "      try {\n",
              "        const charts = await google.colab.kernel.invokeFunction(\n",
              "            'suggestCharts', [key], {});\n",
              "      } catch (error) {\n",
              "        console.error('Error during call to suggestCharts:', error);\n",
              "      }\n",
              "      quickchartButtonEl.classList.remove('colab-df-spinner');\n",
              "      quickchartButtonEl.classList.add('colab-df-quickchart-complete');\n",
              "    }\n",
              "    (() => {\n",
              "      let quickchartButtonEl =\n",
              "        document.querySelector('#df-8672d770-45b7-4e08-8c39-a87dadea4b06 button');\n",
              "      quickchartButtonEl.style.display =\n",
              "        google.colab.kernel.accessAllowed ? 'block' : 'none';\n",
              "    })();\n",
              "  </script>\n",
              "</div>\n",
              "    </div>\n",
              "  </div>\n"
            ]
          },
          "metadata": {},
          "execution_count": 89
        }
      ]
    },
    {
      "cell_type": "code",
      "source": [
        "data.shape"
      ],
      "metadata": {
        "colab": {
          "base_uri": "https://localhost:8080/"
        },
        "id": "xtQN8fat2cnm",
        "outputId": "5cfac52d-85c9-4efc-d0c7-664ecdfe27a8"
      },
      "execution_count": null,
      "outputs": [
        {
          "output_type": "execute_result",
          "data": {
            "text/plain": [
              "(4760, 21)"
            ]
          },
          "metadata": {},
          "execution_count": 90
        }
      ]
    },
    {
      "cell_type": "code",
      "source": [
        "data.info()"
      ],
      "metadata": {
        "colab": {
          "base_uri": "https://localhost:8080/"
        },
        "id": "JnkGghBq2hUA",
        "outputId": "70881a45-6a88-4770-955d-e587fa3d7ed6"
      },
      "execution_count": null,
      "outputs": [
        {
          "output_type": "stream",
          "name": "stdout",
          "text": [
            "<class 'pandas.core.frame.DataFrame'>\n",
            "RangeIndex: 4760 entries, 0 to 4759\n",
            "Data columns (total 21 columns):\n",
            " #   Column                    Non-Null Count  Dtype  \n",
            "---  ------                    --------------  -----  \n",
            " 0   Movie_ID                  4760 non-null   int64  \n",
            " 1   Movie_Title               4760 non-null   object \n",
            " 2   Movie_Genre               4760 non-null   object \n",
            " 3   Movie_Language            4760 non-null   object \n",
            " 4   Movie_Budget              4760 non-null   int64  \n",
            " 5   Movie_Popularity          4760 non-null   float64\n",
            " 6   Movie_Release_Date        4760 non-null   object \n",
            " 7   Movie_Revenue             4760 non-null   int64  \n",
            " 8   Movie_Runtime             4758 non-null   float64\n",
            " 9   Movie_Vote                4760 non-null   float64\n",
            " 10  Movie_Vote_Count          4760 non-null   int64  \n",
            " 11  Movie_Homepage            1699 non-null   object \n",
            " 12  Movie_Keywords            4373 non-null   object \n",
            " 13  Movie_Overview            4757 non-null   object \n",
            " 14  Movie_Production_House    4760 non-null   object \n",
            " 15  Movie_Production_Country  4760 non-null   object \n",
            " 16  Movie_Spoken_Language     4760 non-null   object \n",
            " 17  Movie_Tagline             3942 non-null   object \n",
            " 18  Movie_Cast                4733 non-null   object \n",
            " 19  Movie_Crew                4760 non-null   object \n",
            " 20  Movie_Director            4738 non-null   object \n",
            "dtypes: float64(3), int64(4), object(14)\n",
            "memory usage: 781.1+ KB\n"
          ]
        }
      ]
    },
    {
      "cell_type": "code",
      "source": [
        "data.describe()"
      ],
      "metadata": {
        "colab": {
          "base_uri": "https://localhost:8080/",
          "height": 300
        },
        "id": "5eJyqnda2roQ",
        "outputId": "25ffb788-dcfd-4107-de56-14923167d96f"
      },
      "execution_count": null,
      "outputs": [
        {
          "output_type": "execute_result",
          "data": {
            "text/plain": [
              "          Movie_ID  Movie_Budget  Movie_Popularity  Movie_Revenue  \\\n",
              "count  4760.000000  4.760000e+03       4760.000000   4.760000e+03   \n",
              "mean   2382.566387  2.920129e+07         21.599510   8.263743e+07   \n",
              "std    1377.270159  4.075620e+07         31.887919   1.630554e+08   \n",
              "min       1.000000  0.000000e+00          0.000372   0.000000e+00   \n",
              "25%    1190.750000  9.257500e+05          4.807074   0.000000e+00   \n",
              "50%    2380.500000  1.500000e+07         13.119058   1.944716e+07   \n",
              "75%    3572.250000  4.000000e+07         28.411929   9.341276e+07   \n",
              "max    4788.000000  3.800000e+08        875.581305   2.787965e+09   \n",
              "\n",
              "       Movie_Runtime   Movie_Vote  Movie_Vote_Count  \n",
              "count    4758.000000  4760.000000       4760.000000  \n",
              "mean      107.184111     6.113866        692.508403  \n",
              "std        21.960332     1.141294       1235.007337  \n",
              "min         0.000000     0.000000          0.000000  \n",
              "25%        94.000000     5.600000         55.000000  \n",
              "50%       104.000000     6.200000        238.000000  \n",
              "75%       118.000000     6.800000        740.250000  \n",
              "max       338.000000    10.000000      13752.000000  "
            ],
            "text/html": [
              "\n",
              "  <div id=\"df-962231f9-c9a5-4e06-b20c-d7b9fdcf0425\" class=\"colab-df-container\">\n",
              "    <div>\n",
              "<style scoped>\n",
              "    .dataframe tbody tr th:only-of-type {\n",
              "        vertical-align: middle;\n",
              "    }\n",
              "\n",
              "    .dataframe tbody tr th {\n",
              "        vertical-align: top;\n",
              "    }\n",
              "\n",
              "    .dataframe thead th {\n",
              "        text-align: right;\n",
              "    }\n",
              "</style>\n",
              "<table border=\"1\" class=\"dataframe\">\n",
              "  <thead>\n",
              "    <tr style=\"text-align: right;\">\n",
              "      <th></th>\n",
              "      <th>Movie_ID</th>\n",
              "      <th>Movie_Budget</th>\n",
              "      <th>Movie_Popularity</th>\n",
              "      <th>Movie_Revenue</th>\n",
              "      <th>Movie_Runtime</th>\n",
              "      <th>Movie_Vote</th>\n",
              "      <th>Movie_Vote_Count</th>\n",
              "    </tr>\n",
              "  </thead>\n",
              "  <tbody>\n",
              "    <tr>\n",
              "      <th>count</th>\n",
              "      <td>4760.000000</td>\n",
              "      <td>4.760000e+03</td>\n",
              "      <td>4760.000000</td>\n",
              "      <td>4.760000e+03</td>\n",
              "      <td>4758.000000</td>\n",
              "      <td>4760.000000</td>\n",
              "      <td>4760.000000</td>\n",
              "    </tr>\n",
              "    <tr>\n",
              "      <th>mean</th>\n",
              "      <td>2382.566387</td>\n",
              "      <td>2.920129e+07</td>\n",
              "      <td>21.599510</td>\n",
              "      <td>8.263743e+07</td>\n",
              "      <td>107.184111</td>\n",
              "      <td>6.113866</td>\n",
              "      <td>692.508403</td>\n",
              "    </tr>\n",
              "    <tr>\n",
              "      <th>std</th>\n",
              "      <td>1377.270159</td>\n",
              "      <td>4.075620e+07</td>\n",
              "      <td>31.887919</td>\n",
              "      <td>1.630554e+08</td>\n",
              "      <td>21.960332</td>\n",
              "      <td>1.141294</td>\n",
              "      <td>1235.007337</td>\n",
              "    </tr>\n",
              "    <tr>\n",
              "      <th>min</th>\n",
              "      <td>1.000000</td>\n",
              "      <td>0.000000e+00</td>\n",
              "      <td>0.000372</td>\n",
              "      <td>0.000000e+00</td>\n",
              "      <td>0.000000</td>\n",
              "      <td>0.000000</td>\n",
              "      <td>0.000000</td>\n",
              "    </tr>\n",
              "    <tr>\n",
              "      <th>25%</th>\n",
              "      <td>1190.750000</td>\n",
              "      <td>9.257500e+05</td>\n",
              "      <td>4.807074</td>\n",
              "      <td>0.000000e+00</td>\n",
              "      <td>94.000000</td>\n",
              "      <td>5.600000</td>\n",
              "      <td>55.000000</td>\n",
              "    </tr>\n",
              "    <tr>\n",
              "      <th>50%</th>\n",
              "      <td>2380.500000</td>\n",
              "      <td>1.500000e+07</td>\n",
              "      <td>13.119058</td>\n",
              "      <td>1.944716e+07</td>\n",
              "      <td>104.000000</td>\n",
              "      <td>6.200000</td>\n",
              "      <td>238.000000</td>\n",
              "    </tr>\n",
              "    <tr>\n",
              "      <th>75%</th>\n",
              "      <td>3572.250000</td>\n",
              "      <td>4.000000e+07</td>\n",
              "      <td>28.411929</td>\n",
              "      <td>9.341276e+07</td>\n",
              "      <td>118.000000</td>\n",
              "      <td>6.800000</td>\n",
              "      <td>740.250000</td>\n",
              "    </tr>\n",
              "    <tr>\n",
              "      <th>max</th>\n",
              "      <td>4788.000000</td>\n",
              "      <td>3.800000e+08</td>\n",
              "      <td>875.581305</td>\n",
              "      <td>2.787965e+09</td>\n",
              "      <td>338.000000</td>\n",
              "      <td>10.000000</td>\n",
              "      <td>13752.000000</td>\n",
              "    </tr>\n",
              "  </tbody>\n",
              "</table>\n",
              "</div>\n",
              "    <div class=\"colab-df-buttons\">\n",
              "\n",
              "  <div class=\"colab-df-container\">\n",
              "    <button class=\"colab-df-convert\" onclick=\"convertToInteractive('df-962231f9-c9a5-4e06-b20c-d7b9fdcf0425')\"\n",
              "            title=\"Convert this dataframe to an interactive table.\"\n",
              "            style=\"display:none;\">\n",
              "\n",
              "  <svg xmlns=\"http://www.w3.org/2000/svg\" height=\"24px\" viewBox=\"0 -960 960 960\">\n",
              "    <path d=\"M120-120v-720h720v720H120Zm60-500h600v-160H180v160Zm220 220h160v-160H400v160Zm0 220h160v-160H400v160ZM180-400h160v-160H180v160Zm440 0h160v-160H620v160ZM180-180h160v-160H180v160Zm440 0h160v-160H620v160Z\"/>\n",
              "  </svg>\n",
              "    </button>\n",
              "\n",
              "  <style>\n",
              "    .colab-df-container {\n",
              "      display:flex;\n",
              "      gap: 12px;\n",
              "    }\n",
              "\n",
              "    .colab-df-convert {\n",
              "      background-color: #E8F0FE;\n",
              "      border: none;\n",
              "      border-radius: 50%;\n",
              "      cursor: pointer;\n",
              "      display: none;\n",
              "      fill: #1967D2;\n",
              "      height: 32px;\n",
              "      padding: 0 0 0 0;\n",
              "      width: 32px;\n",
              "    }\n",
              "\n",
              "    .colab-df-convert:hover {\n",
              "      background-color: #E2EBFA;\n",
              "      box-shadow: 0px 1px 2px rgba(60, 64, 67, 0.3), 0px 1px 3px 1px rgba(60, 64, 67, 0.15);\n",
              "      fill: #174EA6;\n",
              "    }\n",
              "\n",
              "    .colab-df-buttons div {\n",
              "      margin-bottom: 4px;\n",
              "    }\n",
              "\n",
              "    [theme=dark] .colab-df-convert {\n",
              "      background-color: #3B4455;\n",
              "      fill: #D2E3FC;\n",
              "    }\n",
              "\n",
              "    [theme=dark] .colab-df-convert:hover {\n",
              "      background-color: #434B5C;\n",
              "      box-shadow: 0px 1px 3px 1px rgba(0, 0, 0, 0.15);\n",
              "      filter: drop-shadow(0px 1px 2px rgba(0, 0, 0, 0.3));\n",
              "      fill: #FFFFFF;\n",
              "    }\n",
              "  </style>\n",
              "\n",
              "    <script>\n",
              "      const buttonEl =\n",
              "        document.querySelector('#df-962231f9-c9a5-4e06-b20c-d7b9fdcf0425 button.colab-df-convert');\n",
              "      buttonEl.style.display =\n",
              "        google.colab.kernel.accessAllowed ? 'block' : 'none';\n",
              "\n",
              "      async function convertToInteractive(key) {\n",
              "        const element = document.querySelector('#df-962231f9-c9a5-4e06-b20c-d7b9fdcf0425');\n",
              "        const dataTable =\n",
              "          await google.colab.kernel.invokeFunction('convertToInteractive',\n",
              "                                                    [key], {});\n",
              "        if (!dataTable) return;\n",
              "\n",
              "        const docLinkHtml = 'Like what you see? Visit the ' +\n",
              "          '<a target=\"_blank\" href=https://colab.research.google.com/notebooks/data_table.ipynb>data table notebook</a>'\n",
              "          + ' to learn more about interactive tables.';\n",
              "        element.innerHTML = '';\n",
              "        dataTable['output_type'] = 'display_data';\n",
              "        await google.colab.output.renderOutput(dataTable, element);\n",
              "        const docLink = document.createElement('div');\n",
              "        docLink.innerHTML = docLinkHtml;\n",
              "        element.appendChild(docLink);\n",
              "      }\n",
              "    </script>\n",
              "  </div>\n",
              "\n",
              "\n",
              "<div id=\"df-2e4020f4-105e-4c66-95bb-62b4e95f8cec\">\n",
              "  <button class=\"colab-df-quickchart\" onclick=\"quickchart('df-2e4020f4-105e-4c66-95bb-62b4e95f8cec')\"\n",
              "            title=\"Suggest charts.\"\n",
              "            style=\"display:none;\">\n",
              "\n",
              "<svg xmlns=\"http://www.w3.org/2000/svg\" height=\"24px\"viewBox=\"0 0 24 24\"\n",
              "     width=\"24px\">\n",
              "    <g>\n",
              "        <path d=\"M19 3H5c-1.1 0-2 .9-2 2v14c0 1.1.9 2 2 2h14c1.1 0 2-.9 2-2V5c0-1.1-.9-2-2-2zM9 17H7v-7h2v7zm4 0h-2V7h2v10zm4 0h-2v-4h2v4z\"/>\n",
              "    </g>\n",
              "</svg>\n",
              "  </button>\n",
              "\n",
              "<style>\n",
              "  .colab-df-quickchart {\n",
              "      --bg-color: #E8F0FE;\n",
              "      --fill-color: #1967D2;\n",
              "      --hover-bg-color: #E2EBFA;\n",
              "      --hover-fill-color: #174EA6;\n",
              "      --disabled-fill-color: #AAA;\n",
              "      --disabled-bg-color: #DDD;\n",
              "  }\n",
              "\n",
              "  [theme=dark] .colab-df-quickchart {\n",
              "      --bg-color: #3B4455;\n",
              "      --fill-color: #D2E3FC;\n",
              "      --hover-bg-color: #434B5C;\n",
              "      --hover-fill-color: #FFFFFF;\n",
              "      --disabled-bg-color: #3B4455;\n",
              "      --disabled-fill-color: #666;\n",
              "  }\n",
              "\n",
              "  .colab-df-quickchart {\n",
              "    background-color: var(--bg-color);\n",
              "    border: none;\n",
              "    border-radius: 50%;\n",
              "    cursor: pointer;\n",
              "    display: none;\n",
              "    fill: var(--fill-color);\n",
              "    height: 32px;\n",
              "    padding: 0;\n",
              "    width: 32px;\n",
              "  }\n",
              "\n",
              "  .colab-df-quickchart:hover {\n",
              "    background-color: var(--hover-bg-color);\n",
              "    box-shadow: 0 1px 2px rgba(60, 64, 67, 0.3), 0 1px 3px 1px rgba(60, 64, 67, 0.15);\n",
              "    fill: var(--button-hover-fill-color);\n",
              "  }\n",
              "\n",
              "  .colab-df-quickchart-complete:disabled,\n",
              "  .colab-df-quickchart-complete:disabled:hover {\n",
              "    background-color: var(--disabled-bg-color);\n",
              "    fill: var(--disabled-fill-color);\n",
              "    box-shadow: none;\n",
              "  }\n",
              "\n",
              "  .colab-df-spinner {\n",
              "    border: 2px solid var(--fill-color);\n",
              "    border-color: transparent;\n",
              "    border-bottom-color: var(--fill-color);\n",
              "    animation:\n",
              "      spin 1s steps(1) infinite;\n",
              "  }\n",
              "\n",
              "  @keyframes spin {\n",
              "    0% {\n",
              "      border-color: transparent;\n",
              "      border-bottom-color: var(--fill-color);\n",
              "      border-left-color: var(--fill-color);\n",
              "    }\n",
              "    20% {\n",
              "      border-color: transparent;\n",
              "      border-left-color: var(--fill-color);\n",
              "      border-top-color: var(--fill-color);\n",
              "    }\n",
              "    30% {\n",
              "      border-color: transparent;\n",
              "      border-left-color: var(--fill-color);\n",
              "      border-top-color: var(--fill-color);\n",
              "      border-right-color: var(--fill-color);\n",
              "    }\n",
              "    40% {\n",
              "      border-color: transparent;\n",
              "      border-right-color: var(--fill-color);\n",
              "      border-top-color: var(--fill-color);\n",
              "    }\n",
              "    60% {\n",
              "      border-color: transparent;\n",
              "      border-right-color: var(--fill-color);\n",
              "    }\n",
              "    80% {\n",
              "      border-color: transparent;\n",
              "      border-right-color: var(--fill-color);\n",
              "      border-bottom-color: var(--fill-color);\n",
              "    }\n",
              "    90% {\n",
              "      border-color: transparent;\n",
              "      border-bottom-color: var(--fill-color);\n",
              "    }\n",
              "  }\n",
              "</style>\n",
              "\n",
              "  <script>\n",
              "    async function quickchart(key) {\n",
              "      const quickchartButtonEl =\n",
              "        document.querySelector('#' + key + ' button');\n",
              "      quickchartButtonEl.disabled = true;  // To prevent multiple clicks.\n",
              "      quickchartButtonEl.classList.add('colab-df-spinner');\n",
              "      try {\n",
              "        const charts = await google.colab.kernel.invokeFunction(\n",
              "            'suggestCharts', [key], {});\n",
              "      } catch (error) {\n",
              "        console.error('Error during call to suggestCharts:', error);\n",
              "      }\n",
              "      quickchartButtonEl.classList.remove('colab-df-spinner');\n",
              "      quickchartButtonEl.classList.add('colab-df-quickchart-complete');\n",
              "    }\n",
              "    (() => {\n",
              "      let quickchartButtonEl =\n",
              "        document.querySelector('#df-2e4020f4-105e-4c66-95bb-62b4e95f8cec button');\n",
              "      quickchartButtonEl.style.display =\n",
              "        google.colab.kernel.accessAllowed ? 'block' : 'none';\n",
              "    })();\n",
              "  </script>\n",
              "</div>\n",
              "    </div>\n",
              "  </div>\n"
            ]
          },
          "metadata": {},
          "execution_count": 92
        }
      ]
    },
    {
      "cell_type": "code",
      "source": [
        "data.columns"
      ],
      "metadata": {
        "colab": {
          "base_uri": "https://localhost:8080/"
        },
        "id": "Ks-rn6Cp22GP",
        "outputId": "07810929-f9b8-440b-f784-d82882d7f593"
      },
      "execution_count": null,
      "outputs": [
        {
          "output_type": "execute_result",
          "data": {
            "text/plain": [
              "Index(['Movie_ID', 'Movie_Title', 'Movie_Genre', 'Movie_Language',\n",
              "       'Movie_Budget', 'Movie_Popularity', 'Movie_Release_Date',\n",
              "       'Movie_Revenue', 'Movie_Runtime', 'Movie_Vote', 'Movie_Vote_Count',\n",
              "       'Movie_Homepage', 'Movie_Keywords', 'Movie_Overview',\n",
              "       'Movie_Production_House', 'Movie_Production_Country',\n",
              "       'Movie_Spoken_Language', 'Movie_Tagline', 'Movie_Cast', 'Movie_Crew',\n",
              "       'Movie_Director'],\n",
              "      dtype='object')"
            ]
          },
          "metadata": {},
          "execution_count": 93
        }
      ]
    },
    {
      "cell_type": "markdown",
      "source": [
        "Data Visualization"
      ],
      "metadata": {
        "id": "vWaGpNeM4GLA"
      }
    },
    {
      "cell_type": "code",
      "source": [
        "plt.plot(data['Movie_Budget'],data['Movie_Revenue'])\n",
        "plt.title(\"Scatter Plot\")\n",
        "plt.xlabel(\"Movie_Budget\")\n",
        "plt.ylabel(\"Movie_Revenue\")"
      ],
      "metadata": {
        "colab": {
          "base_uri": "https://localhost:8080/",
          "height": 489
        },
        "id": "aUzSBPER4Is6",
        "outputId": "c7f04cc4-4c30-4508-be72-d9a6cb3eaf93"
      },
      "execution_count": null,
      "outputs": [
        {
          "output_type": "execute_result",
          "data": {
            "text/plain": [
              "Text(0, 0.5, 'Movie_Revenue')"
            ]
          },
          "metadata": {},
          "execution_count": 94
        },
        {
          "output_type": "display_data",
          "data": {
            "text/plain": [
              "<Figure size 640x480 with 1 Axes>"
            ],
            "image/png": "[encoded data removed]"
          },
          "metadata": {}
        }
      ]
    },
    {
      "cell_type": "code",
      "source": [
        "plt.hist(data['Movie_Vote_Count'])\n",
        "plt.title(\"Histogram\")"
      ],
      "metadata": {
        "colab": {
          "base_uri": "https://localhost:8080/",
          "height": 469
        },
        "id": "gXBCtOGA7FRK",
        "outputId": "52f4e673-ec4c-43ba-d3bc-419a5f958054"
      },
      "execution_count": null,
      "outputs": [
        {
          "output_type": "execute_result",
          "data": {
            "text/plain": [
              "Text(0.5, 1.0, 'Histogram')"
            ]
          },
          "metadata": {},
          "execution_count": 95
        },
        {
          "output_type": "display_data",
          "data": {
            "text/plain": [
              "<Figure size 640x480 with 1 Axes>"
            ],
            "image/png": "[encoded data removed]"
          },
          "metadata": {}
        }
      ]
    },
    {
      "cell_type": "markdown",
      "source": [
        "Data Preprocessing"
      ],
      "metadata": {
        "id": "xsUj_eJQ72hN"
      }
    },
    {
      "cell_type": "code",
      "source": [
        "data.isnull().sum()"
      ],
      "metadata": {
        "colab": {
          "base_uri": "https://localhost:8080/"
        },
        "id": "JWqAg8Fx3Dyj",
        "outputId": "23df5579-8336-4ba5-a9f9-e225da100710"
      },
      "execution_count": null,
      "outputs": [
        {
          "output_type": "execute_result",
          "data": {
            "text/plain": [
              "Movie_ID                       0\n",
              "Movie_Title                    0\n",
              "Movie_Genre                    0\n",
              "Movie_Language                 0\n",
              "Movie_Budget                   0\n",
              "Movie_Popularity               0\n",
              "Movie_Release_Date             0\n",
              "Movie_Revenue                  0\n",
              "Movie_Runtime                  2\n",
              "Movie_Vote                     0\n",
              "Movie_Vote_Count               0\n",
              "Movie_Homepage              3061\n",
              "Movie_Keywords               387\n",
              "Movie_Overview                 3\n",
              "Movie_Production_House         0\n",
              "Movie_Production_Country       0\n",
              "Movie_Spoken_Language          0\n",
              "Movie_Tagline                818\n",
              "Movie_Cast                    27\n",
              "Movie_Crew                     0\n",
              "Movie_Director                22\n",
              "dtype: int64"
            ]
          },
          "metadata": {},
          "execution_count": 96
        }
      ]
    },
    {
      "cell_type": "code",
      "source": [
        "data[['Movie_Cast','Movie_Homepage','Movie_Keywords','Movie_Overview','Movie_Tagline','Movie_Director']].fillna('--')"
      ],
      "metadata": {
        "colab": {
          "base_uri": "https://localhost:8080/",
          "height": 632
        },
        "id": "lGPM3O8I3N3S",
        "outputId": "49f44776-d226-4ae6-e60c-004b4af153ad"
      },
      "execution_count": null,
      "outputs": [
        {
          "output_type": "execute_result",
          "data": {
            "text/plain": [
              "                                             Movie_Cast  \\\n",
              "0     Tim Roth Antonio Banderas Jennifer Beals Madon...   \n",
              "1     Mark Hamill Harrison Ford Carrie Fisher Peter ...   \n",
              "2     Albert Brooks Ellen DeGeneres Alexander Gould ...   \n",
              "3     Tom Hanks Robin Wright Gary Sinise Mykelti Wil...   \n",
              "4     Kevin Spacey Annette Bening Thora Birch Wes Be...   \n",
              "...                                                 ...   \n",
              "4755  Lisa Hart Carroll Michael Des Barres Paul Drak...   \n",
              "4756  Roni Akurati Brighton Sharbino Jason Lee Anjul...   \n",
              "4757  Nicole Smolen Kim Baldwin Ariana Stephens Brys...   \n",
              "4758                                                 --   \n",
              "4759                                    Tony Oppedisano   \n",
              "\n",
              "                                         Movie_Homepage  \\\n",
              "0                                                    --   \n",
              "1     http://www.starwars.com/films/star-wars-episod...   \n",
              "2                 http://movies.disney.com/finding-nemo   \n",
              "3                                                    --   \n",
              "4                         http://www.dreamworks.com/ab/   \n",
              "...                                                 ...   \n",
              "4755                                                 --   \n",
              "4756                 http://www.growingupsmithmovie.com   \n",
              "4757                                                 --   \n",
              "4758                                                 --   \n",
              "4759                                                 --   \n",
              "\n",
              "                                         Movie_Keywords  \\\n",
              "0             hotel new year's eve witch bet hotel room   \n",
              "1           android galaxy hermit death star lightsaber   \n",
              "2     father son relationship harbor underwater fish...   \n",
              "3     vietnam veteran hippie mentally disabled runni...   \n",
              "4     male nudity female nudity adultery midlife cri...   \n",
              "...                                                 ...   \n",
              "4755                                                 --   \n",
              "4756                                                 --   \n",
              "4757                     christian film sex trafficking   \n",
              "4758                                                 --   \n",
              "4759  music actors legendary perfomer classic hollyw...   \n",
              "\n",
              "                                         Movie_Overview  \\\n",
              "0     It's Ted the Bellhop's first night on the job....   \n",
              "1     Princess Leia is captured and held hostage by ...   \n",
              "2     Nemo, an adventurous young clownfish, is unexp...   \n",
              "3     A man with a low IQ has accomplished great thi...   \n",
              "4     Lester Burnham, a depressed suburban father in...   \n",
              "...                                                 ...   \n",
              "4755  A Broadway producer puts on a play with a Devi...   \n",
              "4756  In 1979, an Indian family moves to America wit...   \n",
              "4757  After sneaking to a party with her friends, 16...   \n",
              "4758  After being estranged since her mother's death...   \n",
              "4759                                                 --   \n",
              "\n",
              "                                          Movie_Tagline     Movie_Director  \n",
              "0     Twelve outrageous guests. Four scandalous requ...     Allison Anders  \n",
              "1          A long time ago in a galaxy far, far away...       George Lucas  \n",
              "2     There are 3.7 trillion fish in the ocean, they...     Andrew Stanton  \n",
              "3     The world will never be the same, once you've ...    Robert Zemeckis  \n",
              "4                                          Look closer.         Sam Mendes  \n",
              "...                                                 ...                ...  \n",
              "4755                The hot spot where Satan's waitin'.         Pece Dingo  \n",
              "4756           It’s better to stand out than to fit in.       Frank Lotito  \n",
              "4757           She never knew it could happen to her...       Jaco Booyens  \n",
              "4758                                                 --                 --  \n",
              "4759                                                 --  Simon Napier-Bell  \n",
              "\n",
              "[4760 rows x 6 columns]"
            ],
            "text/html": [
              "\n",
              "  <div id=\"df-1f972e9a-d5dc-4af8-b38f-c96fa32cc217\" class=\"colab-df-container\">\n",
              "    <div>\n",
              "<style scoped>\n",
              "    .dataframe tbody tr th:only-of-type {\n",
              "        vertical-align: middle;\n",
              "    }\n",
              "\n",
              "    .dataframe tbody tr th {\n",
              "        vertical-align: top;\n",
              "    }\n",
              "\n",
              "    .dataframe thead th {\n",
              "        text-align: right;\n",
              "    }\n",
              "</style>\n",
              "<table border=\"1\" class=\"dataframe\">\n",
              "  <thead>\n",
              "    <tr style=\"text-align: right;\">\n",
              "      <th></th>\n",
              "      <th>Movie_Cast</th>\n",
              "      <th>Movie_Homepage</th>\n",
              "      <th>Movie_Keywords</th>\n",
              "      <th>Movie_Overview</th>\n",
              "      <th>Movie_Tagline</th>\n",
              "      <th>Movie_Director</th>\n",
              "    </tr>\n",
              "  </thead>\n",
              "  <tbody>\n",
              "    <tr>\n",
              "      <th>0</th>\n",
              "      <td>Tim Roth Antonio Banderas Jennifer Beals Madon...</td>\n",
              "      <td>--</td>\n",
              "      <td>hotel new year's eve witch bet hotel room</td>\n",
              "      <td>It's Ted the Bellhop's first night on the job....</td>\n",
              "      <td>Twelve outrageous guests. Four scandalous requ...</td>\n",
              "      <td>Allison Anders</td>\n",
              "    </tr>\n",
              "    <tr>\n",
              "      <th>1</th>\n",
              "      <td>Mark Hamill Harrison Ford Carrie Fisher Peter ...</td>\n",
              "      <td>http://www.starwars.com/films/star-wars-episod...</td>\n",
              "      <td>android galaxy hermit death star lightsaber</td>\n",
              "      <td>Princess Leia is captured and held hostage by ...</td>\n",
              "      <td>A long time ago in a galaxy far, far away...</td>\n",
              "      <td>George Lucas</td>\n",
              "    </tr>\n",
              "    <tr>\n",
              "      <th>2</th>\n",
              "      <td>Albert Brooks Ellen DeGeneres Alexander Gould ...</td>\n",
              "      <td>http://movies.disney.com/finding-nemo</td>\n",
              "      <td>father son relationship harbor underwater fish...</td>\n",
              "      <td>Nemo, an adventurous young clownfish, is unexp...</td>\n",
              "      <td>There are 3.7 trillion fish in the ocean, they...</td>\n",
              "      <td>Andrew Stanton</td>\n",
              "    </tr>\n",
              "    <tr>\n",
              "      <th>3</th>\n",
              "      <td>Tom Hanks Robin Wright Gary Sinise Mykelti Wil...</td>\n",
              "      <td>--</td>\n",
              "      <td>vietnam veteran hippie mentally disabled runni...</td>\n",
              "      <td>A man with a low IQ has accomplished great thi...</td>\n",
              "      <td>The world will never be the same, once you've ...</td>\n",
              "      <td>Robert Zemeckis</td>\n",
              "    </tr>\n",
              "    <tr>\n",
              "      <th>4</th>\n",
              "      <td>Kevin Spacey Annette Bening Thora Birch Wes Be...</td>\n",
              "      <td>http://www.dreamworks.com/ab/</td>\n",
              "      <td>male nudity female nudity adultery midlife cri...</td>\n",
              "      <td>Lester Burnham, a depressed suburban father in...</td>\n",
              "      <td>Look closer.</td>\n",
              "      <td>Sam Mendes</td>\n",
              "    </tr>\n",
              "    <tr>\n",
              "      <th>...</th>\n",
              "      <td>...</td>\n",
              "      <td>...</td>\n",
              "      <td>...</td>\n",
              "      <td>...</td>\n",
              "      <td>...</td>\n",
              "      <td>...</td>\n",
              "    </tr>\n",
              "    <tr>\n",
              "      <th>4755</th>\n",
              "      <td>Lisa Hart Carroll Michael Des Barres Paul Drak...</td>\n",
              "      <td>--</td>\n",
              "      <td>--</td>\n",
              "      <td>A Broadway producer puts on a play with a Devi...</td>\n",
              "      <td>The hot spot where Satan's waitin'.</td>\n",
              "      <td>Pece Dingo</td>\n",
              "    </tr>\n",
              "    <tr>\n",
              "      <th>4756</th>\n",
              "      <td>Roni Akurati Brighton Sharbino Jason Lee Anjul...</td>\n",
              "      <td>http://www.growingupsmithmovie.com</td>\n",
              "      <td>--</td>\n",
              "      <td>In 1979, an Indian family moves to America wit...</td>\n",
              "      <td>It’s better to stand out than to fit in.</td>\n",
              "      <td>Frank Lotito</td>\n",
              "    </tr>\n",
              "    <tr>\n",
              "      <th>4757</th>\n",
              "      <td>Nicole Smolen Kim Baldwin Ariana Stephens Brys...</td>\n",
              "      <td>--</td>\n",
              "      <td>christian film sex trafficking</td>\n",
              "      <td>After sneaking to a party with her friends, 16...</td>\n",
              "      <td>She never knew it could happen to her...</td>\n",
              "      <td>Jaco Booyens</td>\n",
              "    </tr>\n",
              "    <tr>\n",
              "      <th>4758</th>\n",
              "      <td>--</td>\n",
              "      <td>--</td>\n",
              "      <td>--</td>\n",
              "      <td>After being estranged since her mother's death...</td>\n",
              "      <td>--</td>\n",
              "      <td>--</td>\n",
              "    </tr>\n",
              "    <tr>\n",
              "      <th>4759</th>\n",
              "      <td>Tony Oppedisano</td>\n",
              "      <td>--</td>\n",
              "      <td>music actors legendary perfomer classic hollyw...</td>\n",
              "      <td>--</td>\n",
              "      <td>--</td>\n",
              "      <td>Simon Napier-Bell</td>\n",
              "    </tr>\n",
              "  </tbody>\n",
              "</table>\n",
              "<p>4760 rows × 6 columns</p>\n",
              "</div>\n",
              "    <div class=\"colab-df-buttons\">\n",
              "\n",
              "  <div class=\"colab-df-container\">\n",
              "    <button class=\"colab-df-convert\" onclick=\"convertToInteractive('df-1f972e9a-d5dc-4af8-b38f-c96fa32cc217')\"\n",
              "            title=\"Convert this dataframe to an interactive table.\"\n",
              "            style=\"display:none;\">\n",
              "\n",
              "  <svg xmlns=\"http://www.w3.org/2000/svg\" height=\"24px\" viewBox=\"0 -960 960 960\">\n",
              "    <path d=\"M120-120v-720h720v720H120Zm60-500h600v-160H180v160Zm220 220h160v-160H400v160Zm0 220h160v-160H400v160ZM180-400h160v-160H180v160Zm440 0h160v-160H620v160ZM180-180h160v-160H180v160Zm440 0h160v-160H620v160Z\"/>\n",
              "  </svg>\n",
              "    </button>\n",
              "\n",
              "  <style>\n",
              "    .colab-df-container {\n",
              "      display:flex;\n",
              "      gap: 12px;\n",
              "    }\n",
              "\n",
              "    .colab-df-convert {\n",
              "      background-color: #E8F0FE;\n",
              "      border: none;\n",
              "      border-radius: 50%;\n",
              "      cursor: pointer;\n",
              "      display: none;\n",
              "      fill: #1967D2;\n",
              "      height: 32px;\n",
              "      padding: 0 0 0 0;\n",
              "      width: 32px;\n",
              "    }\n",
              "\n",
              "    .colab-df-convert:hover {\n",
              "      background-color: #E2EBFA;\n",
              "      box-shadow: 0px 1px 2px rgba(60, 64, 67, 0.3), 0px 1px 3px 1px rgba(60, 64, 67, 0.15);\n",
              "      fill: #174EA6;\n",
              "    }\n",
              "\n",
              "    .colab-df-buttons div {\n",
              "      margin-bottom: 4px;\n",
              "    }\n",
              "\n",
              "    [theme=dark] .colab-df-convert {\n",
              "      background-color: #3B4455;\n",
              "      fill: #D2E3FC;\n",
              "    }\n",
              "\n",
              "    [theme=dark] .colab-df-convert:hover {\n",
              "      background-color: #434B5C;\n",
              "      box-shadow: 0px 1px 3px 1px rgba(0, 0, 0, 0.15);\n",
              "      filter: drop-shadow(0px 1px 2px rgba(0, 0, 0, 0.3));\n",
              "      fill: #FFFFFF;\n",
              "    }\n",
              "  </style>\n",
              "\n",
              "    <script>\n",
              "      const buttonEl =\n",
              "        document.querySelector('#df-1f972e9a-d5dc-4af8-b38f-c96fa32cc217 button.colab-df-convert');\n",
              "      buttonEl.style.display =\n",
              "        google.colab.kernel.accessAllowed ? 'block' : 'none';\n",
              "\n",
              "      async function convertToInteractive(key) {\n",
              "        const element = document.querySelector('#df-1f972e9a-d5dc-4af8-b38f-c96fa32cc217');\n",
              "        const dataTable =\n",
              "          await google.colab.kernel.invokeFunction('convertToInteractive',\n",
              "                                                    [key], {});\n",
              "        if (!dataTable) return;\n",
              "\n",
              "        const docLinkHtml = 'Like what you see? Visit the ' +\n",
              "          '<a target=\"_blank\" href=https://colab.research.google.com/notebooks/data_table.ipynb>data table notebook</a>'\n",
              "          + ' to learn more about interactive tables.';\n",
              "        element.innerHTML = '';\n",
              "        dataTable['output_type'] = 'display_data';\n",
              "        await google.colab.output.renderOutput(dataTable, element);\n",
              "        const docLink = document.createElement('div');\n",
              "        docLink.innerHTML = docLinkHtml;\n",
              "        element.appendChild(docLink);\n",
              "      }\n",
              "    </script>\n",
              "  </div>\n",
              "\n",
              "\n",
              "<div id=\"df-9890d59c-5676-421c-990b-bb901cdf9aa2\">\n",
              "  <button class=\"colab-df-quickchart\" onclick=\"quickchart('df-9890d59c-5676-421c-990b-bb901cdf9aa2')\"\n",
              "            title=\"Suggest charts.\"\n",
              "            style=\"display:none;\">\n",
              "\n",
              "<svg xmlns=\"http://www.w3.org/2000/svg\" height=\"24px\"viewBox=\"0 0 24 24\"\n",
              "     width=\"24px\">\n",
              "    <g>\n",
              "        <path d=\"M19 3H5c-1.1 0-2 .9-2 2v14c0 1.1.9 2 2 2h14c1.1 0 2-.9 2-2V5c0-1.1-.9-2-2-2zM9 17H7v-7h2v7zm4 0h-2V7h2v10zm4 0h-2v-4h2v4z\"/>\n",
              "    </g>\n",
              "</svg>\n",
              "  </button>\n",
              "\n",
              "<style>\n",
              "  .colab-df-quickchart {\n",
              "      --bg-color: #E8F0FE;\n",
              "      --fill-color: #1967D2;\n",
              "      --hover-bg-color: #E2EBFA;\n",
              "      --hover-fill-color: #174EA6;\n",
              "      --disabled-fill-color: #AAA;\n",
              "      --disabled-bg-color: #DDD;\n",
              "  }\n",
              "\n",
              "  [theme=dark] .colab-df-quickchart {\n",
              "      --bg-color: #3B4455;\n",
              "      --fill-color: #D2E3FC;\n",
              "      --hover-bg-color: #434B5C;\n",
              "      --hover-fill-color: #FFFFFF;\n",
              "      --disabled-bg-color: #3B4455;\n",
              "      --disabled-fill-color: #666;\n",
              "  }\n",
              "\n",
              "  .colab-df-quickchart {\n",
              "    background-color: var(--bg-color);\n",
              "    border: none;\n",
              "    border-radius: 50%;\n",
              "    cursor: pointer;\n",
              "    display: none;\n",
              "    fill: var(--fill-color);\n",
              "    height: 32px;\n",
              "    padding: 0;\n",
              "    width: 32px;\n",
              "  }\n",
              "\n",
              "  .colab-df-quickchart:hover {\n",
              "    background-color: var(--hover-bg-color);\n",
              "    box-shadow: 0 1px 2px rgba(60, 64, 67, 0.3), 0 1px 3px 1px rgba(60, 64, 67, 0.15);\n",
              "    fill: var(--button-hover-fill-color);\n",
              "  }\n",
              "\n",
              "  .colab-df-quickchart-complete:disabled,\n",
              "  .colab-df-quickchart-complete:disabled:hover {\n",
              "    background-color: var(--disabled-bg-color);\n",
              "    fill: var(--disabled-fill-color);\n",
              "    box-shadow: none;\n",
              "  }\n",
              "\n",
              "  .colab-df-spinner {\n",
              "    border: 2px solid var(--fill-color);\n",
              "    border-color: transparent;\n",
              "    border-bottom-color: var(--fill-color);\n",
              "    animation:\n",
              "      spin 1s steps(1) infinite;\n",
              "  }\n",
              "\n",
              "  @keyframes spin {\n",
              "    0% {\n",
              "      border-color: transparent;\n",
              "      border-bottom-color: var(--fill-color);\n",
              "      border-left-color: var(--fill-color);\n",
              "    }\n",
              "    20% {\n",
              "      border-color: transparent;\n",
              "      border-left-color: var(--fill-color);\n",
              "      border-top-color: var(--fill-color);\n",
              "    }\n",
              "    30% {\n",
              "      border-color: transparent;\n",
              "      border-left-color: var(--fill-color);\n",
              "      border-top-color: var(--fill-color);\n",
              "      border-right-color: var(--fill-color);\n",
              "    }\n",
              "    40% {\n",
              "      border-color: transparent;\n",
              "      border-right-color: var(--fill-color);\n",
              "      border-top-color: var(--fill-color);\n",
              "    }\n",
              "    60% {\n",
              "      border-color: transparent;\n",
              "      border-right-color: var(--fill-color);\n",
              "    }\n",
              "    80% {\n",
              "      border-color: transparent;\n",
              "      border-right-color: var(--fill-color);\n",
              "      border-bottom-color: var(--fill-color);\n",
              "    }\n",
              "    90% {\n",
              "      border-color: transparent;\n",
              "      border-bottom-color: var(--fill-color);\n",
              "    }\n",
              "  }\n",
              "</style>\n",
              "\n",
              "  <script>\n",
              "    async function quickchart(key) {\n",
              "      const quickchartButtonEl =\n",
              "        document.querySelector('#' + key + ' button');\n",
              "      quickchartButtonEl.disabled = true;  // To prevent multiple clicks.\n",
              "      quickchartButtonEl.classList.add('colab-df-spinner');\n",
              "      try {\n",
              "        const charts = await google.colab.kernel.invokeFunction(\n",
              "            'suggestCharts', [key], {});\n",
              "      } catch (error) {\n",
              "        console.error('Error during call to suggestCharts:', error);\n",
              "      }\n",
              "      quickchartButtonEl.classList.remove('colab-df-spinner');\n",
              "      quickchartButtonEl.classList.add('colab-df-quickchart-complete');\n",
              "    }\n",
              "    (() => {\n",
              "      let quickchartButtonEl =\n",
              "        document.querySelector('#df-9890d59c-5676-421c-990b-bb901cdf9aa2 button');\n",
              "      quickchartButtonEl.style.display =\n",
              "        google.colab.kernel.accessAllowed ? 'block' : 'none';\n",
              "    })();\n",
              "  </script>\n",
              "</div>\n",
              "    </div>\n",
              "  </div>\n"
            ]
          },
          "metadata": {},
          "execution_count": 97
        }
      ]
    },
    {
      "cell_type": "markdown",
      "source": [
        "Define Target and Feature Variables"
      ],
      "metadata": {
        "id": "irja9IR9MB1a"
      }
    },
    {
      "cell_type": "code",
      "source": [
        "data_1=data[['Movie_Genre','Movie_Keywords','Movie_Cast', 'Movie_Tagline','Movie_Director']].fillna('')"
      ],
      "metadata": {
        "id": "N-5dRsHGAKUm"
      },
      "execution_count": null,
      "outputs": []
    },
    {
      "cell_type": "code",
      "source": [
        "data_1.shape"
      ],
      "metadata": {
        "colab": {
          "base_uri": "https://localhost:8080/"
        },
        "id": "8gLC6tV4KeJx",
        "outputId": "bbc9fca2-4369-4de6-8713-f9617f8e89bb"
      },
      "execution_count": null,
      "outputs": [
        {
          "output_type": "execute_result",
          "data": {
            "text/plain": [
              "(4760, 5)"
            ]
          },
          "metadata": {},
          "execution_count": 99
        }
      ]
    },
    {
      "cell_type": "code",
      "source": [
        "X=data_1['Movie_Genre']+ ' ' +data_1['Movie_Keywords']+ ' ' +data_1['Movie_Cast']+ ' ' +data_1['Movie_Tagline']+ ' ' +data_1['Movie_Director']"
      ],
      "metadata": {
        "id": "7NB1fUU6PCnb"
      },
      "execution_count": null,
      "outputs": []
    },
    {
      "cell_type": "code",
      "source": [
        "X"
      ],
      "metadata": {
        "colab": {
          "base_uri": "https://localhost:8080/"
        },
        "id": "k9kwZY0YRCnR",
        "outputId": "27af2338-d866-4292-b7c8-1398bad7b7d5"
      },
      "execution_count": null,
      "outputs": [
        {
          "output_type": "execute_result",
          "data": {
            "text/plain": [
              "0       Crime Comedy hotel new year's eve witch bet ho...\n",
              "1       Adventure Action Science Fiction android galax...\n",
              "2       Animation Family father son relationship harbo...\n",
              "3       Comedy Drama Romance vietnam veteran hippie me...\n",
              "4       Drama male nudity female nudity adultery midli...\n",
              "                              ...                        \n",
              "4755    Horror  Lisa Hart Carroll Michael Des Barres P...\n",
              "4756    Comedy Family Drama  Roni Akurati Brighton Sha...\n",
              "4757    Thriller Drama christian film sex trafficking ...\n",
              "4758                                           Family    \n",
              "4759    Documentary music actors legendary perfomer cl...\n",
              "Length: 4760, dtype: object"
            ]
          },
          "metadata": {},
          "execution_count": 101
        }
      ]
    },
    {
      "cell_type": "code",
      "source": [
        "X.shape"
      ],
      "metadata": {
        "colab": {
          "base_uri": "https://localhost:8080/"
        },
        "id": "XOxzQtXzRSLq",
        "outputId": "4057b12c-0576-4828-c767-875df954759d"
      },
      "execution_count": null,
      "outputs": [
        {
          "output_type": "execute_result",
          "data": {
            "text/plain": [
              "(4760,)"
            ]
          },
          "metadata": {},
          "execution_count": 102
        }
      ]
    },
    {
      "cell_type": "code",
      "source": [
        "tfidf=TfidfVectorizer()"
      ],
      "metadata": {
        "id": "WRHRwHTlRfx_"
      },
      "execution_count": null,
      "outputs": []
    },
    {
      "cell_type": "code",
      "source": [
        "X= tfidf.fit_transform(X)"
      ],
      "metadata": {
        "id": "NKQFf5G-Rl-5"
      },
      "execution_count": null,
      "outputs": []
    },
    {
      "cell_type": "code",
      "source": [
        "X.shape"
      ],
      "metadata": {
        "colab": {
          "base_uri": "https://localhost:8080/"
        },
        "id": "dDZcGAevRowE",
        "outputId": "c28b4ce0-6ab1-4aba-f668-be72a9ddc9d7"
      },
      "execution_count": null,
      "outputs": [
        {
          "output_type": "execute_result",
          "data": {
            "text/plain": [
              "(4760, 17258)"
            ]
          },
          "metadata": {},
          "execution_count": 105
        }
      ]
    },
    {
      "cell_type": "code",
      "source": [
        "print(X)"
      ],
      "metadata": {
        "colab": {
          "base_uri": "https://localhost:8080/"
        },
        "id": "o-REm6vKRstp",
        "outputId": "5ddb00b3-645c-4461-e7c3-c16bb09207f7"
      },
      "execution_count": null,
      "outputs": [
        {
          "output_type": "stream",
          "name": "stdout",
          "text": [
            "  (0, 617)\t0.1633382144407513\n",
            "  (0, 492)\t0.1432591540388685\n",
            "  (0, 9048)\t0.0866842116160778\n",
            "  (0, 11161)\t0.06250380151644369\n",
            "  (0, 16773)\t0.17654247479915475\n",
            "  (0, 5612)\t0.08603537588547631\n",
            "  (0, 16735)\t0.10690083751525419\n",
            "  (0, 7904)\t0.13348000542112332\n",
            "  (0, 15219)\t0.09800472886453934\n",
            "  (0, 11242)\t0.07277788238484746\n",
            "  (0, 3878)\t0.11998399582562203\n",
            "  (0, 5499)\t0.11454057510303811\n",
            "  (0, 7071)\t0.19822417598406614\n",
            "  (0, 7454)\t0.14745635785412262\n",
            "  (0, 1495)\t0.19712637387361423\n",
            "  (0, 9206)\t0.15186283580984414\n",
            "  (0, 11244)\t0.08262965296941757\n",
            "  (0, 614)\t0.07642616241686973\n",
            "  (0, 12731)\t0.19712637387361423\n",
            "  (0, 13467)\t0.19712637387361423\n",
            "  (0, 5662)\t0.1465525095337543\n",
            "  (0, 6463)\t0.18801785343006192\n",
            "  (0, 11362)\t0.18801785343006192\n",
            "  (0, 15708)\t0.17654247479915475\n",
            "  (0, 15413)\t0.1465525095337543\n",
            "  :\t:\n",
            "  (4757, 5455)\t0.12491480594769522\n",
            "  (4757, 2967)\t0.16273475835631626\n",
            "  (4757, 8464)\t0.23522565554066333\n",
            "  (4757, 6938)\t0.17088173678136628\n",
            "  (4757, 8379)\t0.17480603856721913\n",
            "  (4757, 15303)\t0.07654356007668191\n",
            "  (4757, 15384)\t0.09754322497537371\n",
            "  (4757, 7649)\t0.11479421494340192\n",
            "  (4757, 10896)\t0.14546473055066447\n",
            "  (4757, 4494)\t0.05675298448720501\n",
            "  (4758, 5238)\t1.0\n",
            "  (4759, 11264)\t0.33947721804318337\n",
            "  (4759, 11708)\t0.33947721804318337\n",
            "  (4759, 205)\t0.3237911628497312\n",
            "  (4759, 8902)\t0.3040290704566037\n",
            "  (4759, 14062)\t0.3237911628497312\n",
            "  (4759, 3058)\t0.2812896191863103\n",
            "  (4759, 7130)\t0.26419662449963793\n",
            "  (4759, 10761)\t0.3126617295732147\n",
            "  (4759, 4358)\t0.18306542312175342\n",
            "  (4759, 14051)\t0.20084315377640435\n",
            "  (4759, 5690)\t0.19534291014627303\n",
            "  (4759, 15431)\t0.19628653185946862\n",
            "  (4759, 1490)\t0.21197258705292082\n",
            "  (4759, 10666)\t0.15888268987343043\n"
          ]
        }
      ]
    },
    {
      "cell_type": "markdown",
      "source": [
        "Similarity score using cosine similarity"
      ],
      "metadata": {
        "id": "QQRcAU_wSAFb"
      }
    },
    {
      "cell_type": "code",
      "source": [
        "Similarity_Score = cosine_similarity(X)\n",
        "Similarity_Score"
      ],
      "metadata": {
        "colab": {
          "base_uri": "https://localhost:8080/"
        },
        "id": "Q-P9y1ksRvN-",
        "outputId": "bb9891ee-493b-43b6-a118-68d1f46b1d61"
      },
      "execution_count": null,
      "outputs": [
        {
          "output_type": "execute_result",
          "data": {
            "text/plain": [
              "array([[1.        , 0.01351235, 0.03570468, ..., 0.        , 0.        ,\n",
              "        0.        ],\n",
              "       [0.01351235, 1.        , 0.00806674, ..., 0.        , 0.        ,\n",
              "        0.        ],\n",
              "       [0.03570468, 0.00806674, 1.        , ..., 0.        , 0.08014876,\n",
              "        0.        ],\n",
              "       ...,\n",
              "       [0.        , 0.        , 0.        , ..., 1.        , 0.        ,\n",
              "        0.        ],\n",
              "       [0.        , 0.        , 0.08014876, ..., 0.        , 1.        ,\n",
              "        0.        ],\n",
              "       [0.        , 0.        , 0.        , ..., 0.        , 0.        ,\n",
              "        1.        ]])"
            ]
          },
          "metadata": {},
          "execution_count": 107
        }
      ]
    },
    {
      "cell_type": "code",
      "source": [
        "Similarity_Score.shape"
      ],
      "metadata": {
        "colab": {
          "base_uri": "https://localhost:8080/"
        },
        "id": "D01bm6Q3SkLc",
        "outputId": "3cd1630d-8c63-4486-e941-ec67b425396f"
      },
      "execution_count": null,
      "outputs": [
        {
          "output_type": "execute_result",
          "data": {
            "text/plain": [
              "(4760, 4760)"
            ]
          },
          "metadata": {},
          "execution_count": 108
        }
      ]
    },
    {
      "cell_type": "markdown",
      "source": [
        "Movie Name Input from the user and validate for closest spelling"
      ],
      "metadata": {
        "id": "zaDDvrIXTBt1"
      }
    },
    {
      "cell_type": "code",
      "source": [
        "Movie_Name=input(\"Enter your favorite movie name:\")"
      ],
      "metadata": {
        "colab": {
          "base_uri": "https://localhost:8080/"
        },
        "id": "L6EM6rG3TGTB",
        "outputId": "320cf0e5-4c35-4e91-b921-25bc2b8c9c22"
      },
      "execution_count": null,
      "outputs": [
        {
          "name": "stdout",
          "output_type": "stream",
          "text": [
            "Enter your favorite movie name:Star Wars\n"
          ]
        }
      ]
    },
    {
      "cell_type": "code",
      "source": [
        "print(data.columns)\n"
      ],
      "metadata": {
        "colab": {
          "base_uri": "https://localhost:8080/"
        },
        "id": "mT6KCU4UWdPN",
        "outputId": "28c28f9d-66f2-4c31-91f0-68bf4109c676"
      },
      "execution_count": null,
      "outputs": [
        {
          "output_type": "stream",
          "name": "stdout",
          "text": [
            "Index(['Movie_ID', 'Movie_Title', 'Movie_Genre', 'Movie_Language',\n",
            "       'Movie_Budget', 'Movie_Popularity', 'Movie_Release_Date',\n",
            "       'Movie_Revenue', 'Movie_Runtime', 'Movie_Vote', 'Movie_Vote_Count',\n",
            "       'Movie_Homepage', 'Movie_Keywords', 'Movie_Overview',\n",
            "       'Movie_Production_House', 'Movie_Production_Country',\n",
            "       'Movie_Spoken_Language', 'Movie_Tagline', 'Movie_Cast', 'Movie_Crew',\n",
            "       'Movie_Director'],\n",
            "      dtype='object')\n"
          ]
        }
      ]
    },
    {
      "cell_type": "code",
      "source": [
        "Movies_List=data['Movie_Title'].tolist()"
      ],
      "metadata": {
        "id": "Io3TYt5PVql_"
      },
      "execution_count": null,
      "outputs": []
    },
    {
      "cell_type": "code",
      "source": [
        "import difflib"
      ],
      "metadata": {
        "id": "JonTg7vfWkg2"
      },
      "execution_count": null,
      "outputs": []
    },
    {
      "cell_type": "code",
      "source": [
        "Movie_Recommended=difflib.get_close_matches(Movie_Name,Movies_List)\n",
        "print(Movie_Recommended)"
      ],
      "metadata": {
        "colab": {
          "base_uri": "https://localhost:8080/"
        },
        "id": "7Hw8XiEfW2Gy",
        "outputId": "f0f490ea-752b-4629-df11-888aa77b596d"
      },
      "execution_count": null,
      "outputs": [
        {
          "output_type": "stream",
          "name": "stdout",
          "text": [
            "['Star Wars', 'Star Trek', 'State Fair']\n"
          ]
        }
      ]
    },
    {
      "cell_type": "code",
      "source": [
        "Close_Match=Movie_Recommended[0]\n",
        "print(Close_Match)"
      ],
      "metadata": {
        "colab": {
          "base_uri": "https://localhost:8080/"
        },
        "id": "J6EK0fw5XUWL",
        "outputId": "797e5480-f8f0-4475-e8de-4b6254bceb0b"
      },
      "execution_count": null,
      "outputs": [
        {
          "output_type": "stream",
          "name": "stdout",
          "text": [
            "Star Wars\n"
          ]
        }
      ]
    },
    {
      "cell_type": "code",
      "source": [
        "Index_of_close_match_movie=data[data.Movie_Title == Close_Match]['Movie_ID'].values[0]\n",
        "print(Index_of_close_match_movie)"
      ],
      "metadata": {
        "colab": {
          "base_uri": "https://localhost:8080/"
        },
        "id": "-5FCk-A8Xc64",
        "outputId": "02e21c5b-b0c4-4297-d13a-7c419799b1be"
      },
      "execution_count": null,
      "outputs": [
        {
          "output_type": "stream",
          "name": "stdout",
          "text": [
            "2\n"
          ]
        }
      ]
    },
    {
      "cell_type": "code",
      "source": [
        "# List of Recommended Movie\n",
        "Recommendation_Score=list(enumerate(Similarity_Score[Index_of_close_match_movie]))\n",
        "print(Recommendation_Score)"
      ],
      "metadata": {
        "colab": {
          "base_uri": "https://localhost:8080/"
        },
        "id": "mCPiqDmIXw21",
        "outputId": "8a7198be-21f2-47b2-c644-dfa7f16e6ec3"
      },
      "execution_count": null,
      "outputs": [
        {
          "output_type": "stream",
          "name": "stdout",
          "text": [
            "[(0, 0.0357046810425853), (1, 0.00806674385442584), (2, 1.0000000000000004), (3, 0.010521591718659169), (4, 0.0), (5, 0.0), (6, 0.01776582166456882), (7, 0.020459391814520014), (8, 0.0), (9, 0.003691894977938995), (10, 0.017357304877482896), (11, 0.004131279873878878), (12, 0.004260305191513622), (13, 0.0), (14, 0.0755600401545437), (15, 0.0), (16, 0.0), (17, 0.0), (18, 0.0038254771243029333), (19, 0.0), (20, 0.0), (21, 0.0), (22, 0.030313064953939577), (23, 0.0), (24, 0.043138053214853325), (25, 0.012683619887436534), (26, 0.03985267406354876), (27, 0.035925841296994075), (28, 0.004050565768066834), (29, 0.014601619245802841), (30, 0.016351790950860548), (31, 0.0), (32, 0.009947764091812205), (33, 0.013550651311350111), (34, 0.0), (35, 0.01104363559975108), (36, 0.0), (37, 0.010925836662603832), (38, 0.004559222984603855), (39, 0.00801173739882585), (40, 0.0), (41, 0.0), (42, 0.0), (43, 0.023445696195256015), (44, 0.016505753464896276), (45, 0.010891617144621526), (46, 0.0), (47, 0.019642366491979403), (48, 0.004395824239853521), (49, 0.025650719805611063), (50, 0.01214501741274423), (51, 0.0), (52, 0.015515469780033068), (53, 0.0546320170451003), (54, 0.011520075634057853), (55, 0.0), (56, 0.008123736192525086), (57, 0.03031428675641295), (58, 0.030702186290452904), (59, 0.015203408931850723), (60, 0.003412721286888717), (61, 0.011546885377345543), (62, 0.0), (63, 0.0), (64, 0.014601630569552009), (65, 0.00395621619311326), (66, 0.0), (67, 0.010852926112772544), (68, 0.0), (69, 0.013503340759716277), (70, 0.051830858896982676), (71, 0.0), (72, 0.02533105325932812), (73, 0.02364805944580865), (74, 0.00848594349401913), (75, 0.020988823777244956), (76, 0.007369060039065758), (77, 0.0), (78, 0.0033535088590468626), (79, 0.03796869535565039), (80, 0.014923823217124352), (81, 0.0), (82, 0.015387330714336525), (83, 0.004042768190512572), (84, 0.0039061970574294697), (85, 0.010912794096286307), (86, 0.03515423514630092), (87, 0.008718352426367877), (88, 0.01073945529245715), (89, 0.018617731910720872), (90, 0.0), (91, 0.04717476783948937), (92, 0.007947903374515583), (93, 0.0), (94, 0.014957278791655506), (95, 0.0), (96, 0.03179196364075596), (97, 0.003501052638292809), (98, 0.0), (99, 0.0), (100, 0.01805920943652873), (101, 0.008846897293780173), (102, 0.014225397469375681), (103, 0.0), (104, 0.0040146794661661935), (105, 0.003956643673830406), (106, 0.09988059705340357), (107, 0.0), (108, 0.040398200619079526), (109, 0.017812322668654935), (110, 0.016646295097336693), (111, 0.0), (112, 0.003840822096503558), (113, 0.007426704734863767), (114, 0.02270902059794108), (115, 0.0), (116, 0.0), (117, 0.007373104046039395), (118, 0.0), (119, 0.007828109550456324), (120, 0.007721097140154415), (121, 0.05583772638719009), (122, 0.015669549951213668), (123, 0.004364812244578101), (124, 0.007285715994561956), (125, 0.012986421218683613), (126, 0.0), (127, 0.0), (128, 0.0), (129, 0.011530411639610348), (130, 0.05211914657167516), (131, 0.004041914999087327), (132, 0.021089484865111877), (133, 0.033651288879689024), (134, 0.0), (135, 0.007972124708847294), (136, 0.020435683746942157), (137, 0.05527664339227898), (138, 0.003830607072873918), (139, 0.0), (140, 0.04699294339889671), (141, 0.009919852716270229), (142, 0.010174939796404436), (143, 0.009474018957702652), (144, 0.0646532812372311), (145, 0.0), (146, 0.062189209775370194), (147, 0.0), (148, 0.003620322549599255), (149, 0.023058221353059086), (150, 0.012746038618058623), (151, 0.0), (152, 0.012644780976389521), (153, 0.013488001415623157), (154, 0.01097821510264147), (155, 0.04445543937259665), (156, 0.010577539513555896), (157, 0.0), (158, 0.0), (159, 0.006244755249487865), (160, 0.05529907503948415), (161, 0.010196335722708711), (162, 0.013145429301576259), (163, 0.0), (164, 0.017000650242523584), (165, 0.03637390092141754), (166, 0.059944777685760675), (167, 0.02598482120447878), (168, 0.010233419005622264), (169, 0.015410549119513945), (170, 0.028969156230734844), (171, 0.0037869666577747445), (172, 0.00905994611906948), (173, 0.05257767404040811), (174, 0.0), (175, 0.013244590367493505), (176, 0.012017748563842556), (177, 0.024645263735351225), (178, 0.1111468458372592), (179, 0.05593184131759801), (180, 0.0), (181, 0.0), (182, 0.10680811738851488), (183, 0.006866041444533302), (184, 0.013502177100717662), (185, 0.07269734520464835), (186, 0.013620742990616297), (187, 0.041503033313278266), (188, 0.030676265974311397), (189, 0.00413128500019105), (190, 0.0), (191, 0.0151769957411333), (192, 0.02186566320649969), (193, 0.011993611647851739), (194, 0.007246038292236858), (195, 0.003353298152046166), (196, 0.02786405190595836), (197, 0.0), (198, 0.06765393882253845), (199, 0.0068263637977986815), (200, 0.014590216617116873), (201, 0.01636478379003118), (202, 0.03095483504572072), (203, 0.017090767278506697), (204, 0.0), (205, 0.0), (206, 0.0), (207, 0.0), (208, 0.018968153216750543), (209, 0.0040256331161363694), (210, 0.0), (211, 0.004170018319069774), (212, 0.03489525556969695), (213, 0.0), (214, 0.010792390092794608), (215, 0.003919382264626687), (216, 0.015896499901745718), (217, 0.04809218953735431), (218, 0.008245167683482041), (219, 0.03497550793120993), (220, 0.008435570317933412), (221, 0.007586296055345218), (222, 0.010534181438132142), (223, 0.012538378646512225), (224, 0.0), (225, 0.01497484937457743), (226, 0.0), (227, 0.0), (228, 0.012882810966993199), (229, 0.020631233846468172), (230, 0.12167721115770525), (231, 0.03868081482291046), (232, 0.016508892914387494), (233, 0.03731432736071721), (234, 0.0034335534881487707), (235, 0.0), (236, 0.0), (237, 0.010563497181928548), (238, 0.0), (239, 0.04997875318075095), (240, 0.012052080726060543), (241, 0.0), (242, 0.006481895910056992), (243, 0.0056174501451630695), (244, 0.0), (245, 0.02146977549750966), (246, 0.0), (247, 0.1508193881467258), (248, 0.0), (249, 0.010496296905024415), (250, 0.004464210373176368), (251, 0.014579557484579257), (252, 0.0), (253, 0.0), (254, 0.01289098772983113), (255, 0.0), (256, 0.029627105963890975), (257, 0.006536450081741642), (258, 0.0), (259, 0.007933300557534618), (260, 0.003783998911721505), (261, 0.0038490971620354754), (262, 0.0), (263, 0.01132608152184517), (264, 0.003994984441792715), (265, 0.03466624087909885), (266, 0.01615791654590982), (267, 0.0), (268, 0.0), (269, 0.0355023936581066), (270, 0.036170172712100365), (271, 0.015884702295632082), (272, 0.003988300908311943), (273, 0.011934180812189067), (274, 0.0), (275, 0.023401850651990772), (276, 0.01069586765220949), (277, 0.031024046740288462), (278, 0.0), (279, 0.023138508459960787), (280, 0.0039790625239700395), (281, 0.032472924397338), (282, 0.0), (283, 0.0), (284, 0.012417673600563367), (285, 0.008179449897780302), (286, 0.08179216922562124), (287, 0.01123024736987209), (288, 0.006776068194553097), (289, 0.0), (290, 0.0), (291, 0.003636455463176442), (292, 0.015217953151438257), (293, 0.08222787892593372), (294, 0.0031765225926344413), (295, 0.0), (296, 0.0), (297, 0.01636178581146805), (298, 0.021422189557889756), (299, 0.011474205720141503), (300, 0.007132468518400514), (301, 0.012139497690649606), (302, 0.0), (303, 0.0), (304, 0.014960531016751943), (305, 0.003985621693278819), (306, 0.00735149238554073), (307, 0.0), (308, 0.008371716530674875), (309, 0.02283190351648937), (310, 0.007666064252617513), (311, 0.008476877801859482), (312, 0.01931492633324728), (313, 0.0), (314, 0.0), (315, 0.01137860987576534), (316, 0.0), (317, 0.018148991731012355), (318, 0.0), (319, 0.013937692855736473), (320, 0.0), (321, 0.0), (322, 0.0), (323, 0.0), (324, 0.03323605286521054), (325, 0.0), (326, 0.0), (327, 0.021856375226288194), (328, 0.023786116693217348), (329, 0.0), (330, 0.014010642497764115), (331, 0.0), (332, 0.0), (333, 0.008033174089155989), (334, 0.02073135191916261), (335, 0.023038584797115055), (336, 0.01385799719505456), (337, 0.03792572278886035), (338, 0.015519342913237408), (339, 0.008739710351372288), (340, 0.008043837672625039), (341, 0.05237168735590404), (342, 0.01418434727420196), (343, 0.00401974768602034), (344, 0.027817810255271587), (345, 0.019875534937501688), (346, 0.042085580133711185), (347, 0.05570741584486838), (348, 0.003949261104395081), (349, 0.011927596005840483), (350, 0.02409156724394575), (351, 0.02152516498190148), (352, 0.026841901488459545), (353, 0.0689363473406163), (354, 0.0036509039773144486), (355, 0.04752099575335492), (356, 0.04760500915023404), (357, 0.006885367655705301), (358, 0.014351642806023452), (359, 0.011286031601767442), (360, 0.020998145471654506), (361, 0.05057088329431939), (362, 0.05816547028837928), (363, 0.036310261274221246), (364, 0.0), (365, 0.02324367775740375), (366, 0.0), (367, 0.0), (368, 0.0047887462543290266), (369, 0.012004217933812702), (370, 0.022093706043411557), (371, 0.004389997899182553), (372, 0.007434376201619806), (373, 0.01930985642770145), (374, 0.0), (375, 0.0), (376, 0.0), (377, 0.009305337572063687), (378, 0.0162966115380176), (379, 0.02037969708963891), (380, 0.004583148236317379), (381, 0.010634804185793413), (382, 0.0), (383, 0.006672299759279123), (384, 0.01721962127044681), (385, 0.07659877125943575), (386, 0.0), (387, 0.0037625626131479743), (388, 0.00376615943184385), (389, 0.0), (390, 0.014202638825341361), (391, 0.02680717276712411), (392, 0.043708595077399076), (393, 0.010045587747412267), (394, 0.0), (395, 0.012548228878875254), (396, 0.008678780891374173), (397, 0.0), (398, 0.0), (399, 0.0), (400, 0.01218517981007364), (401, 0.007587741232399364), (402, 0.0), (403, 0.014417767190438104), (404, 0.023295121561224034), (405, 0.008025951567584939), (406, 0.02962331914433111), (407, 0.015610076326774181), (408, 0.00377188031637237), (409, 0.022943374375284573), (410, 0.03516030945454036), (411, 0.0036618280279596955), (412, 0.006518624938466797), (413, 0.007994345185436335), (414, 0.0), (415, 0.015586194269755644), (416, 0.003655864577765566), (417, 0.0037057224992620946), (418, 0.008439800533115766), (419, 0.0), (420, 0.004289912737031914), (421, 0.05596523424134083), (422, 0.0), (423, 0.0207745283974676), (424, 0.004529805276238035), (425, 0.00452587516635196), (426, 0.0037315285741625734), (427, 0.05952617414270285), (428, 0.027183029953617432), (429, 0.03476707084862036), (430, 0.009720646079444463), (431, 0.0), (432, 0.012553527899361327), (433, 0.010059766126859555), (434, 0.021463463554045523), (435, 0.026547335889475825), (436, 0.0), (437, 0.0394580045596585), (438, 0.013498791503784326), (439, 0.003966014871725655), (440, 0.00731678598989484), (441, 0.016258413310951916), (442, 0.003307980125625162), (443, 0.018768846987934747), (444, 0.012639378227669064), (445, 0.018944436461221556), (446, 0.029781474060806147), (447, 0.0), (448, 0.015029219676332856), (449, 0.010259390377732661), (450, 0.0), (451, 0.020693982376006854), (452, 0.00901428190977254), (453, 0.012408342449058253), (454, 0.014557231541214875), (455, 0.03055721742141375), (456, 0.0), (457, 0.017605615347262737), (458, 0.0), (459, 0.06992307878567351), (460, 0.007941899329854516), (461, 0.03863699237726065), (462, 0.0), (463, 0.05920789368626369), (464, 0.011212713158106957), (465, 0.018922729603899277), (466, 0.011214922538774557), (467, 0.012122924171383574), (468, 0.0), (469, 0.02692056561621956), (470, 0.007895959547886043), (471, 0.0), (472, 0.045399395680583154), (473, 0.010581135593248076), (474, 0.06536579013606549), (475, 0.0), (476, 0.0), (477, 0.019535928344917998), (478, 0.0), (479, 0.01473897894522079), (480, 0.0), (481, 0.0), (482, 0.0), (483, 0.004212242296380204), (484, 0.005318370268553483), (485, 0.0), (486, 0.014724814989904331), (487, 0.0), (488, 0.04852416754851675), (489, 0.013990905992681808), (490, 0.00741342564262654), (491, 0.004663972092945049), (492, 0.0037247484341578646), (493, 0.0), (494, 0.009072766613737605), (495, 0.017880824102595515), (496, 0.017928564967125468), (497, 0.010212421442953463), (498, 0.03502068171474209), (499, 0.0), (500, 0.029357609895623187), (501, 0.029294488027775137), (502, 0.0), (503, 0.0), (504, 0.020625517790903294), (505, 0.0), (506, 0.0), (507, 0.024525053032427108), (508, 0.03662331212896815), (509, 0.0), (510, 0.014984317962930403), (511, 0.010451681237298859), (512, 0.004741734598176587), (513, 0.0), (514, 0.0), (515, 0.0), (516, 0.0), (517, 0.04810669693281067), (518, 0.0), (519, 0.01662614508226883), (520, 0.014178436303797866), (521, 0.0038410865769691435), (522, 0.007267207791145118), (523, 0.008387513983170022), (524, 0.033202077898686386), (525, 0.003968134306882131), (526, 0.0), (527, 0.020834124614130055), (528, 0.007622991148254431), (529, 0.004014151404243495), (530, 0.05814312581675472), (531, 0.0), (532, 0.018919904099980282), (533, 0.0), (534, 0.0), (535, 0.0), (536, 0.0), (537, 0.01291241254845757), (538, 0.023389062645581406), (539, 0.012034305511209929), (540, 0.06632683796927578), (541, 0.015695707462190244), (542, 0.006333171154370637), (543, 0.0), (544, 0.0), (545, 0.011438307569947088), (546, 0.051355158347925915), (547, 0.012927576933503476), (548, 0.05078500904144503), (549, 0.02987807263738239), (550, 0.0), (551, 0.004143261930291825), (552, 0.0), (553, 0.005674279437465638), (554, 0.0), (555, 0.020553960923065953), (556, 0.0), (557, 0.014379746689885438), (558, 0.0), (559, 0.014456798306773598), (560, 0.03360362001807042), (561, 0.030437725335324607), (562, 0.05332785078845023), (563, 0.0), (564, 0.0), (565, 0.0), (566, 0.05274775552895944), (567, 0.033725767218938676), (568, 0.018806392274173616), (569, 0.02619057865339467), (570, 0.0), (571, 0.0), (572, 0.0), (573, 0.0), (574, 0.0), (575, 0.003346821869536074), (576, 0.008439491333505685), (577, 0.013732717303519838), (578, 0.028813314643264063), (579, 0.0), (580, 0.0), (581, 0.0), (582, 0.013363826287902315), (583, 0.003616694579655782), (584, 0.05767950572014502), (585, 0.015088911672954407), (586, 0.0), (587, 0.0), (588, 0.004145589456540652), (589, 0.0), (590, 0.0036769710495015333), (591, 0.0), (592, 0.0), (593, 0.0), (594, 0.03284253602683111), (595, 0.0), (596, 0.0371696636647386), (597, 0.027685685508092535), (598, 0.0), (599, 0.004197111617904191), (600, 0.016504528835269833), (601, 0.0), (602, 0.0), (603, 0.004243313371986242), (604, 0.01043271846864515), (605, 0.007946811483265962), (606, 0.0), (607, 0.009012235213495689), (608, 0.0), (609, 0.02299277229186451), (610, 0.0161939993103401), (611, 0.0093953620093581), (612, 0.013057210707914742), (613, 0.003932344538370869), (614, 0.0045773616316104075), (615, 0.046175188763567354), (616, 0.0), (617, 0.0), (618, 0.014969039371114864), (619, 0.07583122038028917), (620, 0.03102360379338187), (621, 0.037298016153728734), (622, 0.02959920486952318), (623, 0.0), (624, 0.07193234343799113), (625, 0.0), (626, 0.0), (627, 0.0), (628, 0.011791800860613388), (629, 0.02322660274890819), (630, 0.012426147640056607), (631, 0.004101952738072445), (632, 0.0), (633, 0.0), (634, 0.0), (635, 0.008711281308467699), (636, 0.0), (637, 0.01174692096784114), (638, 0.0), (639, 0.013753532652374813), (640, 0.05439127525562229), (641, 0.013736336406623337), (642, 0.014016393958873212), (643, 0.05247915867042953), (644, 0.0037898481048937284), (645, 0.0), (646, 0.02417603046130523), (647, 0.0079240799821726), (648, 0.021202705446252332), (649, 0.0), (650, 0.0), (651, 0.047432803257335704), (652, 0.0), (653, 0.010413217565870724), (654, 0.004204797680926479), (655, 0.0), (656, 0.0170479755196237), (657, 0.027349938132868526), (658, 0.0), (659, 0.0), (660, 0.0), (661, 0.0037425051663952267), (662, 0.031633706047149775), (663, 0.018351947925189946), (664, 0.019767309132867013), (665, 0.05450330258808547), (666, 0.0044893041807769095), (667, 0.0), (668, 0.010301257285778525), (669, 0.003670783181060765), (670, 0.01397984909920709), (671, 0.01705016367299071), (672, 0.01096622346164014), (673, 0.0), (674, 0.01332717918660008), (675, 0.0043506864729964435), (676, 0.011922715357222134), (677, 0.004372163455526821), (678, 0.016086953233330165), (679, 0.0), (680, 0.004242758116292071), (681, 0.00451670829461015), (682, 0.0), (683, 0.01731007328705401), (684, 0.008782305114377224), (685, 0.008196474744454394), (686, 0.008274223540054873), (687, 0.004426198728133277), (688, 0.0), (689, 0.015599098529785558), (690, 0.03117075485210381), (691, 0.07925027254701379), (692, 0.01752537778064591), (693, 0.011383274328374103), (694, 0.0), (695, 0.04620709879699616), (696, 0.014853143951091314), (697, 0.01139114162283551), (698, 0.0689890991239911), (699, 0.036617300415758475), (700, 0.012590864373064933), (701, 0.004453378432365946), (702, 0.010613108379881444), (703, 0.035187390580155783), (704, 0.004313752696714953), (705, 0.08303733248072909), (706, 0.03865311503734277), (707, 0.0), (708, 0.030449310034459127), (709, 0.1283613829617165), (710, 0.0), (711, 0.0), (712, 0.018492417446998453), (713, 0.007127621812651144), (714, 0.013603487867834444), (715, 0.008261362662106494), (716, 0.0), (717, 0.03321536663691526), (718, 0.0), (719, 0.009615221919585741), (720, 0.007200365821977733), (721, 0.0), (722, 0.0035847223899806873), (723, 0.01013188125568688), (724, 0.041612967847420135), (725, 0.009762443936962182), (726, 0.012931596378877946), (727, 0.007839202877765877), (728, 0.015915749272072913), (729, 0.0), (730, 0.06169049237524733), (731, 0.03497676552718027), (732, 0.008062248365034327), (733, 0.006903636068979427), (734, 0.0), (735, 0.0), (736, 0.004016243592516668), (737, 0.01729423495561684), (738, 0.006573079996525147), (739, 0.0), (740, 0.023200924519789366), (741, 0.0), (742, 0.026304159877136312), (743, 0.029558819201941304), (744, 0.014179937727073922), (745, 0.015272075176700504), (746, 0.0), (747, 0.004447886005605871), (748, 0.004233344914724637), (749, 0.007983783539740923), (750, 0.015033460463703718), (751, 0.0), (752, 0.079028605366318), (753, 0.03365731902366625), (754, 0.0), (755, 0.03708403388843285), (756, 0.0624442018581078), (757, 0.009560244075128729), (758, 0.0), (759, 0.0), (760, 0.0), (761, 0.0), (762, 0.0147441669674734), (763, 0.016058840752482574), (764, 0.0), (765, 0.0042163422104486), (766, 0.0), (767, 0.003784448220552764), (768, 0.05030552369256806), (769, 0.026675013919101816), (770, 0.0), (771, 0.0), (772, 0.0), (773, 0.011101686612731275), (774, 0.0), (775, 0.013013467599806598), (776, 0.003641246397369046), (777, 0.0), (778, 0.03398609011078535), (779, 0.0034102530280573904), (780, 0.04980418765517833), (781, 0.012085796577099833), (782, 0.0038282451416497025), (783, 0.0), (784, 0.0), (785, 0.020289096558291815), (786, 0.02896667196374635), (787, 0.03049296536812445), (788, 0.0036630082704690085), (789, 0.006439125700741985), (790, 0.012620180433014803), (791, 0.0), (792, 0.013850587459989908), (793, 0.011780860441099154), (794, 0.09647109437560554), (795, 0.0), (796, 0.0), (797, 0.014031202726384123), (798, 0.02169639517767725), (799, 0.0), (800, 0.0), (801, 0.0), (802, 0.01471073934580266), (803, 0.010697092639586124), (804, 0.02271798069863023), (805, 0.022025064289315437), (806, 0.03297029571514736), (807, 0.01811826292634299), (808, 0.0), (809, 0.0), (810, 0.02225285991932255), (811, 0.012468128450094965), (812, 0.010725897566524166), (813, 0.008961537413931814), (814, 0.0), (815, 0.04834067414672934), (816, 0.0), (817, 0.01728967860274609), (818, 0.0), (819, 0.028393447635573877), (820, 0.017858110391379044), (821, 0.02423786255898324), (822, 0.009069521821585621), (823, 0.0), (824, 0.011502506524160593), (825, 0.0), (826, 0.0), (827, 0.015394211801232871), (828, 0.0), (829, 0.023258666367528928), (830, 0.0), (831, 0.0197122726900577), (832, 0.004056451297005169), (833, 0.010616311737448805), (834, 0.011251363953044448), (835, 0.010725475583282648), (836, 0.019608872479563527), (837, 0.0), (838, 0.010548070497032736), (839, 0.04469605193566029), (840, 0.011587453469320321), (841, 0.0), (842, 0.0), (843, 0.009618128555309038), (844, 0.0), (845, 0.0), (846, 0.030471149638344193), (847, 0.017986646028673704), (848, 0.0), (849, 0.011687919557618921), (850, 0.03514127725457675), (851, 0.0), (852, 0.04380510459858668), (853, 0.06506830504596757), (854, 0.0466094308114837), (855, 0.03948957548931505), (856, 0.04223490715735872), (857, 0.0), (858, 0.008303644646254509), (859, 0.00707675716965511), (860, 0.0), (861, 0.012707110607732075), (862, 0.04780541071097729), (863, 0.020228251073723186), (864, 0.00403125219928779), (865, 0.0), (866, 0.0037088028061976787), (867, 0.0), (868, 0.010532203874015206), (869, 0.0), (870, 0.003901000569985082), (871, 0.0), (872, 0.012520849130153467), (873, 0.0), (874, 0.01666343497326258), (875, 0.0), (876, 0.0), (877, 0.0), (878, 0.014482418954346326), (879, 0.04001689998033585), (880, 0.03961501978855438), (881, 0.054633931772852924), (882, 0.030090984011599004), (883, 0.003810966716381084), (884, 0.023023729881793974), (885, 0.0035783891653885075), (886, 0.0), (887, 0.03319542888407057), (888, 0.0), (889, 0.0), (890, 0.015991538946996797), (891, 0.029259659585057336), (892, 0.015648012443048066), (893, 0.031186036954507272), (894, 0.036383706228617446), (895, 0.019564643010608958), (896, 0.0), (897, 0.004019834309325167), (898, 0.007187789837948722), (899, 0.02267155063672691), (900, 0.01926534102041261), (901, 0.014798348398107631), (902, 0.0), (903, 0.0), (904, 0.004696235572443555), (905, 0.01422624949302744), (906, 0.02354304304049542), (907, 0.0036687827450014457), (908, 0.004075626752052218), (909, 0.021155114789449182), (910, 0.0), (911, 0.054316008196202116), (912, 0.0393227377654175), (913, 0.0042317816788533325), (914, 0.0), (915, 0.03661663838224802), (916, 0.003696653271345903), (917, 0.0), (918, 0.0041286158854109785), (919, 0.004054251002282981), (920, 0.019215016684921038), (921, 0.0), (922, 0.0), (923, 0.015901544412434573), (924, 0.01335594779964541), (925, 0.0), (926, 0.0258740606103805), (927, 0.0), (928, 0.04024379149425239), (929, 0.005755759510073164), (930, 0.008468994015767804), (931, 0.036993933880348884), (932, 0.04484567109082725), (933, 0.0), (934, 0.007271882941794714), (935, 0.022010616711268347), (936, 0.021403442312292777), (937, 0.0), (938, 0.016326199422024807), (939, 0.010699548078996127), (940, 0.005239521564467216), (941, 0.0), (942, 0.0), (943, 0.0), (944, 0.010568718564890478), (945, 0.01318437154782014), (946, 0.05085369591480571), (947, 0.0), (948, 0.032887064714061345), (949, 0.0), (950, 0.0), (951, 0.0), (952, 0.0), (953, 0.03801191292839015), (954, 0.023651460668791976), (955, 0.0), (956, 0.0), (957, 0.02995527782447077), (958, 0.018123557001175284), (959, 0.0), (960, 0.0), (961, 0.021655997252764913), (962, 0.01612943741922623), (963, 0.007458407801323754), (964, 0.0), (965, 0.0), (966, 0.015378362382753214), (967, 0.0), (968, 0.0), (969, 0.0), (970, 0.0033706767265422703), (971, 0.016144831607400635), (972, 0.0), (973, 0.019977277580440295), (974, 0.0037346743052568436), (975, 0.011512901442599711), (976, 0.023324534280307473), (977, 0.008166213568083478), (978, 0.014507975888899087), (979, 0.0), (980, 0.01706570895617553), (981, 0.015313978132518363), (982, 0.008777215449970215), (983, 0.0), (984, 0.0), (985, 0.01856261592057127), (986, 0.0), (987, 0.0), (988, 0.05379140853889613), (989, 0.07886546498466679), (990, 0.0), (991, 0.01583991521808725), (992, 0.0), (993, 0.004018834673123643), (994, 0.033560609513548854), (995, 0.026180674959224458), (996, 0.0), (997, 0.008122453752839636), (998, 0.013258546745380032), (999, 0.0), (1000, 0.011711425764855472), (1001, 0.021668574330778644), (1002, 0.03500965151079362), (1003, 0.0), (1004, 0.0400832507425447), (1005, 0.0060987178245020994), (1006, 0.016386953811568666), (1007, 0.0), (1008, 0.025674348070049337), (1009, 0.07009660436260243), (1010, 0.04510663677518836), (1011, 0.028143889263071105), (1012, 0.0), (1013, 0.00791056161012238), (1014, 0.017347336624588316), (1015, 0.0), (1016, 0.039179917820617124), (1017, 0.0), (1018, 0.016346921825489802), (1019, 0.0), (1020, 0.0), (1021, 0.034598943740087616), (1022, 0.012961249352954722), (1023, 0.012751121848615078), (1024, 0.0), (1025, 0.032316206592820945), (1026, 0.01999349308052594), (1027, 0.0), (1028, 0.012137565414232707), (1029, 0.016096922371436395), (1030, 0.0), (1031, 0.00424171913313962), (1032, 0.0), (1033, 0.007648064040313925), (1034, 0.0), (1035, 0.003875694117012078), (1036, 0.0), (1037, 0.0), (1038, 0.060897949181034486), (1039, 0.007253837721151038), (1040, 0.009134792395815633), (1041, 0.05458023575646478), (1042, 0.02133346550559937), (1043, 0.004359692309039705), (1044, 0.0), (1045, 0.028563443395704834), (1046, 0.05887904185628023), (1047, 0.0041565933574002085), (1048, 0.004145739548953945), (1049, 0.013868336367367094), (1050, 0.04041804315004597), (1051, 0.0), (1052, 0.003693386401284325), (1053, 0.0), (1054, 0.003767141657083965), (1055, 0.0), (1056, 0.004340617989122403), (1057, 0.023745149791044213), (1058, 0.0), (1059, 0.003949099432266166), (1060, 0.019563946589500926), (1061, 0.0), (1062, 0.009779217079132266), (1063, 0.0), (1064, 0.0), (1065, 0.0), (1066, 0.007348671612262625), (1067, 0.058259732211632324), (1068, 0.015062754861886313), (1069, 0.0), (1070, 0.0), (1071, 0.01702961577061055), (1072, 0.07285609609625596), (1073, 0.01111923584469521), (1074, 0.0), (1075, 0.0), (1076, 0.06319092630686879), (1077, 0.016024132907786204), (1078, 0.0), (1079, 0.0426998463081413), (1080, 0.03570041897363906), (1081, 0.02087302054351932), (1082, 0.04492229163292613), (1083, 0.0), (1084, 0.018796053366830053), (1085, 0.02133823297116723), (1086, 0.0), (1087, 0.008111853817928125), (1088, 0.02167276627874937), (1089, 0.012471641115678524), (1090, 0.031241185589939935), (1091, 0.0), (1092, 0.053249368909611496), (1093, 0.01333721968513304), (1094, 0.05061732674872316), (1095, 0.030780222144053706), (1096, 0.0), (1097, 0.0), (1098, 0.0), (1099, 0.0), (1100, 0.008881840771577859), (1101, 0.03298767732896208), (1102, 0.0), (1103, 0.025855176245994572), (1104, 0.016509329936571816), (1105, 0.01960961574779435), (1106, 0.011306676749612938), (1107, 0.06329891520476337), (1108, 0.0), (1109, 0.022484313599708955), (1110, 0.0), (1111, 0.008153608147121568), (1112, 0.011648869863422886), (1113, 0.007702610474938289), (1114, 0.031271765310713864), (1115, 0.01185706375204437), (1116, 0.02095974674656277), (1117, 0.010897401022811986), (1118, 0.020177190415754213), (1119, 0.0), (1120, 0.0034013092044969514), (1121, 0.0), (1122, 0.016520662143744546), (1123, 0.0), (1124, 0.0), (1125, 0.0), (1126, 0.0), (1127, 0.014523935490229012), (1128, 0.0), (1129, 0.01933000352062607), (1130, 0.027218685577240935), (1131, 0.0), (1132, 0.028930561145071056), (1133, 0.0090118883787722), (1134, 0.025109059104506004), (1135, 0.010526628793135998), (1136, 0.006995056460787124), (1137, 0.025672455274491503), (1138, 0.0), (1139, 0.0), (1140, 0.004271648321389533), (1141, 0.008000682271846906), (1142, 0.031026471701514496), (1143, 0.0), (1144, 0.009149480154988746), (1145, 0.0), (1146, 0.0038574466003677473), (1147, 0.0), (1148, 0.0), (1149, 0.0), (1150, 0.004303019435527083), (1151, 0.0), (1152, 0.02736133724067011), (1153, 0.010346291617414204), (1154, 0.0), (1155, 0.02126939560483213), (1156, 0.0), (1157, 0.014068717234249996), (1158, 0.0), (1159, 0.0), (1160, 0.0), (1161, 0.012136198733907394), (1162, 0.019492077494226507), (1163, 0.022090548760223983), (1164, 0.0), (1165, 0.021681425202418707), (1166, 0.03387201713139378), (1167, 0.0), (1168, 0.013780783291559089), (1169, 0.0), (1170, 0.003993975893322755), (1171, 0.01579228780436072), (1172, 0.011357507373321616), (1173, 0.003610348022235965), (1174, 0.0), (1175, 0.012411234450743597), (1176, 0.08573663386557509), (1177, 0.0), (1178, 0.04380420273536413), (1179, 0.003988940253608913), (1180, 0.043816782593937086), (1181, 0.0), (1182, 0.09527958438829842), (1183, 0.0), (1184, 0.0), (1185, 0.004203121530136803), (1186, 0.0035030177884845656), (1187, 0.0), (1188, 0.0), (1189, 0.0238830143339884), (1190, 0.0), (1191, 0.008010455011969998), (1192, 0.008359793656303955), (1193, 0.0), (1194, 0.0034856285851010693), (1195, 0.053713460115706366), (1196, 0.007437695490772333), (1197, 0.011307377988703737), (1198, 0.02071891735443775), (1199, 0.0), (1200, 0.0), (1201, 0.0), (1202, 0.039256148349589584), (1203, 0.0), (1204, 0.007595859168707433), (1205, 0.0), (1206, 0.010727980313497096), (1207, 0.031277273953347826), (1208, 0.0050862446479315645), (1209, 0.009453008175308409), (1210, 0.05821316210381665), (1211, 0.02240190496053412), (1212, 0.05503619618676681), (1213, 0.007933449163965989), (1214, 0.023775372869230618), (1215, 0.020855140462754676), (1216, 0.029329064874933912), (1217, 0.012999111986296856), (1218, 0.0038058967270820383), (1219, 0.010176501109370784), (1220, 0.0036007806643220948), (1221, 0.0033167698621111336), (1222, 0.016585569951394045), (1223, 0.026812512709251966), (1224, 0.0), (1225, 0.0), (1226, 0.03925761560533472), (1227, 0.011332210827339548), (1228, 0.01217299938349868), (1229, 0.0), (1230, 0.0), (1231, 0.011207365778919943), (1232, 0.0123929619802303), (1233, 0.0), (1234, 0.0), (1235, 0.018287984151599428), (1236, 0.0), (1237, 0.02159350137060529), (1238, 0.003962297634789579), (1239, 0.003953252608448102), (1240, 0.0), (1241, 0.03383080820347199), (1242, 0.02336736734752834), (1243, 0.0), (1244, 0.0), (1245, 0.008754369007439108), (1246, 0.026921674085287974), (1247, 0.010956484965978711), (1248, 0.008677172638917038), (1249, 0.00782980567192652), (1250, 0.020605339372109416), (1251, 0.09798035416293525), (1252, 0.0), (1253, 0.021031740771245533), (1254, 0.04501180308719524), (1255, 0.028660932428758855), (1256, 0.0), (1257, 0.07081659654429157), (1258, 0.0), (1259, 0.027448474014753116), (1260, 0.0), (1261, 0.0), (1262, 0.003978859632071831), (1263, 0.011186437546241317), (1264, 0.0), (1265, 0.0), (1266, 0.004070152826030351), (1267, 0.012587203756837381), (1268, 0.005993504335937219), (1269, 0.011325427995928785), (1270, 0.0073148369510086025), (1271, 0.0), (1272, 0.0), (1273, 0.0037968732099118363), (1274, 0.00378875792717055), (1275, 0.0), (1276, 0.1053435194920348), (1277, 0.009737022054998816), (1278, 0.02411033713805081), (1279, 0.058487715515836945), (1280, 0.0), (1281, 0.0), (1282, 0.0412390245240362), (1283, 0.0), (1284, 0.048835202299721214), (1285, 0.012871573375978836), (1286, 0.0), (1287, 0.0), (1288, 0.014819463577008868), (1289, 0.0), (1290, 0.0), (1291, 0.03514499358586666), (1292, 0.011501179407198144), (1293, 0.0), (1294, 0.0), (1295, 0.028576851065725734), (1296, 0.029539061015180626), (1297, 0.003992834546873604), (1298, 0.014890175418761248), (1299, 0.0), (1300, 0.00633044087517144), (1301, 0.027121556394537494), (1302, 0.0), (1303, 0.0), (1304, 0.007981638269905098), (1305, 0.07804956502295116), (1306, 0.01657376363704248), (1307, 0.027206079915810234), (1308, 0.010528830588515892), (1309, 0.024849575231969), (1310, 0.006757003864166675), (1311, 0.02968809013289944), (1312, 0.003366724384325367), (1313, 0.0), (1314, 0.02016779756867532), (1315, 0.033166647863998026), (1316, 0.0), (1317, 0.0), (1318, 0.0), (1319, 0.0987054551837175), (1320, 0.0), (1321, 0.02326719041781055), (1322, 0.004061189652850337), (1323, 0.011551352928116064), (1324, 0.0), (1325, 0.0), (1326, 0.0), (1327, 0.07950375584011891), (1328, 0.007894863791512404), (1329, 0.007873777316590867), (1330, 0.014485638263957101), (1331, 0.0), (1332, 0.0), (1333, 0.03543523334023469), (1334, 0.009271123030600303), (1335, 0.0), (1336, 0.03564938420974783), (1337, 0.0), (1338, 0.036551834842486995), (1339, 0.04077001648960307), (1340, 0.0), (1341, 0.01585901048276371), (1342, 0.0), (1343, 0.004742567750279676), (1344, 0.020424491323847525), (1345, 0.012270831606022605), (1346, 0.004012285171402766), (1347, 0.003853449650563951), (1348, 0.019789972629700357), (1349, 0.004495139560733856), (1350, 0.0), (1351, 0.039885471066766744), (1352, 0.013323542476066267), (1353, 0.0184364709978348), (1354, 0.020973181766851662), (1355, 0.0), (1356, 0.033947671854614045), (1357, 0.0), (1358, 0.0073784369874727515), (1359, 0.0), (1360, 0.003630916641521823), (1361, 0.0076048156384722464), (1362, 0.0), (1363, 0.0), (1364, 0.046155269255943265), (1365, 0.048379477170207505), (1366, 0.02304129866386333), (1367, 0.0213311005055113), (1368, 0.019786318402702632), (1369, 0.010657139980277596), (1370, 0.006455263916348609), (1371, 0.0), (1372, 0.015489377459332258), (1373, 0.02244869927562445), (1374, 0.01303021466550469), (1375, 0.003791795287284533), (1376, 0.01696518543961189), (1377, 0.0032182023158213464), (1378, 0.0), (1379, 0.01406492631865027), (1380, 0.00420745148692656), (1381, 0.0045781764897727065), (1382, 0.0), (1383, 0.04189884472907288), (1384, 0.0035506935418293632), (1385, 0.011357987903260607), (1386, 0.0), (1387, 0.011102011534744754), (1388, 0.0), (1389, 0.034581081491053586), (1390, 0.02016802898491732), (1391, 0.0), (1392, 0.011576787322694756), (1393, 0.009482963671880161), (1394, 0.010167540550310532), (1395, 0.0032113184836526495), (1396, 0.008344254303765786), (1397, 0.011626291720456157), (1398, 0.0), (1399, 0.0), (1400, 0.0), (1401, 0.0269726103377773), (1402, 0.021498215797262184), (1403, 0.0411488750953945), (1404, 0.012308124804139862), (1405, 0.054386536410671545), (1406, 0.011430591073305008), (1407, 0.017244618845237387), (1408, 0.0), (1409, 0.0633317635185519), (1410, 0.011464951291852585), (1411, 0.01286673874726553), (1412, 0.03558397388000768), (1413, 0.008097709648993378), (1414, 0.010971416022671442), (1415, 0.0), (1416, 0.0), (1417, 0.0), (1418, 0.006133149406713606), (1419, 0.009042070525663743), (1420, 0.011919762593594932), (1421, 0.015120998774393856), (1422, 0.003884386755125013), (1423, 0.016711712415482104), (1424, 0.0), (1425, 0.011674489424864218), (1426, 0.004226729392342471), (1427, 0.027193878382820866), (1428, 0.015652473945249733), (1429, 0.0), (1430, 0.025692707990136492), (1431, 0.013333094737868166), (1432, 0.0), (1433, 0.06176920018038417), (1434, 0.0), (1435, 0.0), (1436, 0.004221160713139634), (1437, 0.0), (1438, 0.0), (1439, 0.0), (1440, 0.0115188420522012), (1441, 0.0), (1442, 0.015180091419709392), (1443, 0.019935719125663536), (1444, 0.0), (1445, 0.011852294633220385), (1446, 0.0038231269108522105), (1447, 0.015470905156359746), (1448, 0.0), (1449, 0.0), (1450, 0.050865893531414255), (1451, 0.023010228088260348), (1452, 0.0), (1453, 0.016314946619232433), (1454, 0.0379869409928498), (1455, 0.0), (1456, 0.02476122396244361), (1457, 0.0), (1458, 0.01724488712367734), (1459, 0.04141728355508405), (1460, 0.047670337636217745), (1461, 0.02210049789498378), (1462, 0.0), (1463, 0.011064738311462874), (1464, 0.01611631655950122), (1465, 0.05222080897250414), (1466, 0.008727580272544432), (1467, 0.0204867326110306), (1468, 0.038687619628117016), (1469, 0.0), (1470, 0.0), (1471, 0.00591690451087714), (1472, 0.024548702270006273), (1473, 0.11824097359319927), (1474, 0.027791648101069495), (1475, 0.01182562468874051), (1476, 0.0), (1477, 0.09331707969240709), (1478, 0.03532983281498761), (1479, 0.012441651486269757), (1480, 0.018430133899852583), (1481, 0.03627174305649564), (1482, 0.020254001424674727), (1483, 0.0), (1484, 0.024032901928907273), (1485, 0.03851587307921808), (1486, 0.004393577790972237), (1487, 0.030048297109528055), (1488, 0.016553640691961805), (1489, 0.01823383122726083), (1490, 0.0), (1491, 0.0), (1492, 0.02728063387926187), (1493, 0.014782605733124985), (1494, 0.017523850877135982), (1495, 0.04192431876328213), (1496, 0.05117493352845151), (1497, 0.0), (1498, 0.0), (1499, 0.0), (1500, 0.011825472096466047), (1501, 0.015313804618662503), (1502, 0.004212960275747539), (1503, 0.025707669277288153), (1504, 0.0), (1505, 0.06999637920473625), (1506, 0.008196171474980174), (1507, 0.010342215923688225), (1508, 0.0), (1509, 0.010474869523888887), (1510, 0.0040275389783339865), (1511, 0.017686417836433474), (1512, 0.0), (1513, 0.007798774385507593), (1514, 0.0), (1515, 0.0040154886075615525), (1516, 0.0), (1517, 0.007943907557714678), (1518, 0.0), (1519, 0.0), (1520, 0.03004477943837886), (1521, 0.02152299407025111), (1522, 0.015617264273580627), (1523, 0.05894628811013012), (1524, 0.08619562085485544), (1525, 0.011766411824216585), (1526, 0.015564536975645464), (1527, 0.0), (1528, 0.0), (1529, 0.044869150995318546), (1530, 0.003267169651889171), (1531, 0.007910261466627606), (1532, 0.011101804388007168), (1533, 0.0), (1534, 0.0), (1535, 0.003354690490097487), (1536, 0.0), (1537, 0.020301968669917098), (1538, 0.029429652521037325), (1539, 0.018286173872638877), (1540, 0.0), (1541, 0.007305118366062998), (1542, 0.015278039678886874), (1543, 0.0104511355542484), (1544, 0.0663989996217768), (1545, 0.0), (1546, 0.003432072045390551), (1547, 0.0), (1548, 0.0050499305926484574), (1549, 0.008908640124938914), (1550, 0.03055180544477463), (1551, 0.003921032200275069), (1552, 0.02952229901208827), (1553, 0.007041930243714464), (1554, 0.0), (1555, 0.03183375949817642), (1556, 0.0), (1557, 0.08327851036246037), (1558, 0.013717240287889282), (1559, 0.021912486660189565), (1560, 0.0), (1561, 0.03410619618885563), (1562, 0.02975732318563572), (1563, 0.009811890536400017), (1564, 0.031633724802306765), (1565, 0.003410069043344546), (1566, 0.0), (1567, 0.008181012327867433), (1568, 0.03520135838307459), (1569, 0.030193040011607334), (1570, 0.02783084960277767), (1571, 0.003298366323687588), (1572, 0.013085718599865749), (1573, 0.0), (1574, 0.04216756926320464), (1575, 0.01737460932348656), (1576, 0.013225780841606059), (1577, 0.015467068429888887), (1578, 0.0464500545885289), (1579, 0.011249999461884479), (1580, 0.009965706191090076), (1581, 0.005661408802407803), (1582, 0.01903612957818754), (1583, 0.004370765082416809), (1584, 0.0651370391162525), (1585, 0.0), (1586, 0.06635720998243683), (1587, 0.004060963471835856), (1588, 0.012849853237601815), (1589, 0.0), (1590, 0.0), (1591, 0.0), (1592, 0.016014308084937517), (1593, 0.0), (1594, 0.0401964253015857), (1595, 0.0036103725439305357), (1596, 0.0), (1597, 0.014770328246079807), (1598, 0.007390322303233807), (1599, 0.009144007707395211), (1600, 0.03482620232116452), (1601, 0.018578963000768216), (1602, 0.035665721064448805), (1603, 0.01190436506481423), (1604, 0.01866975469685185), (1605, 0.0), (1606, 0.031978296700292744), (1607, 0.020383321555904926), (1608, 0.007042917669561253), (1609, 0.04034506908754054), (1610, 0.020593807809920643), (1611, 0.0), (1612, 0.0), (1613, 0.011936891089674625), (1614, 0.01735946108587301), (1615, 0.008865704059270644), (1616, 0.01790538658246818), (1617, 0.02001493718111607), (1618, 0.0), (1619, 0.004251548597891477), (1620, 0.0037304044015510655), (1621, 0.011529814148856992), (1622, 0.0), (1623, 0.0), (1624, 0.0), (1625, 0.010516859477805188), (1626, 0.0147582342132468), (1627, 0.012613889825712783), (1628, 0.0), (1629, 0.0329789524752669), (1630, 0.00757085895608706), (1631, 0.0), (1632, 0.0124841758437956), (1633, 0.0), (1634, 0.0386010157902268), (1635, 0.0), (1636, 0.004110491557978175), (1637, 0.0), (1638, 0.0), (1639, 0.0), (1640, 0.02691578684220598), (1641, 0.0), (1642, 0.0036923317256976466), (1643, 0.02582067447072653), (1644, 0.0), (1645, 0.01953044270035723), (1646, 0.09401965915647889), (1647, 0.04668785688832468), (1648, 0.005958614101552758), (1649, 0.008416842854998628), (1650, 0.007398766525656119), (1651, 0.0), (1652, 0.021099778950490655), (1653, 0.003890431327981101), (1654, 0.010827986465379176), (1655, 0.013798721091902187), (1656, 0.0), (1657, 0.0), (1658, 0.0), (1659, 0.0), (1660, 0.004168348664611486), (1661, 0.0), (1662, 0.012135611318679115), (1663, 0.01807102695415238), (1664, 0.0407823760654175), (1665, 0.0), (1666, 0.01999605906794559), (1667, 0.010778783072510746), (1668, 0.0076823609642824205), (1669, 0.00490875158669801), (1670, 0.007879683455866714), (1671, 0.0), (1672, 0.01125817021167015), (1673, 0.06441719204428865), (1674, 0.0), (1675, 0.010903250057633347), (1676, 0.0413245598383801), (1677, 0.021915271811525982), (1678, 0.012946410624213634), (1679, 0.018430771166900152), (1680, 0.014996253331047964), (1681, 0.004379959618740818), (1682, 0.0345416812534365), (1683, 0.008011303612852292), (1684, 0.0065578981626627), (1685, 0.0), (1686, 0.009233153808975596), (1687, 0.004229930163847008), (1688, 0.008136259328206196), (1689, 0.008371330629255559), (1690, 0.016965433342358793), (1691, 0.006808137793365701), (1692, 0.016115353260700457), (1693, 0.0), (1694, 0.030706601291816474), (1695, 0.019242793881369475), (1696, 0.012059494986517533), (1697, 0.007706166782828025), (1698, 0.03863046470763417), (1699, 0.01276714276259382), (1700, 0.07911972533748853), (1701, 0.01973267789416575), (1702, 0.0041465211872657925), (1703, 0.029762094121464668), (1704, 0.02540303857474307), (1705, 0.0), (1706, 0.02112165473689763), (1707, 0.0034085570474196147), (1708, 0.0), (1709, 0.011220006595580043), (1710, 0.0037790832952518194), (1711, 0.026247972226712254), (1712, 0.01909743431960774), (1713, 0.008501202840647365), (1714, 0.1875935306279091), (1715, 0.04493049438960398), (1716, 0.004474184979759685), (1717, 0.0), (1718, 0.01364822105218504), (1719, 0.0036004971833183803), (1720, 0.034238121552016436), (1721, 0.013808266133253939), (1722, 0.0), (1723, 0.012223371374512033), (1724, 0.03604158259338095), (1725, 0.018006377504115337), (1726, 0.04211190240118237), (1727, 0.0), (1728, 0.0), (1729, 0.0), (1730, 0.0), (1731, 0.008026463679191182), (1732, 0.0), (1733, 0.004374317467286457), (1734, 0.012886105560875213), (1735, 0.0), (1736, 0.0), (1737, 0.07381011882761661), (1738, 0.0037873315281813156), (1739, 0.0), (1740, 0.0), (1741, 0.01179026254883924), (1742, 0.003772187688624168), (1743, 0.03889420082464835), (1744, 0.007142033614052711), (1745, 0.0), (1746, 0.007446682727234684), (1747, 0.0), (1748, 0.0), (1749, 0.0), (1750, 0.0), (1751, 0.004036380306428958), (1752, 0.0), (1753, 0.0), (1754, 0.0), (1755, 0.027510369619425854), (1756, 0.003762115592785001), (1757, 0.008896787181356215), (1758, 0.1012923348551616), (1759, 0.011050730216315792), (1760, 0.03411114599737561), (1761, 0.0), (1762, 0.032169351886184167), (1763, 0.007733924423198267), (1764, 0.03337935636959056), (1765, 0.0), (1766, 0.00826146606718975), (1767, 0.0), (1768, 0.016126515396063544), (1769, 0.021151585692300745), (1770, 0.0), (1771, 0.05301892193935142), (1772, 0.003461938311110261), (1773, 0.0), (1774, 0.018320235315809535), (1775, 0.0), (1776, 0.019980414969273563), (1777, 0.009278361520757908), (1778, 0.04448146391507355), (1779, 0.013093355027193969), (1780, 0.0), (1781, 0.006789034651056145), (1782, 0.0036488353555126168), (1783, 0.00704421749334062), (1784, 0.027519582316920012), (1785, 0.0), (1786, 0.0), (1787, 0.029045211058299998), (1788, 0.036370318997319226), (1789, 0.045424907315055545), (1790, 0.0), (1791, 0.013092492875433877), (1792, 0.0), (1793, 0.0037392141910531445), (1794, 0.029971536968050643), (1795, 0.0), (1796, 0.0), (1797, 0.012936869948907682), (1798, 0.0042828652623763215), (1799, 0.033587205676905756), (1800, 0.018729360898797575), (1801, 0.0), (1802, 0.011090250497573863), (1803, 0.0), (1804, 0.020569610039910875), (1805, 0.0), (1806, 0.0), (1807, 0.003913205235808525), (1808, 0.01977703723542131), (1809, 0.011767528162593972), (1810, 0.08010108325360486), (1811, 0.012199196035689098), (1812, 0.030534563509816957), (1813, 0.07396329217605654), (1814, 0.030144742088598547), (1815, 0.0), (1816, 0.025039217760060753), (1817, 0.036285704906711555), (1818, 0.019215049353780777), (1819, 0.0), (1820, 0.030901571895127287), (1821, 0.011903730604582465), (1822, 0.0), (1823, 0.007382353943562804), (1824, 0.036259245927602754), (1825, 0.007632473380849079), (1826, 0.0), (1827, 0.010257920572070844), (1828, 0.0246655091775259), (1829, 0.0), (1830, 0.006633572854961164), (1831, 0.0), (1832, 0.0), (1833, 0.05017074769037357), (1834, 0.10460215898310787), (1835, 0.023219255281673706), (1836, 0.02522586814692798), (1837, 0.02072558382466503), (1838, 0.0), (1839, 0.007149443189841517), (1840, 0.0), (1841, 0.025919231814008112), (1842, 0.049094452385821975), (1843, 0.0287556658334963), (1844, 0.031199336146646724), (1845, 0.047989035352907404), (1846, 0.01740467380570372), (1847, 0.0), (1848, 0.0), (1849, 0.021897137787515654), (1850, 0.01635579984115937), (1851, 0.004153400395927886), (1852, 0.012840211943199793), (1853, 0.0), (1854, 0.007147919949727281), (1855, 0.041406811531172955), (1856, 0.0), (1857, 0.003927501354774194), (1858, 0.00446405195155086), (1859, 0.013729850096316196), (1860, 0.07445940394624172), (1861, 0.038026187847565784), (1862, 0.11629897111683916), (1863, 0.006465717067582155), (1864, 0.019818264020755674), (1865, 0.008193138513167138), (1866, 0.02480817550023088), (1867, 0.0), (1868, 0.027192456965277216), (1869, 0.010270603524591165), (1870, 0.0), (1871, 0.01805729234624254), (1872, 0.0), (1873, 0.016243174715826186), (1874, 0.0), (1875, 0.01053844954260626), (1876, 0.020492078525186697), (1877, 0.014967406397407979), (1878, 0.015683576974096936), (1879, 0.0), (1880, 0.0), (1881, 0.013618959727762439), (1882, 0.0), (1883, 0.018516767121910995), (1884, 0.0), (1885, 0.0), (1886, 0.09022740076397263), (1887, 0.004521044240239976), (1888, 0.06406932073118352), (1889, 0.007600707624743307), (1890, 0.0), (1891, 0.0219375409785934), (1892, 0.0), (1893, 0.0042078287546474386), (1894, 0.0), (1895, 0.0037581785831429263), (1896, 0.004232274296666572), (1897, 0.012299361568076829), (1898, 0.0070003665939845534), (1899, 0.01146483820465131), (1900, 0.0), (1901, 0.0), (1902, 0.018779497187490054), (1903, 0.06190377889598548), (1904, 0.0), (1905, 0.0), (1906, 0.0), (1907, 0.028114539344991748), (1908, 0.004010695694624054), (1909, 0.0), (1910, 0.028212800322117947), (1911, 0.024921941683429982), (1912, 0.011197520074571863), (1913, 0.007388065971638287), (1914, 0.029175866216029012), (1915, 0.007588092746913419), (1916, 0.0), (1917, 0.0), (1918, 0.0), (1919, 0.008365243970400312), (1920, 0.0470667413981567), (1921, 0.010137890760325107), (1922, 0.0), (1923, 0.0), (1924, 0.0), (1925, 0.026215998779043636), (1926, 0.03394853230009058), (1927, 0.049421873732648544), (1928, 0.0045102743555668085), (1929, 0.0), (1930, 0.0), (1931, 0.024155251822431965), (1932, 0.0077738927603201525), (1933, 0.03371191227409723), (1934, 0.010980968482673261), (1935, 0.03483088592712663), (1936, 0.00765158982956073), (1937, 0.04102945446277874), (1938, 0.013766985143082845), (1939, 0.0), (1940, 0.0), (1941, 0.0), (1942, 0.011541041378433602), (1943, 0.006516345802160949), (1944, 0.04098037216850309), (1945, 0.0), (1946, 0.0), (1947, 0.0), (1948, 0.029004763615678393), (1949, 0.0), (1950, 0.04799146196419672), (1951, 0.016641549812445675), (1952, 0.004296001500267973), (1953, 0.032865744996401144), (1954, 0.020720615203452666), (1955, 0.007863887787528412), (1956, 0.0), (1957, 0.01703507218946752), (1958, 0.02587836342807858), (1959, 0.05426668050488652), (1960, 0.0), (1961, 0.023508555010465407), (1962, 0.0), (1963, 0.00946265275606227), (1964, 0.06752809630186554), (1965, 0.0), (1966, 0.0), (1967, 0.00877365682689054), (1968, 0.004685132503887968), (1969, 0.015718353976778753), (1970, 0.0), (1971, 0.0033814873198422545), (1972, 0.037012402045817995), (1973, 0.014755230437850465), (1974, 0.060977439086903146), (1975, 0.0), (1976, 0.0), (1977, 0.008041041118497865), (1978, 0.008049443436513322), (1979, 0.030020576704304712), (1980, 0.0), (1981, 0.00333166835658522), (1982, 0.010962486331554114), (1983, 0.0), (1984, 0.003666778669451712), (1985, 0.004031269107269129), (1986, 0.0039455058007787725), (1987, 0.007324165183012197), (1988, 0.003780590379190588), (1989, 0.0), (1990, 0.0036346559114928184), (1991, 0.0), (1992, 0.022086989384690815), (1993, 0.02257263596556345), (1994, 0.0035496878774239882), (1995, 0.0), (1996, 0.02454350148160837), (1997, 0.008668896186076839), (1998, 0.016422912736132392), (1999, 0.023643689543347175), (2000, 0.02837742809219293), (2001, 0.0), (2002, 0.0), (2003, 0.0038542333897031203), (2004, 0.0), (2005, 0.03303991044319317), (2006, 0.006384686354055825), (2007, 0.016487015064667543), (2008, 0.0), (2009, 0.013852160637325072), (2010, 0.0), (2011, 0.0), (2012, 0.004588003585176294), (2013, 0.006357224795232125), (2014, 0.024075314447864538), (2015, 0.004165805460876568), (2016, 0.08323047043930935), (2017, 0.008142956375322785), (2018, 0.012036183049041266), (2019, 0.020787455117193095), (2020, 0.003403012366689808), (2021, 0.0), (2022, 0.02324359512313951), (2023, 0.0037568858319314237), (2024, 0.0), (2025, 0.0), (2026, 0.014744672905480576), (2027, 0.01479054769195632), (2028, 0.0), (2029, 0.02607605141519793), (2030, 0.021360522914071634), (2031, 0.010800137928864731), (2032, 0.00467502522790464), (2033, 0.0), (2034, 0.01336908249608906), (2035, 0.007650910301045191), (2036, 0.015484598617237128), (2037, 0.03218488433331999), (2038, 0.012515491316728198), (2039, 0.027539159311762408), (2040, 0.10916210938064652), (2041, 0.05580813795038778), (2042, 0.0), (2043, 0.021110411077339845), (2044, 0.0), (2045, 0.004054438380472479), (2046, 0.011461751531292416), (2047, 0.007050749981078624), (2048, 0.0), (2049, 0.008253526065850258), (2050, 0.018865190003062575), (2051, 0.012888292207801235), (2052, 0.006981949856488848), (2053, 0.013442936684577238), (2054, 0.0), (2055, 0.02377516169221962), (2056, 0.0038444279934059557), (2057, 0.0), (2058, 0.007200378872433436), (2059, 0.019299978021155583), (2060, 0.0389529975124429), (2061, 0.05613437405120542), (2062, 0.016470856681225117), (2063, 0.0), (2064, 0.010868987419775097), (2065, 0.007168485610405457), (2066, 0.0), (2067, 0.0), (2068, 0.0), (2069, 0.0), (2070, 0.016034229732641146), (2071, 0.007422913387738661), (2072, 0.004133951694367745), (2073, 0.033366734875864744), (2074, 0.015016930588885162), (2075, 0.0), (2076, 0.0033647353993183707), (2077, 0.0), (2078, 0.0031728717734131003), (2079, 0.004554246536325053), (2080, 0.0), (2081, 0.0), (2082, 0.008121841000138677), (2083, 0.0), (2084, 0.0), (2085, 0.016906631976392347), (2086, 0.029505421269776573), (2087, 0.00732238654639694), (2088, 0.011884891332398501), (2089, 0.0), (2090, 0.0), (2091, 0.02303593776217958), (2092, 0.01515879462581001), (2093, 0.0), (2094, 0.0037752503526820675), (2095, 0.020214605594616512), (2096, 0.0), (2097, 0.03130220470842542), (2098, 0.08877148336503604), (2099, 0.02079002991069887), (2100, 0.0349500266367255), (2101, 0.0), (2102, 0.052327558689021926), (2103, 0.012678705700444135), (2104, 0.030821307040394742), (2105, 0.0), (2106, 0.0), (2107, 0.010805244214043991), (2108, 0.0), (2109, 0.028207864733389043), (2110, 0.0), (2111, 0.06229344000626288), (2112, 0.0044032874210425), (2113, 0.03925741824248256), (2114, 0.037771932091385026), (2115, 0.0), (2116, 0.024865978214748095), (2117, 0.018399820434519175), (2118, 0.029461630535307457), (2119, 0.01531771213397679), (2120, 0.0), (2121, 0.03894296236136989), (2122, 0.009117334127279362), (2123, 0.0), (2124, 0.0), (2125, 0.006847112801769941), (2126, 0.00411431336180839), (2127, 0.0033491552549427036), (2128, 0.0039231059813539275), (2129, 0.01530023783301732), (2130, 0.0), (2131, 0.0038324662113891433), (2132, 0.0), (2133, 0.0), (2134, 0.0), (2135, 0.0984801505547625), (2136, 0.0), (2137, 0.0), (2138, 0.050854695063958524), (2139, 0.0037442807335894856), (2140, 0.01717478359662612), (2141, 0.0), (2142, 0.0), (2143, 0.014996450906583258), (2144, 0.011797275005944427), (2145, 0.05865938154209784), (2146, 0.0), (2147, 0.004234583693402104), (2148, 0.0), (2149, 0.010598971746347852), (2150, 0.02026923335018948), (2151, 0.0), (2152, 0.0), (2153, 0.021045424692583206), (2154, 0.009589507126412208), (2155, 0.024203541194029607), (2156, 0.014503265615471314), (2157, 0.028642646270463104), (2158, 0.010530079219355561), (2159, 0.009958808221548316), (2160, 0.007508127317544579), (2161, 0.05647127129031092), (2162, 0.0), (2163, 0.0), (2164, 0.0), (2165, 0.0), (2166, 0.0), (2167, 0.02724610991864313), (2168, 0.0), (2169, 0.004015281797610845), (2170, 0.01379971769338265), (2171, 0.022612050776561858), (2172, 0.0), (2173, 0.0), (2174, 0.00895197567602445), (2175, 0.011051939214427726), (2176, 0.008264560118815281), (2177, 0.016611798239518357), (2178, 0.003880494770665494), (2179, 0.021343383066915713), (2180, 0.004560371320126721), (2181, 0.0), (2182, 0.0), (2183, 0.026352101326321806), (2184, 0.024858842934405486), (2185, 0.029329490610787972), (2186, 0.0), (2187, 0.0), (2188, 0.0), (2189, 0.0), (2190, 0.048687882191858364), (2191, 0.008099474937511028), (2192, 0.011778135161517012), (2193, 0.0040257845129137385), (2194, 0.0), (2195, 0.02016330146187633), (2196, 0.034627709014207524), (2197, 0.04843987585382946), (2198, 0.011497922237370974), (2199, 0.00974540491242622), (2200, 0.013738865657542265), (2201, 0.03712532462009777), (2202, 0.0), (2203, 0.0), (2204, 0.01103781775728349), (2205, 0.0), (2206, 0.026625767552482332), (2207, 0.01916254589121419), (2208, 0.0), (2209, 0.0), (2210, 0.01927984462936218), (2211, 0.0226478644633021), (2212, 0.02208157861745942), (2213, 0.0), (2214, 0.0), (2215, 0.007489315131915439), (2216, 0.0), (2217, 0.0), (2218, 0.04288424613157417), (2219, 0.0), (2220, 0.012968102059001762), (2221, 0.0399773359720217), (2222, 0.016823543404601026), (2223, 0.008512281219474442), (2224, 0.00757131953530435), (2225, 0.0), (2226, 0.011092161432438354), (2227, 0.023980966634795223), (2228, 0.0), (2229, 0.0), (2230, 0.0), (2231, 0.0), (2232, 0.025853912326738396), (2233, 0.00437808790935133), (2234, 0.0625286063269125), (2235, 0.02093664953289188), (2236, 0.025193549074807087), (2237, 0.02285109658818935), (2238, 0.0), (2239, 0.01167465921740113), (2240, 0.0), (2241, 0.004148568675843649), (2242, 0.0), (2243, 0.0), (2244, 0.0), (2245, 0.027028085107380535), (2246, 0.020463095115949743), (2247, 0.0), (2248, 0.0), (2249, 0.0), (2250, 0.05659857169643365), (2251, 0.0), (2252, 0.008596919430895912), (2253, 0.0), (2254, 0.012172898631463435), (2255, 0.0), (2256, 0.0), (2257, 0.009638819945185064), (2258, 0.0), (2259, 0.011930198726245882), (2260, 0.00800869946090723), (2261, 0.008677896280356482), (2262, 0.01847528923851325), (2263, 0.0541611541581854), (2264, 0.1034495322466014), (2265, 0.006796455337828008), (2266, 0.04031246057619467), (2267, 0.023865793445444136), (2268, 0.014808502360027322), (2269, 0.008689011970962118), (2270, 0.0), (2271, 0.0), (2272, 0.0), (2273, 0.0), (2274, 0.014930899520827932), (2275, 0.0), (2276, 0.0), (2277, 0.004044099913467184), (2278, 0.0040473381997895895), (2279, 0.0), (2280, 0.039580367342069274), (2281, 0.009932337522562161), (2282, 0.0), (2283, 0.04043115488045769), (2284, 0.022842295507168972), (2285, 0.007179661581257168), (2286, 0.0), (2287, 0.006656786934867583), (2288, 0.0), (2289, 0.0), (2290, 0.0560536841348597), (2291, 0.0034179414542243615), (2292, 0.051094799523582354), (2293, 0.0), (2294, 0.0034465241427258718), (2295, 0.0), (2296, 0.009640264200952599), (2297, 0.019435679397869585), (2298, 0.0), (2299, 0.053048542604992206), (2300, 0.0), (2301, 0.014147051577330184), (2302, 0.0), (2303, 0.024633768193551543), (2304, 0.0), (2305, 0.0), (2306, 0.0), (2307, 0.023304324097346972), (2308, 0.0), (2309, 0.0), (2310, 0.0), (2311, 0.012248450060633007), (2312, 0.0), (2313, 0.0), (2314, 0.0), (2315, 0.0), (2316, 0.03235456000082871), (2317, 0.012047748674413354), (2318, 0.006588022134004183), (2319, 0.007777370159410031), (2320, 0.00927575356479163), (2321, 0.06563703977864521), (2322, 0.09782933850237875), (2323, 0.0), (2324, 0.0), (2325, 0.0), (2326, 0.01022432154593245), (2327, 0.030024285869250635), (2328, 0.0), (2329, 0.046488905017701476), (2330, 0.004218082239267808), (2331, 0.012285244594834124), (2332, 0.03542428705159196), (2333, 0.0), (2334, 0.004106275805723729), (2335, 0.07735859928221595), (2336, 0.0), (2337, 0.007926223506189064), (2338, 0.007208872681586976), (2339, 0.004531162879672894), (2340, 0.04701152005018921), (2341, 0.0), (2342, 0.0), (2343, 0.0), (2344, 0.0), (2345, 0.0), (2346, 0.0), (2347, 0.008302200601483503), (2348, 0.0), (2349, 0.0), (2350, 0.0), (2351, 0.013698039944859672), (2352, 0.02788362363951278), (2353, 0.02971353910960424), (2354, 0.01135503091839061), (2355, 0.0), (2356, 0.0), (2357, 0.0), (2358, 0.010787920037679996), (2359, 0.07462260192745108), (2360, 0.043606571454626486), (2361, 0.0), (2362, 0.0), (2363, 0.004930190917623584), (2364, 0.006019344699240804), (2365, 0.058541090922223094), (2366, 0.01308646854201608), (2367, 0.02566256507250762), (2368, 0.024284391008418487), (2369, 0.0), (2370, 0.05226547647419867), (2371, 0.00810995570658193), (2372, 0.03627975518462159), (2373, 0.0), (2374, 0.0), (2375, 0.01246218483112196), (2376, 0.009341881991393177), (2377, 0.0031669321854172964), (2378, 0.010628487286274526), (2379, 0.01080451996161887), (2380, 0.0), (2381, 0.00834701542808895), (2382, 0.0), (2383, 0.0), (2384, 0.0), (2385, 0.0), (2386, 0.0), (2387, 0.01619182650910448), (2388, 0.0), (2389, 0.0066780007159713654), (2390, 0.02102851766094769), (2391, 0.01763583433502021), (2392, 0.034552769430049896), (2393, 0.06152661757645346), (2394, 0.0), (2395, 0.0), (2396, 0.0), (2397, 0.0), (2398, 0.03226831796038451), (2399, 0.00833660341325094), (2400, 0.0), (2401, 0.0072759399218978275), (2402, 0.010591825996474033), (2403, 0.0), (2404, 0.0), (2405, 0.012164185675204333), (2406, 0.05777156895906732), (2407, 0.0), (2408, 0.03290417268467845), (2409, 0.012401301443043033), (2410, 0.0), (2411, 0.0325718512331006), (2412, 0.010392278544784014), (2413, 0.015478639234324148), (2414, 0.025120233299528644), (2415, 0.0), (2416, 0.003931948219114944), (2417, 0.0), (2418, 0.0042288367549686645), (2419, 0.00786540090408813), (2420, 0.0), (2421, 0.020894570478453063), (2422, 0.0077452169550966754), (2423, 0.009434923649043962), (2424, 0.0), (2425, 0.0), (2426, 0.0), (2427, 0.009268150941285842), (2428, 0.0), (2429, 0.0), (2430, 0.02485395980105868), (2431, 0.004105994367912014), (2432, 0.003845459864611052), (2433, 0.0789237028502397), (2434, 0.0), (2435, 0.00739276631217611), (2436, 0.004458924292992399), (2437, 0.0), (2438, 0.0), (2439, 0.0), (2440, 0.03041240690550114), (2441, 0.00947083419412101), (2442, 0.022874989911317235), (2443, 0.06715451787979491), (2444, 0.004069432555629688), (2445, 0.05673254753998482), (2446, 0.003705423880647029), (2447, 0.003421685001394444), (2448, 0.009777239709224951), (2449, 0.007535049033259396), (2450, 0.030330206121630107), (2451, 0.02248024586156325), (2452, 0.0), (2453, 0.0), (2454, 0.0), (2455, 0.0), (2456, 0.00772699456009839), (2457, 0.029450301639071856), (2458, 0.004347636447275166), (2459, 0.013807161420009099), (2460, 0.010192589977424203), (2461, 0.007258860242517711), (2462, 0.022426654037983943), (2463, 0.003921502868886926), (2464, 0.0), (2465, 0.01591409882036321), (2466, 0.007688591497147473), (2467, 0.0), (2468, 0.0), (2469, 0.0), (2470, 0.004505825091076091), (2471, 0.0), (2472, 0.012337118326255789), (2473, 0.039599617129819464), (2474, 0.00918242157753891), (2475, 0.0), (2476, 0.030090886893625636), (2477, 0.0), (2478, 0.0), (2479, 0.01501304568889545), (2480, 0.020042849229723714), (2481, 0.012768978224871498), (2482, 0.003677324397567468), (2483, 0.0), (2484, 0.027986203584358667), (2485, 0.021773073608094065), (2486, 0.004554946129623041), (2487, 0.0040431674616409445), (2488, 0.0), (2489, 0.0), (2490, 0.0), (2491, 0.003678250733925743), (2492, 0.008028925004318727), (2493, 0.0), (2494, 0.020210697591576787), (2495, 0.0), (2496, 0.013799818339402234), (2497, 0.0036845876535430717), (2498, 0.007859425982144903), (2499, 0.0), (2500, 0.0), (2501, 0.004008681561144096), (2502, 0.035252749108973684), (2503, 0.0039560751498914715), (2504, 0.024331241831147956), (2505, 0.0), (2506, 0.0), (2507, 0.04234128496883922), (2508, 0.0), (2509, 0.04715349797909669), (2510, 0.03976373377287586), (2511, 0.004135220885972753), (2512, 0.0), (2513, 0.011100239064031365), (2514, 0.026532920929525604), (2515, 0.0), (2516, 0.02217772603087699), (2517, 0.04218262422764951), (2518, 0.0045037503249639645), (2519, 0.0), (2520, 0.007829078460815604), (2521, 0.027250272898552946), (2522, 0.0), (2523, 0.0), (2524, 0.009909747078515106), (2525, 0.019310633516847232), (2526, 0.01332637368313331), (2527, 0.0), (2528, 0.010861188404279356), (2529, 0.0), (2530, 0.009515361698677978), (2531, 0.011960115296509411), (2532, 0.04331156628245157), (2533, 0.011409216940195583), (2534, 0.0053390185259125575), (2535, 0.0), (2536, 0.0), (2537, 0.0), (2538, 0.005403709160891044), (2539, 0.018170101286289805), (2540, 0.029698710540590666), (2541, 0.033571158193712376), (2542, 0.0), (2543, 0.0), (2544, 0.007481169284417409), (2545, 0.0), (2546, 0.004153126623893516), (2547, 0.005253538167413895), (2548, 0.01832158795345304), (2549, 0.007582572943354943), (2550, 0.011933047010816556), (2551, 0.0), (2552, 0.012173623048236071), (2553, 0.05044693299666424), (2554, 0.023922544130251695), (2555, 0.008513445142039716), (2556, 0.0), (2557, 0.0), (2558, 0.0), (2559, 0.0), (2560, 0.046914763365282726), (2561, 0.0), (2562, 0.020185421192867533), (2563, 0.027167866421511432), (2564, 0.0), (2565, 0.0), (2566, 0.0), (2567, 0.0), (2568, 0.07539160501008227), (2569, 0.0), (2570, 0.0385330665729538), (2571, 0.003854433041030196), (2572, 0.0), (2573, 0.010080868269506023), (2574, 0.01310553555463202), (2575, 0.0), (2576, 0.0), (2577, 0.023422914214425567), (2578, 0.01516781322394127), (2579, 0.021501314848615602), (2580, 0.03442121942325404), (2581, 0.004985352199621288), (2582, 0.015777627463617265), (2583, 0.03332009885980483), (2584, 0.05473616395819486), (2585, 0.022073348719294953), (2586, 0.012460430680953899), (2587, 0.0035403871875028838), (2588, 0.03318710604297702), (2589, 0.023122441506575622), (2590, 0.006969252389379995), (2591, 0.09086127146024525), (2592, 0.016576216675557552), (2593, 0.0069072514043485595), (2594, 0.013821612322314889), (2595, 0.014582255215812235), (2596, 0.0), (2597, 0.0), (2598, 0.0), (2599, 0.0), (2600, 0.0), (2601, 0.009418731060564088), (2602, 0.0), (2603, 0.01916583958388727), (2604, 0.008147401002138488), (2605, 0.023100872585385797), (2606, 0.0), (2607, 0.0), (2608, 0.003494253322274443), (2609, 0.0042552803973743), (2610, 0.004216173926008525), (2611, 0.043779866554153134), (2612, 0.02296080028639549), (2613, 0.0), (2614, 0.008129040927541048), (2615, 0.08535993272830238), (2616, 0.015121483854757901), (2617, 0.006600579700798341), (2618, 0.014053961869004166), (2619, 0.0), (2620, 0.0), (2621, 0.0), (2622, 0.01104701865354379), (2623, 0.07232393083619366), (2624, 0.0), (2625, 0.013750693141626786), (2626, 0.01619520313011182), (2627, 0.003357377867739199), (2628, 0.0), (2629, 0.03004033349156127), (2630, 0.0), (2631, 0.0037886269027892637), (2632, 0.016610460035291402), (2633, 0.017099306678361646), (2634, 0.02852597611295053), (2635, 0.0), (2636, 0.02757458579734542), (2637, 0.022017624675134257), (2638, 0.004532874654370976), (2639, 0.0), (2640, 0.0041742495079745996), (2641, 0.0), (2642, 0.02570207880456923), (2643, 0.009682401757949469), (2644, 0.032411991027673594), (2645, 0.005134288421465356), (2646, 0.036192218719069705), (2647, 0.10610558454863812), (2648, 0.0), (2649, 0.04101294000832332), (2650, 0.007778335117089325), (2651, 0.0), (2652, 0.021160521709599138), (2653, 0.029460272965567972), (2654, 0.068431423423113), (2655, 0.0), (2656, 0.019526711586686597), (2657, 0.0), (2658, 0.0), (2659, 0.0), (2660, 0.040114406525431405), (2661, 0.03173497417250654), (2662, 0.032000850712250874), (2663, 0.020263525036136765), (2664, 0.030954141971109527), (2665, 0.018720747529328213), (2666, 0.033336644652344316), (2667, 0.036060140621388626), (2668, 0.05480265919586438), (2669, 0.0), (2670, 0.0), (2671, 0.0359802978419718), (2672, 0.012862830493175388), (2673, 0.0053071112339500475), (2674, 0.0), (2675, 0.0041821579312037475), (2676, 0.0), (2677, 0.015810462222688674), (2678, 0.0), (2679, 0.0), (2680, 0.007648317292919016), (2681, 0.0), (2682, 0.07175342739164203), (2683, 0.02001239107127177), (2684, 0.0), (2685, 0.011869485370683016), (2686, 0.007804250461170973), (2687, 0.008885380473599122), (2688, 0.01795736594087209), (2689, 0.004229081629408725), (2690, 0.0), (2691, 0.004150602242112317), (2692, 0.0), (2693, 0.0), (2694, 0.0), (2695, 0.0), (2696, 0.014296055450210577), (2697, 0.012080471333667981), (2698, 0.012686211824199217), (2699, 0.0), (2700, 0.0), (2701, 0.0), (2702, 0.0), (2703, 0.0), (2704, 0.04135480333397441), (2705, 0.0), (2706, 0.003792798502014165), (2707, 0.0), (2708, 0.021334980205579397), (2709, 0.0), (2710, 0.047303970617822384), (2711, 0.03156550945294352), (2712, 0.013912075683304364), (2713, 0.04221506715132549), (2714, 0.0), (2715, 0.017699188701988233), (2716, 0.0), (2717, 0.022898828275801832), (2718, 0.0), (2719, 0.042336292728442367), (2720, 0.04521002710753387), (2721, 0.006505185961954391), (2722, 0.0), (2723, 0.019161373355388613), (2724, 0.0070901089046511625), (2725, 0.013925302617222114), (2726, 0.0), (2727, 0.0), (2728, 0.0), (2729, 0.03084292497626498), (2730, 0.015998247533731226), (2731, 0.0), (2732, 0.020065268076054563), (2733, 0.025237808212260297), (2734, 0.026666926262197244), (2735, 0.0), (2736, 0.0), (2737, 0.0), (2738, 0.004708022670320722), (2739, 0.004378117315767447), (2740, 0.004491912282117531), (2741, 0.017271433824812818), (2742, 0.0), (2743, 0.0), (2744, 0.0), (2745, 0.0), (2746, 0.02016091841897728), (2747, 0.059934893395517545), (2748, 0.0), (2749, 0.028982407870446893), (2750, 0.010654116593433814), (2751, 0.008564360890055892), (2752, 0.05805965476503995), (2753, 0.047668001098130595), (2754, 0.0), (2755, 0.019822147945777906), (2756, 0.009012534623244453), (2757, 0.0), (2758, 0.006358274818904255), (2759, 0.04010483562858219), (2760, 0.04763287146632145), (2761, 0.013194859434731589), (2762, 0.020814671539847045), (2763, 0.015103640004115383), (2764, 0.0), (2765, 0.007584344176096575), (2766, 0.03895430216690844), (2767, 0.0), (2768, 0.0), (2769, 0.0), (2770, 0.019609657415742113), (2771, 0.009625480818716186), (2772, 0.008868401527040685), (2773, 0.0), (2774, 0.003187926149224172), (2775, 0.0), (2776, 0.00972692807014159), (2777, 0.003691453914610846), (2778, 0.0), (2779, 0.0), (2780, 0.0), (2781, 0.025224640219328374), (2782, 0.044960306278513704), (2783, 0.028948419081205944), (2784, 0.0040777201013824475), (2785, 0.004567750758299282), (2786, 0.0), (2787, 0.0), (2788, 0.02058176510943992), (2789, 0.04025111577064011), (2790, 0.004194626947621982), (2791, 0.007317566823972999), (2792, 0.0042266530443838), (2793, 0.02033697964033173), (2794, 0.0), (2795, 0.0), (2796, 0.02600058278911401), (2797, 0.0), (2798, 0.008102414204792881), (2799, 0.00837928317809264), (2800, 0.0), (2801, 0.011169571769481901), (2802, 0.0), (2803, 0.0), (2804, 0.011347190877634665), (2805, 0.003488633079823132), (2806, 0.0515965355605255), (2807, 0.01277387544444723), (2808, 0.0038657455124600924), (2809, 0.06651056342306125), (2810, 0.00839051645350662), (2811, 0.0), (2812, 0.010815278664266265), (2813, 0.06507382071091719), (2814, 0.04316788992797462), (2815, 0.0), (2816, 0.004127925113142491), (2817, 0.013884171400228944), (2818, 0.005586731681018799), (2819, 0.0), (2820, 0.0), (2821, 0.01722683089717283), (2822, 0.011602915117317076), (2823, 0.0), (2824, 0.04978102540560871), (2825, 0.0), (2826, 0.009079533521848312), (2827, 0.0), (2828, 0.0), (2829, 0.012474968779616409), (2830, 0.0), (2831, 0.03231182166644513), (2832, 0.0), (2833, 0.0), (2834, 0.004949488306185598), (2835, 0.07005265007764211), (2836, 0.01638375928085816), (2837, 0.0), (2838, 0.0), (2839, 0.02938100078438234), (2840, 0.022547924421213686), (2841, 0.0157488403865684), (2842, 0.0034492619207095038), (2843, 0.0), (2844, 0.02682212353615393), (2845, 0.008312522009847749), (2846, 0.0), (2847, 0.0), (2848, 0.0), (2849, 0.0), (2850, 0.0), (2851, 0.029175928462707112), (2852, 0.03222860518774136), (2853, 0.0), (2854, 0.05175572045924773), (2855, 0.003383179358822988), (2856, 0.038458867715803244), (2857, 0.06753620424726921), (2858, 0.0), (2859, 0.00378232485939556), (2860, 0.0), (2861, 0.0), (2862, 0.007435995192672182), (2863, 0.0), (2864, 0.03360315005412408), (2865, 0.011729744747527058), (2866, 0.0), (2867, 0.018283471504243996), (2868, 0.0), (2869, 0.0), (2870, 0.0), (2871, 0.0), (2872, 0.0), (2873, 0.013034249949158822), (2874, 0.0037026937949861663), (2875, 0.0), (2876, 0.012324314408023958), (2877, 0.0), (2878, 0.016821826355253526), (2879, 0.0), (2880, 0.0), (2881, 0.0), (2882, 0.013363872438224607), (2883, 0.0), (2884, 0.0357668376527903), (2885, 0.014881822429539577), (2886, 0.0), (2887, 0.007585844430712624), (2888, 0.0), (2889, 0.0), (2890, 0.0), (2891, 0.0), (2892, 0.003786995180706534), (2893, 0.0), (2894, 0.0), (2895, 0.0), (2896, 0.007602567529946121), (2897, 0.09714947434738225), (2898, 0.0), (2899, 0.019004428157047587), (2900, 0.003976806940383486), (2901, 0.009612071476803903), (2902, 0.0), (2903, 0.0), (2904, 0.012791359360581567), (2905, 0.0), (2906, 0.00351230767395178), (2907, 0.0), (2908, 0.0335670262372114), (2909, 0.007301516885465927), (2910, 0.0039033924270443815), (2911, 0.004152058420418909), (2912, 0.008744948540867563), (2913, 0.018635257308348568), (2914, 0.0), (2915, 0.012718668515969315), (2916, 0.00838578354789679), (2917, 0.0), (2918, 0.010928793194991149), (2919, 0.0), (2920, 0.003650236784677325), (2921, 0.03815393108451097), (2922, 0.0), (2923, 0.0), (2924, 0.018819252725992823), (2925, 0.039086057988002465), (2926, 0.0), (2927, 0.02536455918086826), (2928, 0.0), (2929, 0.018030727927584925), (2930, 0.0), (2931, 0.013989852748991774), (2932, 0.0), (2933, 0.003388012094407071), (2934, 0.0), (2935, 0.008020967270255856), (2936, 0.0), (2937, 0.0), (2938, 0.06958260068910298), (2939, 0.0), (2940, 0.004264130786309273), (2941, 0.0), (2942, 0.01126719072485664), (2943, 0.0), (2944, 0.038032619675238105), (2945, 0.0), (2946, 0.0), (2947, 0.0), (2948, 0.0), (2949, 0.0), (2950, 0.0), (2951, 0.022338890923399742), (2952, 0.018571216591191042), (2953, 0.0), (2954, 0.014871950218868921), (2955, 0.0), (2956, 0.0), (2957, 0.02892333652328103), (2958, 0.010895938737987138), (2959, 0.0), (2960, 0.0), (2961, 0.0), (2962, 0.03162883607167258), (2963, 0.004259681670754197), (2964, 0.026281581670978625), (2965, 0.032853079677528), (2966, 0.0), (2967, 0.0), (2968, 0.0), (2969, 0.003308840368476438), (2970, 0.0), (2971, 0.0), (2972, 0.007056820003117181), (2973, 0.0), (2974, 0.0), (2975, 0.007009850085146346), (2976, 0.013413006485408663), (2977, 0.004084866364464328), (2978, 0.0), (2979, 0.0), (2980, 0.04476672397027532), (2981, 0.016506333924883286), (2982, 0.013995683360886694), (2983, 0.0), (2984, 0.0), (2985, 0.006655365752070137), (2986, 0.0), (2987, 0.0), (2988, 0.0), (2989, 0.0), (2990, 0.0), (2991, 0.0), (2992, 0.003719834336713239), (2993, 0.0), (2994, 0.0), (2995, 0.0), (2996, 0.018719755598525872), (2997, 0.0), (2998, 0.011239283713059331), (2999, 0.01162931447590258), (3000, 0.009246872446626997), (3001, 0.0), (3002, 0.0), (3003, 0.04032109755782537), (3004, 0.0), (3005, 0.0), (3006, 0.0), (3007, 0.0), (3008, 0.0), (3009, 0.0), (3010, 0.01640303175202456), (3011, 0.0038524316705684913), (3012, 0.0), (3013, 0.0), (3014, 0.008525808118204348), (3015, 0.02879023927545455), (3016, 0.0), (3017, 0.0), (3018, 0.004166334670125144), (3019, 0.0), (3020, 0.0), (3021, 0.0), (3022, 0.01978920315750882), (3023, 0.0), (3024, 0.021590818830599916), (3025, 0.0), (3026, 0.0), (3027, 0.05459154483454677), (3028, 0.01573946857873923), (3029, 0.0), (3030, 0.06894700767434564), (3031, 0.0), (3032, 0.0), (3033, 0.0114695538542763), (3034, 0.01177173911054998), (3035, 0.0), (3036, 0.0), (3037, 0.0), (3038, 0.0), (3039, 0.004514483586038442), (3040, 0.0), (3041, 0.0), (3042, 0.0), (3043, 0.018692399706677083), (3044, 0.0), (3045, 0.01761398730483516), (3046, 0.003912883172965187), (3047, 0.031405905635894675), (3048, 0.0), (3049, 0.0), (3050, 0.0), (3051, 0.0), (3052, 0.0), (3053, 0.0038284855271606168), (3054, 0.0), (3055, 0.0), (3056, 0.0), (3057, 0.023072136970851066), (3058, 0.00741949311384226), (3059, 0.0), (3060, 0.01250093917025808), (3061, 0.0), (3062, 0.0), (3063, 0.0), (3064, 0.0), (3065, 0.015175678151961186), (3066, 0.011212310229283796), (3067, 0.0), (3068, 0.0), (3069, 0.0), (3070, 0.0), (3071, 0.0037367758667309426), (3072, 0.0), (3073, 0.007872341785852131), (3074, 0.027874627310514384), (3075, 0.0), (3076, 0.0), (3077, 0.010712605734056305), (3078, 0.009620245572474418), (3079, 0.0), (3080, 0.008344761880394147), (3081, 0.008810663695053627), (3082, 0.0), (3083, 0.01514094899707711), (3084, 0.007940327361359573), (3085, 0.0), (3086, 0.0), (3087, 0.0), (3088, 0.0), (3089, 0.009096119343049606), (3090, 0.0), (3091, 0.046555196964670476), (3092, 0.03736275200961224), (3093, 0.0), (3094, 0.013684855821080427), (3095, 0.0), (3096, 0.02504885476983354), (3097, 0.0), (3098, 0.02703369498400235), (3099, 0.0), (3100, 0.0), (3101, 0.021906479117874824), (3102, 0.0), (3103, 0.03647082905119451), (3104, 0.0343025532955279), (3105, 0.0), (3106, 0.014709676623606057), (3107, 0.0), (3108, 0.00358066134119739), (3109, 0.036833555416971454), (3110, 0.018254552454608348), (3111, 0.03552290502086481), (3112, 0.008050383479440964), (3113, 0.009211471705166984), (3114, 0.0), (3115, 0.0), (3116, 0.06223772017955976), (3117, 0.010353413765132026), (3118, 0.0), (3119, 0.03980520048619642), (3120, 0.06750882634324287), (3121, 0.019151805086933364), (3122, 0.007611712424345636), (3123, 0.0), (3124, 0.0), (3125, 0.004009199198684683), (3126, 0.0), (3127, 0.003864393678359861), (3128, 0.02863955366053713), (3129, 0.04135369776921625), (3130, 0.0), (3131, 0.004268232055034473), (3132, 0.0), (3133, 0.030561745624055014), (3134, 0.0), (3135, 0.0), (3136, 0.0), (3137, 0.013897095696386435), (3138, 0.018790985824610147), (3139, 0.0), (3140, 0.0), (3141, 0.014900001038286623), (3142, 0.015866731917149816), (3143, 0.0), (3144, 0.08842459445685977), (3145, 0.005183070731796478), (3146, 0.0), (3147, 0.0), (3148, 0.013241971517763875), (3149, 0.014789894685064097), (3150, 0.004174087095932324), (3151, 0.010931758617838034), (3152, 0.013273994295223624), (3153, 0.0), (3154, 0.0), (3155, 0.016338117470924254), (3156, 0.015903664969013392), (3157, 0.0), (3158, 0.0), (3159, 0.0), (3160, 0.0), (3161, 0.0), (3162, 0.13915488516680705), (3163, 0.0), (3164, 0.0033784649585778745), (3165, 0.0), (3166, 0.0), (3167, 0.020346695263632135), (3168, 0.0), (3169, 0.0), (3170, 0.0), (3171, 0.0), (3172, 0.00464537682686343), (3173, 0.023629375628958123), (3174, 0.003978842621593819), (3175, 0.009677669672845418), (3176, 0.0), (3177, 0.0), (3178, 0.0), (3179, 0.022723377081906766), (3180, 0.0136821006456115), (3181, 0.13101873188620575), (3182, 0.0), (3183, 0.009889708530996445), (3184, 0.0), (3185, 0.0), (3186, 0.0), (3187, 0.007878329747347312), (3188, 0.011682303848664517), (3189, 0.007865639504123056), (3190, 0.0), (3191, 0.0), (3192, 0.0), (3193, 0.0037476308567082166), (3194, 0.0), (3195, 0.008887665960622513), (3196, 0.0), (3197, 0.0), (3198, 0.0), (3199, 0.046717092154602756), (3200, 0.003389746166858168), (3201, 0.07202642708266355), (3202, 0.0), (3203, 0.0), (3204, 0.010021759913437015), (3205, 0.017805264784222827), (3206, 0.013724748819103436), (3207, 0.0), (3208, 0.05835877952922548), (3209, 0.023202937410192574), (3210, 0.0), (3211, 0.027686883881749808), (3212, 0.059800052261914156), (3213, 0.06926813894956928), (3214, 0.015491873952276298), (3215, 0.007553015175525374), (3216, 0.017779304593526352), (3217, 0.029277839565803876), (3218, 0.02622021236867287), (3219, 0.009783803621806069), (3220, 0.0), (3221, 0.025522973491462722), (3222, 0.006652612082166096), (3223, 0.0), (3224, 0.009402706287918297), (3225, 0.06303302532566538), (3226, 0.02010159830718703), (3227, 0.0), (3228, 0.04510043424394267), (3229, 0.03571062468354526), (3230, 0.00460582403803784), (3231, 0.022672847812035157), (3232, 0.0), (3233, 0.004104228143594718), (3234, 0.0169047143549828), (3235, 0.017602549394928866), (3236, 0.03149895527737052), (3237, 0.018515464933196106), (3238, 0.036073552311471246), (3239, 0.0), (3240, 0.0038552045591154463), (3241, 0.0), (3242, 0.0), (3243, 0.019298536168922787), (3244, 0.019538927458944956), (3245, 0.0), (3246, 0.0038245844561252207), (3247, 0.014933916442821589), (3248, 0.0), (3249, 0.0), (3250, 0.0), (3251, 0.014086229414093952), (3252, 0.022576157928657362), (3253, 0.0), (3254, 0.009275133433721107), (3255, 0.0), (3256, 0.11558704877764754), (3257, 0.05475224720073647), (3258, 0.0), (3259, 0.004207392540916725), (3260, 0.05313490690889292), (3261, 0.0), (3262, 0.0), (3263, 0.0288295987463573), (3264, 0.004212527812101575), (3265, 0.008222701511805089), (3266, 0.0), (3267, 0.0), (3268, 0.0), (3269, 0.017553034801306117), (3270, 0.043718194536121135), (3271, 0.004310644160583386), (3272, 0.032848413372630336), (3273, 0.01262897683696138), (3274, 0.0), (3275, 0.0), (3276, 0.0), (3277, 0.004200725325451118), (3278, 0.0), (3279, 0.018276894430811305), (3280, 0.0037142780742668775), (3281, 0.0), (3282, 0.02869883797215058), (3283, 0.07451804114763955), (3284, 0.01192530846485049), (3285, 0.0), (3286, 0.03337445733103648), (3287, 0.021638202364936063), (3288, 0.04908473109431775), (3289, 0.016922067815428807), (3290, 0.0), (3291, 0.0), (3292, 0.0), (3293, 0.014512816492936705), (3294, 0.029741115642495694), (3295, 0.0036305852135904097), (3296, 0.0), (3297, 0.03326330392522704), (3298, 0.036201011595064), (3299, 0.003964282387867356), (3300, 0.0), (3301, 0.0), (3302, 0.04638015135378244), (3303, 0.015603658567276689), (3304, 0.0), (3305, 0.0), (3306, 0.028460556862525563), (3307, 0.0), (3308, 0.034373949410905054), (3309, 0.0), (3310, 0.0), (3311, 0.011778402141815768), (3312, 0.02348116780561653), (3313, 0.024924800294123764), (3314, 0.0), (3315, 0.021672903587483014), (3316, 0.003068839970988132), (3317, 0.02821018190456634), (3318, 0.011083861673505575), (3319, 0.0), (3320, 0.0362203192334138), (3321, 0.003691298305600058), (3322, 0.0), (3323, 0.0), (3324, 0.0), (3325, 0.029501445102763476), (3326, 0.0), (3327, 0.007156874695919397), (3328, 0.03131040066660814), (3329, 0.00825647785197113), (3330, 0.015280996637682426), (3331, 0.057659210966170146), (3332, 0.0), (3333, 0.0), (3334, 0.0), (3335, 0.007564250958092457), (3336, 0.003590857437172138), (3337, 0.0), (3338, 0.01987159143178789), (3339, 0.0), (3340, 0.0), (3341, 0.0), (3342, 0.019037454676741006), (3343, 0.018726936208726536), (3344, 0.028227285977056916), (3345, 0.009315180354202597), (3346, 0.04695148733912141), (3347, 0.0), (3348, 0.0), (3349, 0.0), (3350, 0.018924135799375786), (3351, 0.0), (3352, 0.0), (3353, 0.0), (3354, 0.0), (3355, 0.0), (3356, 0.003009004773362074), (3357, 0.0), (3358, 0.0), (3359, 0.0), (3360, 0.020270194436303686), (3361, 0.040469026245519235), (3362, 0.0031590984698649433), (3363, 0.0), (3364, 0.00460551175060223), (3365, 0.020826731591428168), (3366, 0.028937055307800788), (3367, 0.025583611735316716), (3368, 0.0038950174383932394), (3369, 0.01046347656187034), (3370, 0.016033380217773896), (3371, 0.0), (3372, 0.0), (3373, 0.032375772193815475), (3374, 0.003959258282589302), (3375, 0.021452894598486254), (3376, 0.01339396935951737), (3377, 0.0), (3378, 0.004163015154387707), (3379, 0.03727097726957207), (3380, 0.0347113357135532), (3381, 0.0), (3382, 0.0), (3383, 0.0), (3384, 0.0046771584187266565), (3385, 0.0), (3386, 0.020484361244642157), (3387, 0.017919352769036067), (3388, 0.0), (3389, 0.020987528639745297), (3390, 0.1073194239226595), (3391, 0.0), (3392, 0.016845818075356865), (3393, 0.021775623526259183), (3394, 0.0), (3395, 0.019228177502421038), (3396, 0.0), (3397, 0.025944984787082265), (3398, 0.0), (3399, 0.012164864368735666), (3400, 0.008832159072881998), (3401, 0.0), (3402, 0.0), (3403, 0.026895503030000746), (3404, 0.0), (3405, 0.0), (3406, 0.0), (3407, 0.03079221187114986), (3408, 0.014221817295249604), (3409, 0.006807361037866848), (3410, 0.0032103790770500566), (3411, 0.011423795379078868), (3412, 0.04595423641381576), (3413, 0.014047854903063072), (3414, 0.008931629148161075), (3415, 0.07239076680305781), (3416, 0.01133310534693163), (3417, 0.0), (3418, 0.0), (3419, 0.0), (3420, 0.019443090406167873), (3421, 0.024274303370372837), (3422, 0.02334167321004219), (3423, 0.0), (3424, 0.01311297042418812), (3425, 0.014249738127429593), (3426, 0.0), (3427, 0.014812141829649739), (3428, 0.0), (3429, 0.0), (3430, 0.022497952056895105), (3431, 0.0), (3432, 0.0), (3433, 0.0), (3434, 0.0), (3435, 0.003950717348015181), (3436, 0.0), (3437, 0.0), (3438, 0.004259027501626991), (3439, 0.0), (3440, 0.0), (3441, 0.028528887371771335), (3442, 0.024438278480057668), (3443, 0.011188822861155315), (3444, 0.027469849938502953), (3445, 0.0), (3446, 0.004097180514128734), (3447, 0.012723400382180304), (3448, 0.004839629238132147), (3449, 0.0), (3450, 0.004633389951271543), (3451, 0.029856888670600417), (3452, 0.008421511317116381), (3453, 0.0), (3454, 0.007804992140903728), (3455, 0.0), (3456, 0.02323501612411947), (3457, 0.03967870978559664), (3458, 0.015971302782940476), (3459, 0.029808992364627314), (3460, 0.0), (3461, 0.05358830588902369), (3462, 0.0), (3463, 0.004115406077263498), (3464, 0.0042281566879340815), (3465, 0.003789380227319695), (3466, 0.011577522759963427), (3467, 0.14647318067016865), (3468, 0.024486090161181126), (3469, 0.004467733630235373), (3470, 0.0), (3471, 0.08162256634106319), (3472, 0.009484719690149409), (3473, 0.023773506524546732), (3474, 0.010307668706251397), (3475, 0.0), (3476, 0.020642493559067086), (3477, 0.016150715711747685), (3478, 0.0), (3479, 0.0), (3480, 0.0), (3481, 0.0209734690495056), (3482, 0.021059168343599326), (3483, 0.023430497977279363), (3484, 0.03594406332551596), (3485, 0.01859959530971716), (3486, 0.0), (3487, 0.008683306498998762), (3488, 0.03458460963358733), (3489, 0.04890387838037329), (3490, 0.0), (3491, 0.004005155798938927), (3492, 0.003984584495995965), (3493, 0.0), (3494, 0.0), (3495, 0.0371788498984867), (3496, 0.0), (3497, 0.0), (3498, 0.0), (3499, 0.0), (3500, 0.0), (3501, 0.011888519838464345), (3502, 0.004828830836781121), (3503, 0.028730923274157168), (3504, 0.003821226365084901), (3505, 0.023391453761995636), (3506, 0.033176124820740276), (3507, 0.004135690923459145), (3508, 0.017582759575888635), (3509, 0.06040789697546231), (3510, 0.0), (3511, 0.012311253142926958), (3512, 0.02061590200945963), (3513, 0.0), (3514, 0.0), (3515, 0.05106337951543396), (3516, 0.004338852576820414), (3517, 0.02603024197667956), (3518, 0.01923304810010917), (3519, 0.0), (3520, 0.009142622413987276), (3521, 0.0), (3522, 0.0), (3523, 0.0), (3524, 0.008808355327780898), (3525, 0.0), (3526, 0.03116521836825717), (3527, 0.0), (3528, 0.0), (3529, 0.00992403119436221), (3530, 0.0), (3531, 0.045485102219215895), (3532, 0.0), (3533, 0.007111926984402817), (3534, 0.0), (3535, 0.0), (3536, 0.011907465092477285), (3537, 0.018303069547245462), (3538, 0.003181089712347288), (3539, 0.022299553782785312), (3540, 0.06724386005195462), (3541, 0.017972127655648942), (3542, 0.0), (3543, 0.0), (3544, 0.0), (3545, 0.007430913065708163), (3546, 0.01508313916783079), (3547, 0.0), (3548, 0.041750227673031895), (3549, 0.004125926789892404), (3550, 0.026719805638545407), (3551, 0.0040265294150629285), (3552, 0.0), (3553, 0.016082551758278364), (3554, 0.009062663321700424), (3555, 0.02144787873710938), (3556, 0.010142772700543664), (3557, 0.03065508787086427), (3558, 0.008337822165078067), (3559, 0.05797677337941172), (3560, 0.0), (3561, 0.0), (3562, 0.03695377377142941), (3563, 0.010459387454433094), (3564, 0.0040049718224757875), (3565, 0.0), (3566, 0.0037474647347305106), (3567, 0.003822300018265257), (3568, 0.0038260659391022326), (3569, 0.0), (3570, 0.0), (3571, 0.02323223636503603), (3572, 0.0), (3573, 0.0), (3574, 0.01607554980189584), (3575, 0.0), (3576, 0.0), (3577, 0.004930353875051802), (3578, 0.02055802150471965), (3579, 0.011114294060727201), (3580, 0.0), (3581, 0.008229906308432353), (3582, 0.021855947325517624), (3583, 0.0), (3584, 0.0), (3585, 0.008802379862719353), (3586, 0.004293480857798415), (3587, 0.004494045341617138), (3588, 0.0), (3589, 0.02661338236406993), (3590, 0.0), (3591, 0.0), (3592, 0.0), (3593, 0.02208563097268717), (3594, 0.020136739080407508), (3595, 0.0), (3596, 0.0), (3597, 0.0), (3598, 0.0035315962141945355), (3599, 0.004165522388205852), (3600, 0.0), (3601, 0.0), (3602, 0.011153834702853528), (3603, 0.0), (3604, 0.01620776622463147), (3605, 0.0), (3606, 0.043049186275205445), (3607, 0.05584140575211796), (3608, 0.0), (3609, 0.0), (3610, 0.013554095355211099), (3611, 0.0435817839694538), (3612, 0.026687136289099918), (3613, 0.009234180308654139), (3614, 0.0), (3615, 0.011013662708139043), (3616, 0.06533472902426947), (3617, 0.0), (3618, 0.004228810531040094), (3619, 0.010789812314409602), (3620, 0.009116333975871164), (3621, 0.07320150979042392), (3622, 0.0), (3623, 0.0), (3624, 0.0), (3625, 0.0), (3626, 0.012033750842811452), (3627, 0.016531018307941157), (3628, 0.022888783936979774), (3629, 0.0), (3630, 0.015589874255186053), (3631, 0.03626752742010433), (3632, 0.07837866253705654), (3633, 0.025891988993422432), (3634, 0.0), (3635, 0.0), (3636, 0.0), (3637, 0.011386925712458286), (3638, 0.004973992651269209), (3639, 0.0), (3640, 0.0), (3641, 0.0038529692049307164), (3642, 0.0), (3643, 0.011658491182073242), (3644, 0.015064865788867112), (3645, 0.0), (3646, 0.010851365727722459), (3647, 0.01209974320878397), (3648, 0.05264952864177422), (3649, 0.0), (3650, 0.04667174033471747), (3651, 0.014895281109929125), (3652, 0.0), (3653, 0.038898059430700904), (3654, 0.004195743655625593), (3655, 0.0034719484716393694), (3656, 0.016465655500948233), (3657, 0.031134531615646832), (3658, 0.02815222762107808), (3659, 0.08033437314702277), (3660, 0.09156161733706282), (3661, 0.004549999636937983), (3662, 0.05014194846953543), (3663, 0.0), (3664, 0.0), (3665, 0.05721419433613892), (3666, 0.015321755824177087), (3667, 0.003050132502612915), (3668, 0.03459884942703041), (3669, 0.0), (3670, 0.0), (3671, 0.026054435944742313), (3672, 0.0), (3673, 0.019104511337029194), (3674, 0.02468891874454713), (3675, 0.0), (3676, 0.0), (3677, 0.00875839321086995), (3678, 0.013852065914861083), (3679, 0.0), (3680, 0.0), (3681, 0.017412283206002147), (3682, 0.008312507402481559), (3683, 0.033512484113879366), (3684, 0.017545164528659386), (3685, 0.036453565050403994), (3686, 0.0), (3687, 0.0), (3688, 0.0), (3689, 0.004126519549624466), (3690, 0.008154130184405249), (3691, 0.0), (3692, 0.0), (3693, 0.0), (3694, 0.0), (3695, 0.018067203738459922), (3696, 0.018973746214954096), (3697, 0.012497012623395124), (3698, 0.048601478632676054), (3699, 0.01824871552262082), (3700, 0.0), (3701, 0.011765095914052424), (3702, 0.0), (3703, 0.0), (3704, 0.008090379247009167), (3705, 0.02311384349569469), (3706, 0.011070668684836374), (3707, 0.0), (3708, 0.0), (3709, 0.01269105997829844), (3710, 0.015687758425321996), (3711, 0.017803008159123085), (3712, 0.003779035021331131), (3713, 0.0033262295166495404), (3714, 0.0), (3715, 0.0), (3716, 0.014845759389552037), (3717, 0.0), (3718, 0.015103119428179525), (3719, 0.0), (3720, 0.0038499606068678476), (3721, 0.0), (3722, 0.03646880055840883), (3723, 0.0), (3724, 0.004230171582392115), (3725, 0.0), (3726, 0.006752810415771054), (3727, 0.0), (3728, 0.00800566584953259), (3729, 0.0), (3730, 0.017804890189335378), (3731, 0.011104192716635423), (3732, 0.0), (3733, 0.0), (3734, 0.020872019637836584), (3735, 0.023161712728968747), (3736, 0.011239782037882588), (3737, 0.01995010187730825), (3738, 0.014842439136215779), (3739, 0.004033353585195512), (3740, 0.0), (3741, 0.009268350277898985), (3742, 0.0), (3743, 0.031153386681653603), (3744, 0.0), (3745, 0.0), (3746, 0.03170080431228621), (3747, 0.035977310613641844), (3748, 0.0034517947341902336), (3749, 0.0), (3750, 0.0), (3751, 0.012711513696724536), (3752, 0.02717148495060092), (3753, 0.013793520333036149), (3754, 0.010473708469590648), (3755, 0.0), (3756, 0.0), (3757, 0.0), (3758, 0.0), (3759, 0.014080128995876996), (3760, 0.0), (3761, 0.0), (3762, 0.0), (3763, 0.008823129326023273), (3764, 0.0), (3765, 0.007750655166342681), (3766, 0.0), (3767, 0.0), (3768, 0.012567580367464627), (3769, 0.03423139305124075), (3770, 0.0), (3771, 0.0), (3772, 0.025854962460594443), (3773, 0.012028172468359055), (3774, 0.0), (3775, 0.0), (3776, 0.026081081609169013), (3777, 0.004215167846155051), (3778, 0.004143966779574452), (3779, 0.0), (3780, 0.004259673867726893), (3781, 0.012531336044024559), (3782, 0.02284695984601822), (3783, 0.0), (3784, 0.003797333507780437), (3785, 0.0644891000012416), (3786, 0.003827886319865363), (3787, 0.0), (3788, 0.0), (3789, 0.0), (3790, 0.021755066618171656), (3791, 0.0), (3792, 0.018169305083966362), (3793, 0.0), (3794, 0.03361912271207557), (3795, 0.0), (3796, 0.010354482242782709), (3797, 0.017956843943967373), (3798, 0.0), (3799, 0.0), (3800, 0.0), (3801, 0.013220712417088094), (3802, 0.027969566370249974), (3803, 0.021803636660313215), (3804, 0.0), (3805, 0.02087014731191164), (3806, 0.0), (3807, 0.007447310031741886), (3808, 0.05570031117537445), (3809, 0.011982987271476746), (3810, 0.004065229653935853), (3811, 0.0), (3812, 0.0349881577345451), (3813, 0.008168613710995276), (3814, 0.0), (3815, 0.0), (3816, 0.02292188641348869), (3817, 0.037768285976906055), (3818, 0.003956365610786035), (3819, 0.003766833341416298), (3820, 0.0), (3821, 0.0033457687090567385), (3822, 0.0395950105002003), (3823, 0.007502056266139116), (3824, 0.01116277922569107), (3825, 0.051812993121310436), (3826, 0.021938360527928163), (3827, 0.0), (3828, 0.0), (3829, 0.07930963362760816), (3830, 0.025342449141610237), (3831, 0.004374852053972316), (3832, 0.0), (3833, 0.0), (3834, 0.0), (3835, 0.016817077454836474), (3836, 0.0), (3837, 0.0), (3838, 0.07743057834599948), (3839, 0.010787680218830302), (3840, 0.011628797190586845), (3841, 0.010291545656861387), (3842, 0.0), (3843, 0.04639986486318224), (3844, 0.0), (3845, 0.0), (3846, 0.021083543543786946), (3847, 0.02167838903744889), (3848, 0.0), (3849, 0.017150225874760776), (3850, 0.0), (3851, 0.032934452559713764), (3852, 0.08604789456857279), (3853, 0.0), (3854, 0.01204095399522288), (3855, 0.0033851350964826015), (3856, 0.010643259257425894), (3857, 0.00443111142573584), (3858, 0.027262452031020935), (3859, 0.0), (3860, 0.05588666339474867), (3861, 0.010356192635562745), (3862, 0.0), (3863, 0.010509679222634388), (3864, 0.052792422344343386), (3865, 0.06404610701632356), (3866, 0.01877456899245475), (3867, 0.0), (3868, 0.0038172680292372194), (3869, 0.0), (3870, 0.08289999456762691), (3871, 0.07420709096244424), (3872, 0.0), (3873, 0.0), (3874, 0.0), (3875, 0.006485358136145333), (3876, 0.025569842295771812), (3877, 0.04797851213759021), (3878, 0.029860713733274192), (3879, 0.0), (3880, 0.0), (3881, 0.0), (3882, 0.03412341619008097), (3883, 0.0), (3884, 0.0), (3885, 0.0), (3886, 0.015642089000112287), (3887, 0.0), (3888, 0.0), (3889, 0.01333747712431826), (3890, 0.030349451283792666), (3891, 0.035051727464332535), (3892, 0.009732270955937766), (3893, 0.01753013971496155), (3894, 0.017985404100811214), (3895, 0.00993021465247578), (3896, 0.0), (3897, 0.00422984778412102), (3898, 0.0), (3899, 0.01776391912920208), (3900, 0.0), (3901, 0.0), (3902, 0.0), (3903, 0.013708906101660895), (3904, 0.0), (3905, 0.015609051247397433), (3906, 0.02602552236244478), (3907, 0.00827815742817571), (3908, 0.0), (3909, 0.022946464669775637), (3910, 0.048487145838824526), (3911, 0.0), (3912, 0.007648614033112868), (3913, 0.03317968921132511), (3914, 0.01774945514155692), (3915, 0.0), (3916, 0.020145195487763563), (3917, 0.03663822180239282), (3918, 0.0), (3919, 0.004170462976328411), (3920, 0.004132330671709671), (3921, 0.02822116133152839), (3922, 0.0), (3923, 0.006878972549293708), (3924, 0.018698729463330014), (3925, 0.0), (3926, 0.023208925323166277), (3927, 0.0033206499945318668), (3928, 0.003332476354111319), (3929, 0.0), (3930, 0.027651476264188242), (3931, 0.0), (3932, 0.0), (3933, 0.0), (3934, 0.0), (3935, 0.0), (3936, 0.0), (3937, 0.0), (3938, 0.008117320381892662), (3939, 0.0), (3940, 0.007446052808944364), (3941, 0.0), (3942, 0.0), (3943, 0.06398170886901364), (3944, 0.0032158931621659773), (3945, 0.0), (3946, 0.0), (3947, 0.0), (3948, 0.02670710508149604), (3949, 0.0), (3950, 0.01367072762503846), (3951, 0.0046550503511884845), (3952, 0.0), (3953, 0.0), (3954, 0.0), (3955, 0.0039812487387233045), (3956, 0.06238683905524446), (3957, 0.003288335432291073), (3958, 0.0), (3959, 0.004132062834701352), (3960, 0.014761544180663489), (3961, 0.0), (3962, 0.0), (3963, 0.00395963012278479), (3964, 0.018441277757805977), (3965, 0.0), (3966, 0.012143687772002382), (3967, 0.0), (3968, 0.0), (3969, 0.021238253791144295), (3970, 0.0162690621302815), (3971, 0.0), (3972, 0.01034419070826536), (3973, 0.028175459247606494), (3974, 0.0), (3975, 0.0), (3976, 0.0), (3977, 0.0), (3978, 0.0), (3979, 0.024121606023021883), (3980, 0.009206409233236753), (3981, 0.0), (3982, 0.0), (3983, 0.009754744784259525), (3984, 0.015518913308802331), (3985, 0.0), (3986, 0.04872780712844961), (3987, 0.0), (3988, 0.0), (3989, 0.0), (3990, 0.01033361402862326), (3991, 0.019739127090546926), (3992, 0.0), (3993, 0.02272514033980139), (3994, 0.019646302587503234), (3995, 0.017119232966885226), (3996, 0.0), (3997, 0.012076443466998156), (3998, 0.003843501237533369), (3999, 0.0), (4000, 0.0), (4001, 0.00799241921338746), (4002, 0.0046331505531406695), (4003, 0.054504509180481095), (4004, 0.011504092880921747), (4005, 0.0), (4006, 0.003987143516992401), (4007, 0.005672742822257725), (4008, 0.0), (4009, 0.023026171437586056), (4010, 0.02415146089654987), (4011, 0.0), (4012, 0.0037652325440691603), (4013, 0.035954698316348316), (4014, 0.0), (4015, 0.07209163047159722), (4016, 0.0), (4017, 0.0), (4018, 0.0), (4019, 0.0), (4020, 0.007344659185559149), (4021, 0.01046357609063378), (4022, 0.016934950287660764), (4023, 0.013396326158110696), (4024, 0.0), (4025, 0.008277761051238904), (4026, 0.0), (4027, 0.0), (4028, 0.0), (4029, 0.0), (4030, 0.0), (4031, 0.01341532010276468), (4032, 0.013965529807480571), (4033, 0.0), (4034, 0.023221280459079043), (4035, 0.0), (4036, 0.0), (4037, 0.0325645388141759), (4038, 0.004265104016338612), (4039, 0.0), (4040, 0.0), (4041, 0.0), (4042, 0.0), (4043, 0.0), (4044, 0.0), (4045, 0.0), (4046, 0.025917821734616073), (4047, 0.015544065507556194), (4048, 0.0), (4049, 0.0), (4050, 0.029233089024368285), (4051, 0.0523187231468204), (4052, 0.0), (4053, 0.0), (4054, 0.06277101439854323), (4055, 0.007196724513371982), (4056, 0.0), (4057, 0.01666234724929122), (4058, 0.0), (4059, 0.0037308411089967465), (4060, 0.0), (4061, 0.008715405809715648), (4062, 0.00483210085085716), (4063, 0.013618229035285426), (4064, 0.01806845226598754), (4065, 0.0), (4066, 0.018381437336460284), (4067, 0.0), (4068, 0.004053034135281978), (4069, 0.0), (4070, 0.022739574989226494), (4071, 0.0), (4072, 0.0), (4073, 0.0), (4074, 0.05039278105058567), (4075, 0.0), (4076, 0.014027417183228672), (4077, 0.004395866953991237), (4078, 0.0), (4079, 0.009362252029415912), (4080, 0.0), (4081, 0.011406506658514911), (4082, 0.0), (4083, 0.0), (4084, 0.0), (4085, 0.0), (4086, 0.022649674830179753), (4087, 0.0), (4088, 0.0), (4089, 0.07368944044485903), (4090, 0.032897180544269024), (4091, 0.004383574103009041), (4092, 0.0), (4093, 0.0), (4094, 0.0), (4095, 0.031310595905165356), (4096, 0.0), (4097, 0.0), (4098, 0.011627817763466813), (4099, 0.07506774798891458), (4100, 0.0), (4101, 0.0), (4102, 0.0), (4103, 0.0), (4104, 0.010366879225716386), (4105, 0.0), (4106, 0.01761443937423706), (4107, 0.0), (4108, 0.004464064162773005), (4109, 0.026722197547422936), (4110, 0.017149172051205697), (4111, 0.01252040225606845), (4112, 0.024324755218894864), (4113, 0.014932876196834722), (4114, 0.011668273721566943), (4115, 0.0), (4116, 0.0), (4117, 0.010309434379328599), (4118, 0.01667769566048898), (4119, 0.008868211818045894), (4120, 0.02977187239908495), (4121, 0.004537519626511424), (4122, 0.01121623578186049), (4123, 0.0), (4124, 0.02471442906302058), (4125, 0.033367329824982285), (4126, 0.0), (4127, 0.0), (4128, 0.0), (4129, 0.0), (4130, 0.0), (4131, 0.0), (4132, 0.017773453518384264), (4133, 0.0), (4134, 0.031179349828872955), (4135, 0.04650188945369269), (4136, 0.011954996868299433), (4137, 0.004026112641089094), (4138, 0.012963774444878362), (4139, 0.0), (4140, 0.01635989066774548), (4141, 0.0), (4142, 0.0), (4143, 0.011704306309440254), (4144, 0.03472601881163717), (4145, 0.0), (4146, 0.021431449625557986), (4147, 0.025237739956376057), (4148, 0.0), (4149, 0.026754486826689145), (4150, 0.0), (4151, 0.0), (4152, 0.051669745731584185), (4153, 0.0), (4154, 0.0), (4155, 0.01243933032466003), (4156, 0.003497102571393876), (4157, 0.011245943895039374), (4158, 0.013985001649537424), (4159, 0.0), (4160, 0.008393851862719577), (4161, 0.0), (4162, 0.07353231300627112), (4163, 0.0), (4164, 0.060468460402893345), (4165, 0.010460989998639059), (4166, 0.0), (4167, 0.0), (4168, 0.030289501635038765), (4169, 0.009620273063214148), (4170, 0.0), (4171, 0.032968208065508826), (4172, 0.0), (4173, 0.059397679853652754), (4174, 0.04626943679285839), (4175, 0.0), (4176, 0.0036683929049964635), (4177, 0.01235729597751977), (4178, 0.07936242316907945), (4179, 0.0), (4180, 0.0), (4181, 0.0), (4182, 0.10499343399374056), (4183, 0.011002310871741992), (4184, 0.0), (4185, 0.0), (4186, 0.02724055982682254), (4187, 0.0), (4188, 0.0), (4189, 0.02067932943362224), (4190, 0.008928790378385142), (4191, 0.045737151607935456), (4192, 0.007726516078924639), (4193, 0.0), (4194, 0.014056020441996964), (4195, 0.02091830038315288), (4196, 0.022790851423131565), (4197, 0.023846108419022346), (4198, 0.0), (4199, 0.025966334938861843), (4200, 0.0), (4201, 0.014290509940976326), (4202, 0.0), (4203, 0.018879696662727062), (4204, 0.0), (4205, 0.01069024618897418), (4206, 0.0), (4207, 0.022715715746155808), (4208, 0.0), (4209, 0.0), (4210, 0.03713994551526145), (4211, 0.0), (4212, 0.0), (4213, 0.0), (4214, 0.014946969631890974), (4215, 0.0), (4216, 0.0), (4217, 0.003853259286014572), (4218, 0.022321420130222584), (4219, 0.0), (4220, 0.02001431566485129), (4221, 0.0), (4222, 0.0), (4223, 0.0), (4224, 0.0), (4225, 0.03019561068574874), (4226, 0.004361470890305315), (4227, 0.0), (4228, 0.0), (4229, 0.0), (4230, 0.0), (4231, 0.0), (4232, 0.0), (4233, 0.03663080528893722), (4234, 0.0), (4235, 0.0), (4236, 0.0), (4237, 0.08291397135353533), (4238, 0.0), (4239, 0.0), (4240, 0.01778046441573685), (4241, 0.012877480601621721), (4242, 0.025476850290716408), (4243, 0.0), (4244, 0.0), (4245, 0.012565920769746749), (4246, 0.0), (4247, 0.01080908552626424), (4248, 0.0), (4249, 0.0), (4250, 0.01401090996661949), (4251, 0.0), (4252, 0.019451053091355), (4253, 0.0), (4254, 0.028323103525545394), (4255, 0.0), (4256, 0.0), (4257, 0.0037582170994099368), (4258, 0.016314275705023584), (4259, 0.00831584566085944), (4260, 0.023389607809068274), (4261, 0.0), (4262, 0.004141867367760589), (4263, 0.02183923694515815), (4264, 0.0), (4265, 0.008444261166780672), (4266, 0.0), (4267, 0.009162035078528932), (4268, 0.02515641154697675), (4269, 0.004279267054314426), (4270, 0.04069188554954187), (4271, 0.004936515768826406), (4272, 0.0037847849950134486), (4273, 0.0), (4274, 0.0), (4275, 0.0), (4276, 0.03363076330771603), (4277, 0.03373654953365996), (4278, 0.0), (4279, 0.01557548738344772), (4280, 0.05945478984473067), (4281, 0.004610931201483614), (4282, 0.011017078970741754), (4283, 0.038824225158782644), (4284, 0.0039144357285786704), (4285, 0.0), (4286, 0.02339693428929617), (4287, 0.033823715463104226), (4288, 0.0), (4289, 0.012073637182225413), (4290, 0.021847273354903163), (4291, 0.0), (4292, 0.01226793187746484), (4293, 0.0), (4294, 0.0), (4295, 0.013353318029936065), (4296, 0.0), (4297, 0.023684060891617426), (4298, 0.0), (4299, 0.0), (4300, 0.0), (4301, 0.0), (4302, 0.0), (4303, 0.034269406131827336), (4304, 0.017796185575232912), (4305, 0.0), (4306, 0.0), (4307, 0.018538565683597755), (4308, 0.0), (4309, 0.0158381441826202), (4310, 0.0), (4311, 0.0), (4312, 0.008572508252053874), (4313, 0.0), (4314, 0.0290949017378844), (4315, 0.0), (4316, 0.0), (4317, 0.0), (4318, 0.0), (4319, 0.0), (4320, 0.011314913087218485), (4321, 0.0), (4322, 0.0), (4323, 0.014161327801150913), (4324, 0.013633448764795641), (4325, 0.02342803776173979), (4326, 0.0), (4327, 0.011398074934136436), (4328, 0.007453882956047904), (4329, 0.034847749900068836), (4330, 0.011482457379935931), (4331, 0.0), (4332, 0.008656430609540355), (4333, 0.0), (4334, 0.04006206700373659), (4335, 0.0), (4336, 0.037769816353130314), (4337, 0.059838694359907754), (4338, 0.0259672312184029), (4339, 0.0036442644158944304), (4340, 0.007743016909582166), (4341, 0.02482869941442411), (4342, 0.02296408289890344), (4343, 0.007988341435180424), (4344, 0.02624170828030191), (4345, 0.020990863269875756), (4346, 0.02428344687214789), (4347, 0.05888636749270307), (4348, 0.010553643746976649), (4349, 0.0), (4350, 0.010224587437568777), (4351, 0.026724680020009935), (4352, 0.0), (4353, 0.0034645877730699252), (4354, 0.0), (4355, 0.0), (4356, 0.006962570668257456), (4357, 0.0), (4358, 0.023529337874264263), (4359, 0.0), (4360, 0.0), (4361, 0.0), (4362, 0.049739363687391625), (4363, 0.004178413388281971), (4364, 0.018848169453973253), (4365, 0.0), (4366, 0.010199683047928326), (4367, 0.0), (4368, 0.004489973687035592), (4369, 0.0), (4370, 0.0), (4371, 0.02718739336024553), (4372, 0.016691931954572962), (4373, 0.0030032443954361495), (4374, 0.09087169166677278), (4375, 0.0), (4376, 0.016698835414461623), (4377, 0.0), (4378, 0.022408783767233223), (4379, 0.004133494806934721), (4380, 0.02871225934431596), (4381, 0.0), (4382, 0.0), (4383, 0.0), (4384, 0.0), (4385, 0.0), (4386, 0.0), (4387, 0.0038900522960415578), (4388, 0.02078998025452622), (4389, 0.0), (4390, 0.0), (4391, 0.0), (4392, 0.0), (4393, 0.0), (4394, 0.07146936294133674), (4395, 0.0184476818768033), (4396, 0.021461194307688045), (4397, 0.008331998136165076), (4398, 0.0), (4399, 0.0075407182424582705), (4400, 0.0), (4401, 0.056050097330945695), (4402, 0.01733374687196565), (4403, 0.0), (4404, 0.0), (4405, 0.02618885182304971), (4406, 0.0042198522357786645), (4407, 0.01930175417768423), (4408, 0.0), (4409, 0.012225342598655358), (4410, 0.034754869028218734), (4411, 0.04659271924872691), (4412, 0.0), (4413, 0.0), (4414, 0.015537714974885233), (4415, 0.0), (4416, 0.0), (4417, 0.0), (4418, 0.0), (4419, 0.0), (4420, 0.028362393742195433), (4421, 0.024417733865815094), (4422, 0.012086239295639895), (4423, 0.0), (4424, 0.0), (4425, 0.0), (4426, 0.02320854526916151), (4427, 0.023971753869611746), (4428, 0.003788230331739663), (4429, 0.0), (4430, 0.023787357890055445), (4431, 0.008533044132860572), (4432, 0.019369406203775946), (4433, 0.032889398047732984), (4434, 0.0), (4435, 0.0), (4436, 0.004301932827034812), (4437, 0.0), (4438, 0.011002330143491793), (4439, 0.0), (4440, 0.01450703510208501), (4441, 0.012368884199105378), (4442, 0.003869644857036126), (4443, 0.02710918988078308), (4444, 0.00522601693187976), (4445, 0.0067798903075285116), (4446, 0.0), (4447, 0.0067921858316365), (4448, 0.004166369544735573), (4449, 0.004681051654418395), (4450, 0.003536503308838034), (4451, 0.010655695412170913), (4452, 0.0), (4453, 0.0), (4454, 0.03196065407723863), (4455, 0.02518841024253682), (4456, 0.02725317403842606), (4457, 0.02085386941476164), (4458, 0.0), (4459, 0.007676089083056546), (4460, 0.01738064480274193), (4461, 0.0), (4462, 0.004508424330967047), (4463, 0.0), (4464, 0.0), (4465, 0.0), (4466, 0.011812108361188654), (4467, 0.004120951253226468), (4468, 0.0), (4469, 0.0), (4470, 0.0), (4471, 0.0), (4472, 0.019817937119795445), (4473, 0.003474588340378447), (4474, 0.0), (4475, 0.0), (4476, 0.0), (4477, 0.004660869320101604), (4478, 0.04980987048996482), (4479, 0.010771833229062569), (4480, 0.0), (4481, 0.003811747084852206), (4482, 0.011382190954274313), (4483, 0.008930743348357974), (4484, 0.0), (4485, 0.026787273437552463), (4486, 0.004135171147979721), (4487, 0.016267935287309215), (4488, 0.0), (4489, 0.0), (4490, 0.0), (4491, 0.0), (4492, 0.0267703840639772), (4493, 0.0), (4494, 0.0), (4495, 0.0), (4496, 0.02596816324350957), (4497, 0.0), (4498, 0.041187867013971036), (4499, 0.0), (4500, 0.04486708086544295), (4501, 0.007563756906382575), (4502, 0.010360538790838014), (4503, 0.004023519771994265), (4504, 0.01479885572624794), (4505, 0.0), (4506, 0.0), (4507, 0.0), (4508, 0.0), (4509, 0.0), (4510, 0.0), (4511, 0.01560060286347299), (4512, 0.0), (4513, 0.0), (4514, 0.0), (4515, 0.012770177509208471), (4516, 0.008584843472818855), (4517, 0.0), (4518, 0.017913411944675335), (4519, 0.04445664620481139), (4520, 0.0), (4521, 0.0), (4522, 0.0), (4523, 0.06265806315110727), (4524, 0.05376289171291646), (4525, 0.0), (4526, 0.02387354792781368), (4527, 0.0), (4528, 0.0), (4529, 0.0), (4530, 0.011438248935885485), (4531, 0.014430126298870298), (4532, 0.0), (4533, 0.0), (4534, 0.008783780782627156), (4535, 0.0), (4536, 0.0), (4537, 0.0), (4538, 0.0), (4539, 0.0), (4540, 0.0), (4541, 0.006516261824250163), (4542, 0.0), (4543, 0.0), (4544, 0.0), (4545, 0.0), (4546, 0.0), (4547, 0.0), (4548, 0.022839410165205604), (4549, 0.004425682000122469), (4550, 0.0038675734417611325), (4551, 0.018825178282590182), (4552, 0.0), (4553, 0.010753445162184787), (4554, 0.027006895615879288), (4555, 0.02026274454700737), (4556, 0.0), (4557, 0.0), (4558, 0.010247613376301038), (4559, 0.02172674525732453), (4560, 0.0), (4561, 0.0), (4562, 0.016701922051015804), (4563, 0.0), (4564, 0.003841327708903179), (4565, 0.0), (4566, 0.030323223573661524), (4567, 0.008631586735187406), (4568, 0.007457880540158429), (4569, 0.02226050293708714), (4570, 0.02502076685123705), (4571, 0.0), (4572, 0.0), (4573, 0.0), (4574, 0.0), (4575, 0.0), (4576, 0.03948461775830984), (4577, 0.0), (4578, 0.0), (4579, 0.02852426265280855), (4580, 0.0), (4581, 0.0), (4582, 0.020550832302864905), (4583, 0.0), (4584, 0.0), (4585, 0.0), (4586, 0.0), (4587, 0.008607531607571767), (4588, 0.0), (4589, 0.00933907355656719), (4590, 0.0035723611802125216), (4591, 0.011437895181242223), (4592, 0.0039771395658413896), (4593, 0.0), (4594, 0.004699094249174231), (4595, 0.0), (4596, 0.007032449999657696), (4597, 0.0), (4598, 0.021429419551237623), (4599, 0.008587622630142792), (4600, 0.0036509489284055467), (4601, 0.0), (4602, 0.0), (4603, 0.0), (4604, 0.026374155425384134), (4605, 0.044943123352056503), (4606, 0.011433614341137646), (4607, 0.013114474115035406), (4608, 0.0), (4609, 0.011776031857749836), (4610, 0.010321390001825755), (4611, 0.0), (4612, 0.004966542600388004), (4613, 0.01845577396811318), (4614, 0.0), (4615, 0.0), (4616, 0.010803895535184587), (4617, 0.0), (4618, 0.0), (4619, 0.0), (4620, 0.0), (4621, 0.004168894925197958), (4622, 0.0), (4623, 0.02030145705980358), (4624, 0.008366888504856312), (4625, 0.022977406085129156), (4626, 0.0), (4627, 0.009733652920115817), (4628, 0.011708476894165584), (4629, 0.00416180237606827), (4630, 0.034236372774987665), (4631, 0.0), (4632, 0.0), (4633, 0.026007094330382126), (4634, 0.003722637977153583), (4635, 0.005674550879592116), (4636, 0.0), (4637, 0.0), (4638, 0.0), (4639, 0.0), (4640, 0.06020242682997391), (4641, 0.06077044459121484), (4642, 0.0), (4643, 0.0), (4644, 0.0), (4645, 0.0), (4646, 0.005086604610033374), (4647, 0.05335692682497975), (4648, 0.0), (4649, 0.003663792872985915), (4650, 0.03659109138542849), (4651, 0.0), (4652, 0.006098762324608132), (4653, 0.0), (4654, 0.0), (4655, 0.0), (4656, 0.0), (4657, 0.0), (4658, 0.048534017778434364), (4659, 0.0043051335827940344), (4660, 0.00491953169742415), (4661, 0.010055243410166285), (4662, 0.037759942922419236), (4663, 0.016604517951419814), (4664, 0.0), (4665, 0.04651126020052067), (4666, 0.0), (4667, 0.0), (4668, 0.0), (4669, 0.0), (4670, 0.0), (4671, 0.0), (4672, 0.0), (4673, 0.0), (4674, 0.02091580701137918), (4675, 0.029833665870198076), (4676, 0.014593153442322487), (4677, 0.009128221362960078), (4678, 0.0), (4679, 0.007014794185742671), (4680, 0.0), (4681, 0.0), (4682, 0.007742266985955065), (4683, 0.009061724202006767), (4684, 0.0), (4685, 0.003916791046665959), (4686, 0.0040138158215351615), (4687, 0.003900914944862806), (4688, 0.03583089319117351), (4689, 0.003640341854436479), (4690, 0.0), (4691, 0.0), (4692, 0.0), (4693, 0.0), (4694, 0.0), (4695, 0.0320938824882342), (4696, 0.0), (4697, 0.0), (4698, 0.0), (4699, 0.0), (4700, 0.0), (4701, 0.0), (4702, 0.0), (4703, 0.01253525101546085), (4704, 0.0), (4705, 0.0), (4706, 0.0), (4707, 0.0), (4708, 0.0), (4709, 0.0), (4710, 0.0), (4711, 0.008836043165292918), (4712, 0.0), (4713, 0.0), (4714, 0.0), (4715, 0.0), (4716, 0.04141097299596009), (4717, 0.0), (4718, 0.033877308946131356), (4719, 0.0), (4720, 0.0), (4721, 0.015306133014891893), (4722, 0.0), (4723, 0.0), (4724, 0.0), (4725, 0.0), (4726, 0.010965147626414637), (4727, 0.0), (4728, 0.012431865588578605), (4729, 0.0), (4730, 0.00891828900418602), (4731, 0.0), (4732, 0.016724041366724954), (4733, 0.0), (4734, 0.0), (4735, 0.03435790600379396), (4736, 0.009025805626407698), (4737, 0.008488690515713005), (4738, 0.04687406524824611), (4739, 0.0), (4740, 0.009719337253206943), (4741, 0.0), (4742, 0.0), (4743, 0.01988032712484781), (4744, 0.0), (4745, 0.011545203415282736), (4746, 0.025099716510051957), (4747, 0.02939717643996509), (4748, 0.0034551696033716917), (4749, 0.0), (4750, 0.0), (4751, 0.0), (4752, 0.021553395378158452), (4753, 0.0), (4754, 0.0569388374759921), (4755, 0.004013697099984724), (4756, 0.017144932782886133), (4757, 0.0), (4758, 0.0801487560255549), (4759, 0.0)]\n"
          ]
        }
      ]
    },
    {
      "cell_type": "code",
      "source": [
        "len(Recommendation_Score)"
      ],
      "metadata": {
        "colab": {
          "base_uri": "https://localhost:8080/"
        },
        "id": "mULLa4MMYHjd",
        "outputId": "48bc608c-9e63-4619-9ea4-f617b0e87958"
      },
      "execution_count": null,
      "outputs": [
        {
          "output_type": "execute_result",
          "data": {
            "text/plain": [
              "4760"
            ]
          },
          "metadata": {},
          "execution_count": 121
        }
      ]
    },
    {
      "cell_type": "markdown",
      "source": [
        "Get All Movies Sort Based On recommendation Score"
      ],
      "metadata": {
        "id": "29hV0odnYy8B"
      }
    },
    {
      "cell_type": "code",
      "source": [
        "Movies=sorted(Recommendation_Score, key=lambda x:x[1],reverse = True)\n",
        "print(Movies)"
      ],
      "metadata": {
        "colab": {
          "base_uri": "https://localhost:8080/"
        },
        "id": "cB4iLRDXYMmC",
        "outputId": "f1b043c3-11e6-4ce1-b5f4-48e8bc954423"
      },
      "execution_count": null,
      "outputs": [
        {
          "output_type": "stream",
          "name": "stdout",
          "text": [
            "[(2, 1.0000000000000004), (1714, 0.1875935306279091), (247, 0.1508193881467258), (3467, 0.14647318067016865), (3162, 0.13915488516680705), (3181, 0.13101873188620575), (709, 0.1283613829617165), (230, 0.12167721115770525), (1473, 0.11824097359319927), (1862, 0.11629897111683916), (3256, 0.11558704877764754), (178, 0.1111468458372592), (2040, 0.10916210938064652), (3390, 0.1073194239226595), (182, 0.10680811738851488), (2647, 0.10610558454863812), (1276, 0.1053435194920348), (4182, 0.10499343399374056), (1834, 0.10460215898310787), (2264, 0.1034495322466014), (1758, 0.1012923348551616), (106, 0.09988059705340357), (1319, 0.0987054551837175), (2135, 0.0984801505547625), (1251, 0.09798035416293525), (2322, 0.09782933850237875), (2897, 0.09714947434738225), (794, 0.09647109437560554), (1182, 0.09527958438829842), (1646, 0.09401965915647889), (1477, 0.09331707969240709), (3660, 0.09156161733706282), (4374, 0.09087169166677278), (2591, 0.09086127146024525), (1886, 0.09022740076397263), (2098, 0.08877148336503604), (3144, 0.08842459445685977), (1524, 0.08619562085485544), (3852, 0.08604789456857279), (1176, 0.08573663386557509), (2615, 0.08535993272830238), (1557, 0.08327851036246037), (2016, 0.08323047043930935), (705, 0.08303733248072909), (4237, 0.08291397135353533), (3870, 0.08289999456762691), (293, 0.08222787892593372), (286, 0.08179216922562124), (3471, 0.08162256634106319), (3659, 0.08033437314702277), (4758, 0.0801487560255549), (1810, 0.08010108325360486), (1327, 0.07950375584011891), (4178, 0.07936242316907945), (3829, 0.07930963362760816), (691, 0.07925027254701379), (1700, 0.07911972533748853), (752, 0.079028605366318), (2433, 0.0789237028502397), (989, 0.07886546498466679), (3632, 0.07837866253705654), (1305, 0.07804956502295116), (3838, 0.07743057834599948), (2335, 0.07735859928221595), (385, 0.07659877125943575), (619, 0.07583122038028917), (14, 0.0755600401545437), (2568, 0.07539160501008227), (4099, 0.07506774798891458), (2359, 0.07462260192745108), (3283, 0.07451804114763955), (1860, 0.07445940394624172), (3871, 0.07420709096244424), (1813, 0.07396329217605654), (1737, 0.07381011882761661), (4089, 0.07368944044485903), (4162, 0.07353231300627112), (3621, 0.07320150979042392), (1072, 0.07285609609625596), (185, 0.07269734520464835), (3415, 0.07239076680305781), (2623, 0.07232393083619366), (4015, 0.07209163047159722), (3201, 0.07202642708266355), (624, 0.07193234343799113), (2682, 0.07175342739164203), (4394, 0.07146936294133674), (1257, 0.07081659654429157), (1009, 0.07009660436260243), (2835, 0.07005265007764211), (1505, 0.06999637920473625), (459, 0.06992307878567351), (2938, 0.06958260068910298), (3213, 0.06926813894956928), (698, 0.0689890991239911), (3030, 0.06894700767434564), (353, 0.0689363473406163), (2654, 0.068431423423113), (198, 0.06765393882253845), (2857, 0.06753620424726921), (1964, 0.06752809630186554), (3120, 0.06750882634324287), (3540, 0.06724386005195462), (2443, 0.06715451787979491), (2809, 0.06651056342306125), (1544, 0.0663989996217768), (1586, 0.06635720998243683), (540, 0.06632683796927578), (2321, 0.06563703977864521), (474, 0.06536579013606549), (3616, 0.06533472902426947), (1584, 0.0651370391162525), (2813, 0.06507382071091719), (853, 0.06506830504596757), (144, 0.0646532812372311), (3785, 0.0644891000012416), (1673, 0.06441719204428865), (1888, 0.06406932073118352), (3865, 0.06404610701632356), (3943, 0.06398170886901364), (1409, 0.0633317635185519), (1107, 0.06329891520476337), (1076, 0.06319092630686879), (3225, 0.06303302532566538), (4054, 0.06277101439854323), (4523, 0.06265806315110727), (2234, 0.0625286063269125), (756, 0.0624442018581078), (3956, 0.06238683905524446), (2111, 0.06229344000626288), (3116, 0.06223772017955976), (146, 0.062189209775370194), (1903, 0.06190377889598548), (1433, 0.06176920018038417), (730, 0.06169049237524733), (2393, 0.06152661757645346), (1974, 0.060977439086903146), (1038, 0.060897949181034486), (4641, 0.06077044459121484), (4164, 0.060468460402893345), (3509, 0.06040789697546231), (4640, 0.06020242682997391), (166, 0.059944777685760675), (2747, 0.059934893395517545), (4337, 0.059838694359907754), (3212, 0.059800052261914156), (427, 0.05952617414270285), (4280, 0.05945478984473067), (4173, 0.059397679853652754), (463, 0.05920789368626369), (1523, 0.05894628811013012), (4347, 0.05888636749270307), (1046, 0.05887904185628023), (2145, 0.05865938154209784), (2365, 0.058541090922223094), (1279, 0.058487715515836945), (3208, 0.05835877952922548), (1067, 0.058259732211632324), (1210, 0.05821316210381665), (362, 0.05816547028837928), (530, 0.05814312581675472), (2752, 0.05805965476503995), (3559, 0.05797677337941172), (2406, 0.05777156895906732), (584, 0.05767950572014502), (3331, 0.057659210966170146), (3665, 0.05721419433613892), (4754, 0.0569388374759921), (2445, 0.05673254753998482), (2250, 0.05659857169643365), (2161, 0.05647127129031092), (2061, 0.05613437405120542), (2290, 0.0560536841348597), (4401, 0.056050097330945695), (421, 0.05596523424134083), (179, 0.05593184131759801), (3860, 0.05588666339474867), (3607, 0.05584140575211796), (121, 0.05583772638719009), (2041, 0.05580813795038778), (347, 0.05570741584486838), (3808, 0.05570031117537445), (160, 0.05529907503948415), (137, 0.05527664339227898), (1212, 0.05503619618676681), (2668, 0.05480265919586438), (3257, 0.05475224720073647), (2584, 0.05473616395819486), (881, 0.054633931772852924), (53, 0.0546320170451003), (3027, 0.05459154483454677), (1041, 0.05458023575646478), (4003, 0.054504509180481095), (665, 0.05450330258808547), (640, 0.05439127525562229), (1405, 0.054386536410671545), (911, 0.054316008196202116), (1959, 0.05426668050488652), (2263, 0.0541611541581854), (988, 0.05379140853889613), (4524, 0.05376289171291646), (1195, 0.053713460115706366), (3461, 0.05358830588902369), (4647, 0.05335692682497975), (562, 0.05332785078845023), (1092, 0.053249368909611496), (3260, 0.05313490690889292), (2299, 0.053048542604992206), (1771, 0.05301892193935142), (3864, 0.052792422344343386), (566, 0.05274775552895944), (3648, 0.05264952864177422), (173, 0.05257767404040811), (643, 0.05247915867042953), (341, 0.05237168735590404), (2102, 0.052327558689021926), (4051, 0.0523187231468204), (2370, 0.05226547647419867), (1465, 0.05222080897250414), (130, 0.05211914657167516), (70, 0.051830858896982676), (3825, 0.051812993121310436), (2854, 0.05175572045924773), (4152, 0.051669745731584185), (2806, 0.0515965355605255), (546, 0.051355158347925915), (1496, 0.05117493352845151), (2292, 0.051094799523582354), (3515, 0.05106337951543396), (1450, 0.050865893531414255), (2138, 0.050854695063958524), (946, 0.05085369591480571), (548, 0.05078500904144503), (1094, 0.05061732674872316), (361, 0.05057088329431939), (2553, 0.05044693299666424), (4074, 0.05039278105058567), (768, 0.05030552369256806), (1833, 0.05017074769037357), (3662, 0.05014194846953543), (239, 0.04997875318075095), (4478, 0.04980987048996482), (780, 0.04980418765517833), (2824, 0.04978102540560871), (4362, 0.049739363687391625), (1927, 0.049421873732648544), (1842, 0.049094452385821975), (3288, 0.04908473109431775), (3489, 0.04890387838037329), (1284, 0.048835202299721214), (3986, 0.04872780712844961), (2190, 0.048687882191858364), (3698, 0.048601478632676054), (4658, 0.048534017778434364), (488, 0.04852416754851675), (3910, 0.048487145838824526), (2197, 0.04843987585382946), (1365, 0.048379477170207505), (815, 0.04834067414672934), (517, 0.04810669693281067), (217, 0.04809218953735431), (1950, 0.04799146196419672), (1845, 0.047989035352907404), (3877, 0.04797851213759021), (862, 0.04780541071097729), (1460, 0.047670337636217745), (2753, 0.047668001098130595), (2760, 0.04763287146632145), (356, 0.04760500915023404), (355, 0.04752099575335492), (651, 0.047432803257335704), (2710, 0.047303970617822384), (91, 0.04717476783948937), (2509, 0.04715349797909669), (1920, 0.0470667413981567), (2340, 0.04701152005018921), (140, 0.04699294339889671), (3346, 0.04695148733912141), (2560, 0.046914763365282726), (4738, 0.04687406524824611), (3199, 0.046717092154602756), (1647, 0.04668785688832468), (3650, 0.04667174033471747), (854, 0.0466094308114837), (4411, 0.04659271924872691), (3091, 0.046555196964670476), (4665, 0.04651126020052067), (4135, 0.04650188945369269), (2329, 0.046488905017701476), (1578, 0.0464500545885289), (3843, 0.04639986486318224), (3302, 0.04638015135378244), (4174, 0.04626943679285839), (695, 0.04620709879699616), (615, 0.046175188763567354), (1364, 0.046155269255943265), (3412, 0.04595423641381576), (4191, 0.045737151607935456), (3531, 0.045485102219215895), (1789, 0.045424907315055545), (472, 0.045399395680583154), (2720, 0.04521002710753387), (1010, 0.04510663677518836), (3228, 0.04510043424394267), (1254, 0.04501180308719524), (2782, 0.044960306278513704), (4605, 0.044943123352056503), (1715, 0.04493049438960398), (1082, 0.04492229163292613), (1529, 0.044869150995318546), (4500, 0.04486708086544295), (932, 0.04484567109082725), (2980, 0.04476672397027532), (839, 0.04469605193566029), (1778, 0.04448146391507355), (4519, 0.04445664620481139), (155, 0.04445543937259665), (1180, 0.043816782593937086), (852, 0.04380510459858668), (1178, 0.04380420273536413), (2611, 0.043779866554153134), (3270, 0.043718194536121135), (392, 0.043708595077399076), (2360, 0.043606571454626486), (3611, 0.0435817839694538), (2532, 0.04331156628245157), (2814, 0.04316788992797462), (24, 0.043138053214853325), (3606, 0.043049186275205445), (2218, 0.04288424613157417), (1079, 0.0426998463081413), (2507, 0.04234128496883922), (2719, 0.042336292728442367), (856, 0.04223490715735872), (2713, 0.04221506715132549), (2517, 0.04218262422764951), (1574, 0.04216756926320464), (1726, 0.04211190240118237), (346, 0.042085580133711185), (1495, 0.04192431876328213), (1383, 0.04189884472907288), (3548, 0.041750227673031895), (724, 0.041612967847420135), (187, 0.041503033313278266), (1459, 0.04141728355508405), (4716, 0.04141097299596009), (1855, 0.041406811531172955), (2704, 0.04135480333397441), (3129, 0.04135369776921625), (1676, 0.0413245598383801), (1282, 0.0412390245240362), (4498, 0.041187867013971036), (1403, 0.0411488750953945), (1937, 0.04102945446277874), (2649, 0.04101294000832332), (1944, 0.04098037216850309), (1664, 0.0407823760654175), (1339, 0.04077001648960307), (4270, 0.04069188554954187), (3361, 0.040469026245519235), (2283, 0.04043115488045769), (1050, 0.04041804315004597), (108, 0.040398200619079526), (1609, 0.04034506908754054), (3003, 0.04032109755782537), (2266, 0.04031246057619467), (2789, 0.04025111577064011), (928, 0.04024379149425239), (1594, 0.0401964253015857), (2660, 0.040114406525431405), (2759, 0.04010483562858219), (1004, 0.0400832507425447), (4334, 0.04006206700373659), (879, 0.04001689998033585), (2221, 0.0399773359720217), (1351, 0.039885471066766744), (26, 0.03985267406354876), (3119, 0.03980520048619642), (2510, 0.03976373377287586), (3457, 0.03967870978559664), (880, 0.03961501978855438), (2473, 0.039599617129819464), (3822, 0.0395950105002003), (2280, 0.039580367342069274), (855, 0.03948957548931505), (4576, 0.03948461775830984), (437, 0.0394580045596585), (912, 0.0393227377654175), (1226, 0.03925761560533472), (2113, 0.03925741824248256), (1202, 0.039256148349589584), (1016, 0.039179917820617124), (2925, 0.039086057988002465), (2766, 0.03895430216690844), (2060, 0.0389529975124429), (2121, 0.03894296236136989), (3653, 0.038898059430700904), (1743, 0.03889420082464835), (4283, 0.038824225158782644), (1468, 0.038687619628117016), (231, 0.03868081482291046), (706, 0.03865311503734277), (461, 0.03863699237726065), (1698, 0.03863046470763417), (1634, 0.0386010157902268), (2570, 0.0385330665729538), (1485, 0.03851587307921808), (2856, 0.038458867715803244), (2921, 0.03815393108451097), (2944, 0.038032619675238105), (1861, 0.038026187847565784), (953, 0.03801191292839015), (1454, 0.0379869409928498), (79, 0.03796869535565039), (337, 0.03792572278886035), (2114, 0.037771932091385026), (4336, 0.037769816353130314), (3817, 0.037768285976906055), (4662, 0.037759942922419236), (3092, 0.03736275200961224), (233, 0.03731432736071721), (621, 0.037298016153728734), (3379, 0.03727097726957207), (3495, 0.0371788498984867), (596, 0.0371696636647386), (4210, 0.03713994551526145), (2201, 0.03712532462009777), (755, 0.03708403388843285), (1972, 0.037012402045817995), (931, 0.036993933880348884), (3562, 0.03695377377142941), (3109, 0.036833555416971454), (3917, 0.03663822180239282), (4233, 0.03663080528893722), (508, 0.03662331212896815), (699, 0.036617300415758475), (915, 0.03661663838224802), (4650, 0.03659109138542849), (1338, 0.036551834842486995), (3103, 0.03647082905119451), (3722, 0.03646880055840883), (3685, 0.036453565050403994), (894, 0.036383706228617446), (165, 0.03637390092141754), (1788, 0.036370318997319226), (363, 0.036310261274221246), (1817, 0.036285704906711555), (2372, 0.03627975518462159), (1481, 0.03627174305649564), (3631, 0.03626752742010433), (1824, 0.036259245927602754), (3320, 0.0362203192334138), (3298, 0.036201011595064), (2646, 0.036192218719069705), (270, 0.036170172712100365), (3238, 0.036073552311471246), (2667, 0.036060140621388626), (1724, 0.03604158259338095), (2671, 0.0359802978419718), (3747, 0.035977310613641844), (4013, 0.035954698316348316), (3484, 0.03594406332551596), (27, 0.035925841296994075), (4688, 0.03583089319117351), (2884, 0.0357668376527903), (3229, 0.03571062468354526), (0, 0.0357046810425853), (1080, 0.03570041897363906), (1602, 0.035665721064448805), (1336, 0.03564938420974783), (1412, 0.03558397388000768), (3111, 0.03552290502086481), (269, 0.0355023936581066), (1333, 0.03543523334023469), (2332, 0.03542428705159196), (1478, 0.03532983281498761), (2502, 0.035252749108973684), (1568, 0.03520135838307459), (703, 0.035187390580155783), (410, 0.03516030945454036), (86, 0.03515423514630092), (1291, 0.03514499358586666), (850, 0.03514127725457675), (3891, 0.035051727464332535), (498, 0.03502068171474209), (1002, 0.03500965151079362), (3812, 0.0349881577345451), (731, 0.03497676552718027), (219, 0.03497550793120993), (2100, 0.0349500266367255), (212, 0.03489525556969695), (4329, 0.034847749900068836), (1935, 0.03483088592712663), (1600, 0.03482620232116452), (429, 0.03476707084862036), (4410, 0.034754869028218734), (4144, 0.03472601881163717), (3380, 0.0347113357135532), (265, 0.03466624087909885), (2196, 0.034627709014207524), (1021, 0.034598943740087616), (3668, 0.03459884942703041), (3488, 0.03458460963358733), (1389, 0.034581081491053586), (2392, 0.034552769430049896), (1682, 0.0345416812534365), (2580, 0.03442121942325404), (3308, 0.034373949410905054), (4735, 0.03435790600379396), (3104, 0.0343025532955279), (4303, 0.034269406131827336), (1720, 0.034238121552016436), (4630, 0.034236372774987665), (3769, 0.03423139305124075), (3882, 0.03412341619008097), (1760, 0.03411114599737561), (1561, 0.03410619618885563), (778, 0.03398609011078535), (1926, 0.03394853230009058), (1356, 0.033947671854614045), (4718, 0.033877308946131356), (1166, 0.03387201713139378), (1241, 0.03383080820347199), (4287, 0.033823715463104226), (4277, 0.03373654953365996), (567, 0.033725767218938676), (1933, 0.03371191227409723), (753, 0.03365731902366625), (133, 0.033651288879689024), (4276, 0.03363076330771603), (3794, 0.03361912271207557), (560, 0.03360362001807042), (2864, 0.03360315005412408), (1799, 0.033587205676905756), (2541, 0.033571158193712376), (2908, 0.0335670262372114), (994, 0.033560609513548854), (3683, 0.033512484113879366), (1764, 0.03337935636959056), (3286, 0.03337445733103648), (4125, 0.033367329824982285), (2073, 0.033366734875864744), (2666, 0.033336644652344316), (2583, 0.03332009885980483), (3297, 0.03326330392522704), (324, 0.03323605286521054), (717, 0.03321536663691526), (524, 0.033202077898686386), (887, 0.03319542888407057), (2588, 0.03318710604297702), (3913, 0.03317968921132511), (3506, 0.033176124820740276), (1315, 0.033166647863998026), (2005, 0.03303991044319317), (1101, 0.03298767732896208), (1629, 0.0329789524752669), (806, 0.03297029571514736), (4171, 0.032968208065508826), (3851, 0.032934452559713764), (2408, 0.03290417268467845), (4090, 0.032897180544269024), (4433, 0.032889398047732984), (948, 0.032887064714061345), (1953, 0.032865744996401144), (2965, 0.032853079677528), (3272, 0.032848413372630336), (594, 0.03284253602683111), (2411, 0.0325718512331006), (4037, 0.0325645388141759), (281, 0.032472924397338), (2644, 0.032411991027673594), (3373, 0.032375772193815475), (2316, 0.03235456000082871), (1025, 0.032316206592820945), (2831, 0.03231182166644513), (2398, 0.03226831796038451), (2852, 0.03222860518774136), (2037, 0.03218488433331999), (1762, 0.032169351886184167), (4695, 0.0320938824882342), (2662, 0.032000850712250874), (1606, 0.031978296700292744), (4454, 0.03196065407723863), (1555, 0.03183375949817642), (96, 0.03179196364075596), (2661, 0.03173497417250654), (3746, 0.03170080431228621), (1564, 0.031633724802306765), (662, 0.031633706047149775), (2962, 0.03162883607167258), (2711, 0.03156550945294352), (3236, 0.03149895527737052), (3047, 0.031405905635894675), (4095, 0.031310595905165356), (3328, 0.03131040066660814), (2097, 0.03130220470842542), (1207, 0.031277273953347826), (1114, 0.031271765310713864), (1090, 0.031241185589939935), (1844, 0.031199336146646724), (893, 0.031186036954507272), (4134, 0.031179349828872955), (690, 0.03117075485210381), (3526, 0.03116521836825717), (3743, 0.031153386681653603), (3657, 0.031134531615646832), (1142, 0.031026471701514496), (277, 0.031024046740288462), (620, 0.03102360379338187), (202, 0.03095483504572072), (2664, 0.030954141971109527), (1820, 0.030901571895127287), (2729, 0.03084292497626498), (2104, 0.030821307040394742), (3407, 0.03079221187114986), (1095, 0.030780222144053706), (1694, 0.030706601291816474), (58, 0.030702186290452904), (188, 0.030676265974311397), (3557, 0.03065508787086427), (3133, 0.030561745624055014), (455, 0.03055721742141375), (1550, 0.03055180544477463), (1812, 0.030534563509816957), (787, 0.03049296536812445), (846, 0.030471149638344193), (708, 0.030449310034459127), (561, 0.030437725335324607), (2440, 0.03041240690550114), (3890, 0.030349451283792666), (2450, 0.030330206121630107), (4566, 0.030323223573661524), (57, 0.03031428675641295), (22, 0.030313064953939577), (4168, 0.030289501635038765), (4225, 0.03019561068574874), (1569, 0.030193040011607334), (1814, 0.030144742088598547), (882, 0.030090984011599004), (2476, 0.030090886893625636), (1487, 0.030048297109528055), (1520, 0.03004477943837886), (2629, 0.03004033349156127), (2327, 0.030024285869250635), (1979, 0.030020576704304712), (1794, 0.029971536968050643), (957, 0.02995527782447077), (549, 0.02987807263738239), (3878, 0.029860713733274192), (3451, 0.029856888670600417), (4675, 0.029833665870198076), (3459, 0.029808992364627314), (446, 0.029781474060806147), (4120, 0.02977187239908495), (1703, 0.029762094121464668), (1562, 0.02975732318563572), (3294, 0.029741115642495694), (2353, 0.02971353910960424), (2540, 0.029698710540590666), (1311, 0.02968809013289944), (256, 0.029627105963890975), (406, 0.02962331914433111), (622, 0.02959920486952318), (743, 0.029558819201941304), (1296, 0.029539061015180626), (1552, 0.02952229901208827), (2086, 0.029505421269776573), (3325, 0.029501445102763476), (2118, 0.029461630535307457), (2653, 0.029460272965567972), (2457, 0.029450301639071856), (1538, 0.029429652521037325), (4747, 0.02939717643996509), (2839, 0.02938100078438234), (500, 0.029357609895623187), (2185, 0.029329490610787972), (1216, 0.029329064874933912), (501, 0.029294488027775137), (3217, 0.029277839565803876), (891, 0.029259659585057336), (4050, 0.029233089024368285), (2851, 0.029175928462707112), (1914, 0.029175866216029012), (4314, 0.0290949017378844), (1787, 0.029045211058299998), (1948, 0.029004763615678393), (2749, 0.028982407870446893), (170, 0.028969156230734844), (786, 0.02896667196374635), (2783, 0.028948419081205944), (3366, 0.028937055307800788), (1132, 0.028930561145071056), (2957, 0.02892333652328103), (3263, 0.0288295987463573), (578, 0.028813314643264063), (3015, 0.02879023927545455), (1843, 0.0287556658334963), (3503, 0.028730923274157168), (4380, 0.02871225934431596), (3282, 0.02869883797215058), (1255, 0.028660932428758855), (2157, 0.028642646270463104), (3128, 0.02863955366053713), (1295, 0.028576851065725734), (1045, 0.028563443395704834), (3441, 0.028528887371771335), (2634, 0.02852597611295053), (4579, 0.02852426265280855), (3306, 0.028460556862525563), (819, 0.028393447635573877), (2000, 0.02837742809219293), (4420, 0.028362393742195433), (4254, 0.028323103525545394), (3344, 0.028227285977056916), (3921, 0.02822116133152839), (1910, 0.028212800322117947), (3317, 0.02821018190456634), (2109, 0.028207864733389043), (3973, 0.028175459247606494), (3658, 0.02815222762107808), (1011, 0.028143889263071105), (1907, 0.028114539344991748), (2484, 0.027986203584358667), (3802, 0.027969566370249974), (2352, 0.02788362363951278), (3074, 0.027874627310514384), (196, 0.02786405190595836), (1570, 0.02783084960277767), (344, 0.027817810255271587), (1474, 0.027791648101069495), (3211, 0.027686883881749808), (597, 0.027685685508092535), (3930, 0.027651476264188242), (2636, 0.02757458579734542), (2039, 0.027539159311762408), (1784, 0.027519582316920012), (1755, 0.027510369619425854), (3444, 0.027469849938502953), (1259, 0.027448474014753116), (1152, 0.02736133724067011), (657, 0.027349938132868526), (1492, 0.02728063387926187), (3858, 0.027262452031020935), (4456, 0.02725317403842606), (2521, 0.027250272898552946), (2167, 0.02724610991864313), (4186, 0.02724055982682254), (1130, 0.027218685577240935), (1307, 0.027206079915810234), (1427, 0.027193878382820866), (1868, 0.027192456965277216), (4371, 0.02718739336024553), (428, 0.027183029953617432), (3752, 0.02717148495060092), (2563, 0.027167866421511432), (1301, 0.027121556394537494), (4443, 0.02710918988078308), (3098, 0.02703369498400235), (2245, 0.027028085107380535), (4554, 0.027006895615879288), (1401, 0.0269726103377773), (1246, 0.026921674085287974), (469, 0.02692056561621956), (1640, 0.02691578684220598), (3403, 0.026895503030000746), (352, 0.026841901488459545), (2844, 0.02682212353615393), (1223, 0.026812512709251966), (391, 0.02680717276712411), (4485, 0.026787273437552463), (4492, 0.0267703840639772), (4149, 0.026754486826689145), (4351, 0.026724680020009935), (4109, 0.026722197547422936), (3550, 0.026719805638545407), (3948, 0.02670710508149604), (3612, 0.026687136289099918), (769, 0.026675013919101816), (2734, 0.026666926262197244), (2206, 0.026625767552482332), (3589, 0.02661338236406993), (435, 0.026547335889475825), (2514, 0.026532920929525604), (4604, 0.026374155425384134), (2183, 0.026352101326321806), (742, 0.026304159877136312), (2964, 0.026281581670978625), (1711, 0.026247972226712254), (4344, 0.02624170828030191), (3218, 0.02622021236867287), (1925, 0.026215998779043636), (569, 0.02619057865339467), (4405, 0.02618885182304971), (995, 0.026180674959224458), (3776, 0.026081081609169013), (2029, 0.02607605141519793), (3671, 0.026054435944742313), (3517, 0.02603024197667956), (3906, 0.02602552236244478), (4633, 0.026007094330382126), (2796, 0.02600058278911401), (167, 0.02598482120447878), (4496, 0.02596816324350957), (4338, 0.0259672312184029), (4199, 0.025966334938861843), (3397, 0.025944984787082265), (1841, 0.025919231814008112), (4046, 0.025917821734616073), (3633, 0.025891988993422432), (1958, 0.02587836342807858), (926, 0.0258740606103805), (1103, 0.025855176245994572), (3772, 0.025854962460594443), (2232, 0.025853912326738396), (1643, 0.02582067447072653), (1503, 0.025707669277288153), (2642, 0.02570207880456923), (1430, 0.025692707990136492), (1008, 0.025674348070049337), (1137, 0.025672455274491503), (2367, 0.02566256507250762), (49, 0.025650719805611063), (3367, 0.025583611735316716), (3876, 0.025569842295771812), (3221, 0.025522973491462722), (4242, 0.025476850290716408), (1704, 0.02540303857474307), (2927, 0.02536455918086826), (3830, 0.025342449141610237), (72, 0.02533105325932812), (2733, 0.025237808212260297), (4147, 0.025237739956376057), (1836, 0.02522586814692798), (2781, 0.025224640219328374), (2236, 0.025193549074807087), (4455, 0.02518841024253682), (4268, 0.02515641154697675), (2414, 0.025120233299528644), (1134, 0.025109059104506004), (4746, 0.025099716510051957), (3096, 0.02504885476983354), (1816, 0.025039217760060753), (4570, 0.02502076685123705), (3313, 0.024924800294123764), (1911, 0.024921941683429982), (2116, 0.024865978214748095), (2184, 0.024858842934405486), (2430, 0.02485395980105868), (1309, 0.024849575231969), (4341, 0.02482869941442411), (1866, 0.02480817550023088), (1456, 0.02476122396244361), (4124, 0.02471442906302058), (3674, 0.02468891874454713), (1828, 0.0246655091775259), (177, 0.024645263735351225), (2303, 0.024633768193551543), (1472, 0.024548702270006273), (1996, 0.02454350148160837), (507, 0.024525053032427108), (3468, 0.024486090161181126), (3442, 0.024438278480057668), (4421, 0.024417733865815094), (2504, 0.024331241831147956), (4112, 0.024324755218894864), (2368, 0.024284391008418487), (4346, 0.02428344687214789), (3421, 0.024274303370372837), (821, 0.02423786255898324), (2155, 0.024203541194029607), (646, 0.02417603046130523), (1931, 0.024155251822431965), (4010, 0.02415146089654987), (3979, 0.024121606023021883), (1278, 0.02411033713805081), (350, 0.02409156724394575), (2014, 0.024075314447864538), (1484, 0.024032901928907273), (2227, 0.023980966634795223), (4427, 0.023971753869611746), (2554, 0.023922544130251695), (1189, 0.0238830143339884), (4526, 0.02387354792781368), (2267, 0.023865793445444136), (4197, 0.023846108419022346), (4430, 0.023787357890055445), (328, 0.023786116693217348), (1214, 0.023775372869230618), (2055, 0.02377516169221962), (3473, 0.023773506524546732), (1057, 0.023745149791044213), (4297, 0.023684060891617426), (954, 0.023651460668791976), (73, 0.02364805944580865), (1999, 0.023643689543347175), (3173, 0.023629375628958123), (906, 0.02354304304049542), (4358, 0.023529337874264263), (1961, 0.023508555010465407), (3312, 0.02348116780561653), (43, 0.023445696195256015), (3483, 0.023430497977279363), (4325, 0.02342803776173979), (2577, 0.023422914214425567), (275, 0.023401850651990772), (4286, 0.02339693428929617), (3505, 0.023391453761995636), (4260, 0.023389607809068274), (538, 0.023389062645581406), (1242, 0.02336736734752834), (3422, 0.02334167321004219), (976, 0.023324534280307473), (2307, 0.023304324097346972), (404, 0.023295121561224034), (1321, 0.02326719041781055), (829, 0.023258666367528928), (365, 0.02324367775740375), (2022, 0.02324359512313951), (3456, 0.02323501612411947), (3571, 0.02323223636503603), (629, 0.02322660274890819), (4034, 0.023221280459079043), (1835, 0.023219255281673706), (3926, 0.023208925323166277), (4426, 0.02320854526916151), (3209, 0.023202937410192574), (740, 0.023200924519789366), (3735, 0.023161712728968747), (279, 0.023138508459960787), (2589, 0.023122441506575622), (3705, 0.02311384349569469), (2605, 0.023100872585385797), (3057, 0.023072136970851066), (149, 0.023058221353059086), (1366, 0.02304129866386333), (335, 0.023038584797115055), (2091, 0.02303593776217958), (4009, 0.023026171437586056), (884, 0.023023729881793974), (1451, 0.023010228088260348), (609, 0.02299277229186451), (4625, 0.022977406085129156), (4342, 0.02296408289890344), (2612, 0.02296080028639549), (3909, 0.022946464669775637), (409, 0.022943374375284573), (3816, 0.02292188641348869), (2717, 0.022898828275801832), (3628, 0.022888783936979774), (2442, 0.022874989911317235), (2237, 0.02285109658818935), (3782, 0.02284695984601822), (2284, 0.022842295507168972), (4548, 0.022839410165205604), (309, 0.02283190351648937), (4196, 0.022790851423131565), (4070, 0.022739574989226494), (3993, 0.02272514033980139), (3179, 0.022723377081906766), (804, 0.02271798069863023), (4207, 0.022715715746155808), (114, 0.02270902059794108), (3231, 0.022672847812035157), (899, 0.02267155063672691), (4086, 0.022649674830179753), (2211, 0.0226478644633021), (2171, 0.022612050776561858), (3252, 0.022576157928657362), (1993, 0.02257263596556345), (2840, 0.022547924421213686), (3430, 0.022497952056895105), (1109, 0.022484313599708955), (2451, 0.02248024586156325), (1373, 0.02244869927562445), (2462, 0.022426654037983943), (4378, 0.022408783767233223), (1211, 0.02240190496053412), (2951, 0.022338890923399742), (4218, 0.022321420130222584), (3539, 0.022299553782785312), (4569, 0.02226050293708714), (810, 0.02225285991932255), (2516, 0.02217772603087699), (1461, 0.02210049789498378), (370, 0.022093706043411557), (1163, 0.022090548760223983), (1992, 0.022086989384690815), (3593, 0.02208563097268717), (2212, 0.02208157861745942), (2585, 0.022073348719294953), (805, 0.022025064289315437), (2637, 0.022017624675134257), (935, 0.022010616711268347), (3826, 0.021938360527928163), (1891, 0.0219375409785934), (1677, 0.021915271811525982), (1559, 0.021912486660189565), (3101, 0.021906479117874824), (1849, 0.021897137787515654), (192, 0.02186566320649969), (327, 0.021856375226288194), (3582, 0.021855947325517624), (4290, 0.021847273354903163), (4263, 0.02183923694515815), (3803, 0.021803636660313215), (3393, 0.021775623526259183), (2485, 0.021773073608094065), (3790, 0.021755066618171656), (4559, 0.02172674525732453), (798, 0.02169639517767725), (1165, 0.021681425202418707), (3847, 0.02167838903744889), (3315, 0.021672903587483014), (1088, 0.02167276627874937), (1001, 0.021668574330778644), (961, 0.021655997252764913), (3287, 0.021638202364936063), (1237, 0.02159350137060529), (3024, 0.021590818830599916), (4752, 0.021553395378158452), (351, 0.02152516498190148), (1521, 0.02152299407025111), (2579, 0.021501314848615602), (1402, 0.021498215797262184), (245, 0.02146977549750966), (434, 0.021463463554045523), (4396, 0.021461194307688045), (3375, 0.021452894598486254), (3555, 0.02144787873710938), (4146, 0.021431449625557986), (4598, 0.021429419551237623), (298, 0.021422189557889756), (936, 0.021403442312292777), (2030, 0.021360522914071634), (2179, 0.021343383066915713), (1085, 0.02133823297116723), (2708, 0.021334980205579397), (1042, 0.02133346550559937), (1367, 0.0213311005055113), (1155, 0.02126939560483213), (3969, 0.021238253791144295), (648, 0.021202705446252332), (2652, 0.021160521709599138), (909, 0.021155114789449182), (1769, 0.021151585692300745), (1706, 0.02112165473689763), (2043, 0.021110411077339845), (1652, 0.021099778950490655), (132, 0.021089484865111877), (3846, 0.021083543543786946), (3482, 0.021059168343599326), (2153, 0.021045424692583206), (1253, 0.021031740771245533), (2390, 0.02102851766094769), (360, 0.020998145471654506), (4345, 0.020990863269875756), (75, 0.020988823777244956), (3389, 0.020987528639745297), (3481, 0.0209734690495056), (1354, 0.020973181766851662), (1116, 0.02095974674656277), (2235, 0.02093664953289188), (4195, 0.02091830038315288), (4674, 0.02091580701137918), (2421, 0.020894570478453063), (1081, 0.02087302054351932), (3734, 0.020872019637836584), (3805, 0.02087014731191164), (1215, 0.020855140462754676), (4457, 0.02085386941476164), (527, 0.020834124614130055), (3365, 0.020826731591428168), (2762, 0.020814671539847045), (2099, 0.02079002991069887), (4388, 0.02078998025452622), (2019, 0.020787455117193095), (423, 0.0207745283974676), (334, 0.02073135191916261), (1837, 0.02072558382466503), (1954, 0.020720615203452666), (1198, 0.02071891735443775), (451, 0.020693982376006854), (4189, 0.02067932943362224), (3476, 0.020642493559067086), (229, 0.020631233846468172), (504, 0.020625517790903294), (3512, 0.02061590200945963), (1250, 0.020605339372109416), (1610, 0.020593807809920643), (2788, 0.02058176510943992), (1804, 0.020569610039910875), (3578, 0.02055802150471965), (555, 0.020553960923065953), (4582, 0.020550832302864905), (1876, 0.020492078525186697), (1467, 0.0204867326110306), (3386, 0.020484361244642157), (2246, 0.020463095115949743), (7, 0.020459391814520014), (136, 0.020435683746942157), (1344, 0.020424491323847525), (1607, 0.020383321555904926), (379, 0.02037969708963891), (3167, 0.020346695263632135), (2793, 0.02033697964033173), (1537, 0.020301968669917098), (4623, 0.02030145705980358), (785, 0.020289096558291815), (3360, 0.020270194436303686), (2150, 0.02026923335018948), (2663, 0.020263525036136765), (4555, 0.02026274454700737), (1482, 0.020254001424674727), (863, 0.020228251073723186), (2095, 0.020214605594616512), (2494, 0.020210697591576787), (2562, 0.020185421192867533), (1118, 0.020177190415754213), (1390, 0.02016802898491732), (1314, 0.02016779756867532), (2195, 0.02016330146187633), (2746, 0.02016091841897728), (3916, 0.020145195487763563), (3594, 0.020136739080407508), (3226, 0.02010159830718703), (2732, 0.020065268076054563), (2480, 0.020042849229723714), (1617, 0.02001493718111607), (4220, 0.02001431566485129), (2683, 0.02001239107127177), (1666, 0.01999605906794559), (1026, 0.01999349308052594), (1776, 0.019980414969273563), (973, 0.019977277580440295), (3737, 0.01995010187730825), (1443, 0.019935719125663536), (4743, 0.01988032712484781), (345, 0.019875534937501688), (3338, 0.01987159143178789), (2755, 0.019822147945777906), (1864, 0.019818264020755674), (4472, 0.019817937119795445), (1348, 0.019789972629700357), (3022, 0.01978920315750882), (1368, 0.019786318402702632), (1808, 0.01977703723542131), (664, 0.019767309132867013), (3991, 0.019739127090546926), (1701, 0.01973267789416575), (831, 0.0197122726900577), (3994, 0.019646302587503234), (47, 0.019642366491979403), (2770, 0.019609657415742113), (1105, 0.01960961574779435), (836, 0.019608872479563527), (895, 0.019564643010608958), (1060, 0.019563946589500926), (3244, 0.019538927458944956), (477, 0.019535928344917998), (1645, 0.01953044270035723), (2656, 0.019526711586686597), (1162, 0.019492077494226507), (4252, 0.019451053091355), (3420, 0.019443090406167873), (2297, 0.019435679397869585), (4432, 0.019369406203775946), (1129, 0.01933000352062607), (312, 0.01931492633324728), (2525, 0.019310633516847232), (373, 0.01930985642770145), (4407, 0.01930175417768423), (2059, 0.019299978021155583), (3243, 0.019298536168922787), (2210, 0.01927984462936218), (900, 0.01926534102041261), (1695, 0.019242793881369475), (3518, 0.01923304810010917), (3395, 0.019228177502421038), (1818, 0.019215049353780777), (920, 0.019215016684921038), (2603, 0.01916583958388727), (2207, 0.01916254589121419), (2723, 0.019161373355388613), (3121, 0.019151805086933364), (3673, 0.019104511337029194), (1712, 0.01909743431960774), (3342, 0.019037454676741006), (1582, 0.01903612957818754), (2899, 0.019004428157047587), (3696, 0.018973746214954096), (208, 0.018968153216750543), (445, 0.018944436461221556), (3350, 0.018924135799375786), (465, 0.018922729603899277), (532, 0.018919904099980282), (4203, 0.018879696662727062), (2050, 0.018865190003062575), (4364, 0.018848169453973253), (4551, 0.018825178282590182), (2924, 0.018819252725992823), (568, 0.018806392274173616), (1084, 0.018796053366830053), (3138, 0.018790985824610147), (1902, 0.018779497187490054), (3866, 0.01877456899245475), (443, 0.018768846987934747), (1800, 0.018729360898797575), (3343, 0.018726936208726536), (2665, 0.018720747529328213), (2996, 0.018719755598525872), (3924, 0.018698729463330014), (3043, 0.018692399706677083), (1604, 0.01866975469685185), (2913, 0.018635257308348568), (89, 0.018617731910720872), (3485, 0.01859959530971716), (1601, 0.018578963000768216), (2952, 0.018571216591191042), (985, 0.01856261592057127), (4307, 0.018538565683597755), (1883, 0.018516767121910995), (3237, 0.018515464933196106), (712, 0.018492417446998453), (2262, 0.01847528923851325), (4613, 0.01845577396811318), (4395, 0.0184476818768033), (3964, 0.018441277757805977), (1353, 0.0184364709978348), (1679, 0.018430771166900152), (1480, 0.018430133899852583), (2117, 0.018399820434519175), (4066, 0.018381437336460284), (663, 0.018351947925189946), (2548, 0.01832158795345304), (1774, 0.018320235315809535), (3537, 0.018303069547245462), (1235, 0.018287984151599428), (1539, 0.018286173872638877), (2867, 0.018283471504243996), (3279, 0.018276894430811305), (3110, 0.018254552454608348), (3699, 0.01824871552262082), (1489, 0.01823383122726083), (2539, 0.018170101286289805), (3792, 0.018169305083966362), (317, 0.018148991731012355), (958, 0.018123557001175284), (807, 0.01811826292634299), (1663, 0.01807102695415238), (4064, 0.01806845226598754), (3695, 0.018067203738459922), (100, 0.01805920943652873), (1871, 0.01805729234624254), (2929, 0.018030727927584925), (1725, 0.018006377504115337), (847, 0.017986646028673704), (3894, 0.017985404100811214), (3541, 0.017972127655648942), (2688, 0.01795736594087209), (3797, 0.017956843943967373), (496, 0.017928564967125468), (3387, 0.017919352769036067), (4518, 0.017913411944675335), (1616, 0.01790538658246818), (495, 0.017880824102595515), (820, 0.017858110391379044), (109, 0.017812322668654935), (3205, 0.017805264784222827), (3730, 0.017804890189335378), (3711, 0.017803008159123085), (4304, 0.017796185575232912), (4240, 0.01778046441573685), (3216, 0.017779304593526352), (4132, 0.017773453518384264), (6, 0.01776582166456882), (3899, 0.01776391912920208), (3914, 0.01774945514155692), (2715, 0.017699188701988233), (1511, 0.017686417836433474), (2391, 0.01763583433502021), (4106, 0.01761443937423706), (3045, 0.01761398730483516), (457, 0.017605615347262737), (3235, 0.017602549394928866), (3508, 0.017582759575888635), (3269, 0.017553034801306117), (3684, 0.017545164528659386), (3893, 0.01753013971496155), (692, 0.01752537778064591), (1494, 0.017523850877135982), (3681, 0.017412283206002147), (1846, 0.01740467380570372), (4460, 0.01738064480274193), (1575, 0.01737460932348656), (1614, 0.01735946108587301), (10, 0.017357304877482896), (1014, 0.017347336624588316), (4402, 0.01733374687196565), (683, 0.01731007328705401), (737, 0.01729423495561684), (817, 0.01728967860274609), (2741, 0.017271433824812818), (1458, 0.01724488712367734), (1407, 0.017244618845237387), (2821, 0.01722683089717283), (384, 0.01721962127044681), (2140, 0.01717478359662612), (3849, 0.017150225874760776), (4110, 0.017149172051205697), (4756, 0.017144932782886133), (3995, 0.017119232966885226), (2633, 0.017099306678361646), (203, 0.017090767278506697), (980, 0.01706570895617553), (671, 0.01705016367299071), (656, 0.0170479755196237), (1957, 0.01703507218946752), (1071, 0.01702961577061055), (164, 0.017000650242523584), (1690, 0.016965433342358793), (1376, 0.01696518543961189), (4022, 0.016934950287660764), (3289, 0.016922067815428807), (2085, 0.016906631976392347), (3234, 0.0169047143549828), (3392, 0.016845818075356865), (2222, 0.016823543404601026), (2878, 0.016821826355253526), (3835, 0.016817077454836474), (4732, 0.016724041366724954), (1423, 0.016711712415482104), (4562, 0.016701922051015804), (4376, 0.016698835414461623), (4372, 0.016691931954572962), (4118, 0.01667769566048898), (874, 0.01666343497326258), (4057, 0.01666234724929122), (110, 0.016646295097336693), (1951, 0.016641549812445675), (519, 0.01662614508226883), (2177, 0.016611798239518357), (2632, 0.016610460035291402), (4663, 0.016604517951419814), (1222, 0.016585569951394045), (2592, 0.016576216675557552), (1306, 0.01657376363704248), (1488, 0.016553640691961805), (3627, 0.016531018307941157), (1122, 0.016520662143744546), (1104, 0.016509329936571816), (232, 0.016508892914387494), (2981, 0.016506333924883286), (44, 0.016505753464896276), (600, 0.016504528835269833), (2007, 0.016487015064667543), (2062, 0.016470856681225117), (3656, 0.016465655500948233), (1998, 0.016422912736132392), (3010, 0.01640303175202456), (1006, 0.016386953811568666), (2836, 0.01638375928085816), (201, 0.01636478379003118), (297, 0.01636178581146805), (4140, 0.01635989066774548), (1850, 0.01635579984115937), (30, 0.016351790950860548), (1018, 0.016346921825489802), (3155, 0.016338117470924254), (938, 0.016326199422024807), (1453, 0.016314946619232433), (4258, 0.016314275705023584), (378, 0.0162966115380176), (3970, 0.0162690621302815), (4487, 0.016267935287309215), (441, 0.016258413310951916), (1873, 0.016243174715826186), (3604, 0.01620776622463147), (2626, 0.01619520313011182), (610, 0.0161939993103401), (2387, 0.01619182650910448), (266, 0.01615791654590982), (3477, 0.016150715711747685), (971, 0.016144831607400635), (962, 0.01612943741922623), (1768, 0.016126515396063544), (1464, 0.01611631655950122), (1692, 0.016115353260700457), (1029, 0.016096922371436395), (678, 0.016086953233330165), (3553, 0.016082551758278364), (3574, 0.01607554980189584), (763, 0.016058840752482574), (2070, 0.016034229732641146), (3370, 0.016033380217773896), (1077, 0.016024132907786204), (1592, 0.016014308084937517), (2730, 0.015998247533731226), (890, 0.015991538946996797), (3458, 0.015971302782940476), (728, 0.015915749272072913), (2465, 0.01591409882036321), (3156, 0.015903664969013392), (923, 0.015901544412434573), (216, 0.015896499901745718), (271, 0.015884702295632082), (3142, 0.015866731917149816), (1341, 0.01585901048276371), (991, 0.01583991521808725), (4309, 0.0158381441826202), (2677, 0.015810462222688674), (1171, 0.01579228780436072), (2582, 0.015777627463617265), (2841, 0.0157488403865684), (3028, 0.01573946857873923), (1969, 0.015718353976778753), (541, 0.015695707462190244), (3710, 0.015687758425321996), (1878, 0.015683576974096936), (122, 0.015669549951213668), (1428, 0.015652473945249733), (892, 0.015648012443048066), (3886, 0.015642089000112287), (1522, 0.015617264273580627), (407, 0.015610076326774181), (3905, 0.015609051247397433), (3303, 0.015603658567276689), (4511, 0.01560060286347299), (689, 0.015599098529785558), (3630, 0.015589874255186053), (415, 0.015586194269755644), (4279, 0.01557548738344772), (1526, 0.015564536975645464), (4047, 0.015544065507556194), (4414, 0.015537714974885233), (338, 0.015519342913237408), (3984, 0.015518913308802331), (52, 0.015515469780033068), (3214, 0.015491873952276298), (1372, 0.015489377459332258), (2036, 0.015484598617237128), (2413, 0.015478639234324148), (1447, 0.015470905156359746), (1577, 0.015467068429888887), (169, 0.015410549119513945), (827, 0.015394211801232871), (82, 0.015387330714336525), (966, 0.015378362382753214), (3666, 0.015321755824177087), (2119, 0.01531771213397679), (981, 0.015313978132518363), (1501, 0.015313804618662503), (4721, 0.015306133014891893), (2129, 0.01530023783301732), (3330, 0.015280996637682426), (1542, 0.015278039678886874), (745, 0.015272075176700504), (292, 0.015217953151438257), (59, 0.015203408931850723), (1442, 0.015180091419709392), (191, 0.0151769957411333), (3065, 0.015175678151961186), (2578, 0.01516781322394127), (2092, 0.01515879462581001), (3083, 0.01514094899707711), (2616, 0.015121483854757901), (1421, 0.015120998774393856), (2763, 0.015103640004115383), (3718, 0.015103119428179525), (585, 0.015088911672954407), (3546, 0.01508313916783079), (3644, 0.015064865788867112), (1068, 0.015062754861886313), (750, 0.015033460463703718), (448, 0.015029219676332856), (2074, 0.015016930588885162), (2479, 0.01501304568889545), (2143, 0.014996450906583258), (1680, 0.014996253331047964), (510, 0.014984317962930403), (225, 0.01497484937457743), (618, 0.014969039371114864), (1877, 0.014967406397407979), (304, 0.014960531016751943), (94, 0.014957278791655506), (4214, 0.014946969631890974), (3247, 0.014933916442821589), (4113, 0.014932876196834722), (2274, 0.014930899520827932), (80, 0.014923823217124352), (3141, 0.014900001038286623), (3651, 0.014895281109929125), (1298, 0.014890175418761248), (2885, 0.014881822429539577), (2954, 0.014871950218868921), (696, 0.014853143951091314), (3716, 0.014845759389552037), (3738, 0.014842439136215779), (1288, 0.014819463577008868), (3427, 0.014812141829649739), (2268, 0.014808502360027322), (4504, 0.01479885572624794), (901, 0.014798348398107631), (2027, 0.01479054769195632), (3149, 0.014789894685064097), (1493, 0.014782605733124985), (1597, 0.014770328246079807), (3960, 0.014761544180663489), (1626, 0.0147582342132468), (1973, 0.014755230437850465), (2026, 0.014744672905480576), (762, 0.0147441669674734), (479, 0.01473897894522079), (486, 0.014724814989904331), (802, 0.01471073934580266), (3106, 0.014709676623606057), (64, 0.014601630569552009), (29, 0.014601619245802841), (4676, 0.014593153442322487), (200, 0.014590216617116873), (2595, 0.014582255215812235), (251, 0.014579557484579257), (454, 0.014557231541214875), (1127, 0.014523935490229012), (3293, 0.014512816492936705), (978, 0.014507975888899087), (4440, 0.01450703510208501), (2156, 0.014503265615471314), (1330, 0.014485638263957101), (878, 0.014482418954346326), (559, 0.014456798306773598), (4531, 0.014430126298870298), (403, 0.014417767190438104), (557, 0.014379746689885438), (358, 0.014351642806023452), (2696, 0.014296055450210577), (4201, 0.014290509940976326), (3425, 0.014249738127429593), (905, 0.01422624949302744), (102, 0.014225397469375681), (3408, 0.014221817295249604), (390, 0.014202638825341361), (342, 0.01418434727420196), (744, 0.014179937727073922), (520, 0.014178436303797866), (4323, 0.014161327801150913), (2301, 0.014147051577330184), (3251, 0.014086229414093952), (3759, 0.014080128995876996), (1157, 0.014068717234249996), (1379, 0.01406492631865027), (4194, 0.014056020441996964), (2618, 0.014053961869004166), (3413, 0.014047854903063072), (797, 0.014031202726384123), (4076, 0.014027417183228672), (642, 0.014016393958873212), (4250, 0.01401090996661949), (330, 0.014010642497764115), (2982, 0.013995683360886694), (489, 0.013990905992681808), (2931, 0.013989852748991774), (4158, 0.013985001649537424), (670, 0.01397984909920709), (4032, 0.013965529807480571), (319, 0.013937692855736473), (2725, 0.013925302617222114), (2712, 0.013912075683304364), (3137, 0.013897095696386435), (2817, 0.013884171400228944), (1049, 0.013868336367367094), (336, 0.01385799719505456), (2009, 0.013852160637325072), (3678, 0.013852065914861083), (792, 0.013850587459989908), (2594, 0.013821612322314889), (1721, 0.013808266133253939), (2459, 0.013807161420009099), (2496, 0.013799818339402234), (2170, 0.01379971769338265), (1655, 0.013798721091902187), (3753, 0.013793520333036149), (1168, 0.013780783291559089), (1938, 0.013766985143082845), (639, 0.013753532652374813), (2625, 0.013750693141626786), (2200, 0.013738865657542265), (641, 0.013736336406623337), (577, 0.013732717303519838), (1859, 0.013729850096316196), (3206, 0.013724748819103436), (1558, 0.013717240287889282), (3903, 0.013708906101660895), (2351, 0.013698039944859672), (3094, 0.013684855821080427), (3180, 0.0136821006456115), (3950, 0.01367072762503846), (1718, 0.01364822105218504), (4324, 0.013633448764795641), (186, 0.013620742990616297), (1881, 0.013618959727762439), (4063, 0.013618229035285426), (714, 0.013603487867834444), (3610, 0.013554095355211099), (33, 0.013550651311350111), (69, 0.013503340759716277), (184, 0.013502177100717662), (438, 0.013498791503784326), (153, 0.013488001415623157), (2053, 0.013442936684577238), (4031, 0.01341532010276468), (2976, 0.013413006485408663), (4023, 0.013396326158110696), (3376, 0.01339396935951737), (2034, 0.01336908249608906), (2882, 0.013363872438224607), (582, 0.013363826287902315), (924, 0.01335594779964541), (4295, 0.013353318029936065), (3889, 0.01333747712431826), (1093, 0.01333721968513304), (1431, 0.013333094737868166), (674, 0.01332717918660008), (2526, 0.01332637368313331), (1352, 0.013323542476066267), (3152, 0.013273994295223624), (998, 0.013258546745380032), (175, 0.013244590367493505), (3148, 0.013241971517763875), (1576, 0.013225780841606059), (3801, 0.013220712417088094), (2761, 0.013194859434731589), (945, 0.01318437154782014), (162, 0.013145429301576259), (4607, 0.013114474115035406), (3424, 0.01311297042418812), (2574, 0.01310553555463202), (1779, 0.013093355027193969), (1791, 0.013092492875433877), (2366, 0.01308646854201608), (1572, 0.013085718599865749), (612, 0.013057210707914742), (2873, 0.013034249949158822), (1374, 0.01303021466550469), (775, 0.013013467599806598), (1217, 0.012999111986296856), (125, 0.012986421218683613), (2220, 0.012968102059001762), (4138, 0.012963774444878362), (1022, 0.012961249352954722), (1678, 0.012946410624213634), (1797, 0.012936869948907682), (726, 0.012931596378877946), (547, 0.012927576933503476), (537, 0.01291241254845757), (254, 0.01289098772983113), (2051, 0.012888292207801235), (1734, 0.012886105560875213), (228, 0.012882810966993199), (4241, 0.012877480601621721), (1285, 0.012871573375978836), (1411, 0.01286673874726553), (2672, 0.012862830493175388), (1588, 0.012849853237601815), (1852, 0.012840211943199793), (2904, 0.012791359360581567), (2807, 0.01277387544444723), (4515, 0.012770177509208471), (2481, 0.012768978224871498), (1699, 0.01276714276259382), (1023, 0.012751121848615078), (150, 0.012746038618058623), (3447, 0.012723400382180304), (2915, 0.012718668515969315), (3751, 0.012711513696724536), (861, 0.012707110607732075), (3709, 0.01269105997829844), (2698, 0.012686211824199217), (25, 0.012683619887436534), (2103, 0.012678705700444135), (152, 0.012644780976389521), (444, 0.012639378227669064), (3273, 0.01262897683696138), (790, 0.012620180433014803), (1627, 0.012613889825712783), (700, 0.012590864373064933), (1267, 0.012587203756837381), (3768, 0.012567580367464627), (4245, 0.012565920769746749), (432, 0.012553527899361327), (395, 0.012548228878875254), (223, 0.012538378646512225), (4703, 0.01253525101546085), (3781, 0.012531336044024559), (872, 0.012520849130153467), (4111, 0.01252040225606845), (2038, 0.012515491316728198), (3060, 0.01250093917025808), (3697, 0.012497012623395124), (1632, 0.0124841758437956), (2829, 0.012474968779616409), (1089, 0.012471641115678524), (811, 0.012468128450094965), (2375, 0.01246218483112196), (2586, 0.012460430680953899), (1479, 0.012441651486269757), (4155, 0.01243933032466003), (4728, 0.012431865588578605), (630, 0.012426147640056607), (284, 0.012417673600563367), (1175, 0.012411234450743597), (453, 0.012408342449058253), (2409, 0.012401301443043033), (1232, 0.0123929619802303), (4441, 0.012368884199105378), (4177, 0.01235729597751977), (2472, 0.012337118326255789), (2876, 0.012324314408023958), (3511, 0.012311253142926958), (1404, 0.012308124804139862), (1897, 0.012299361568076829), (2331, 0.012285244594834124), (1345, 0.012270831606022605), (4292, 0.01226793187746484), (2311, 0.012248450060633007), (4409, 0.012225342598655358), (1723, 0.012223371374512033), (1811, 0.012199196035689098), (400, 0.01218517981007364), (2552, 0.012173623048236071), (1228, 0.01217299938349868), (2254, 0.012172898631463435), (3399, 0.012164864368735666), (2405, 0.012164185675204333), (50, 0.01214501741274423), (3966, 0.012143687772002382), (301, 0.012139497690649606), (1028, 0.012137565414232707), (1161, 0.012136198733907394), (1662, 0.012135611318679115), (467, 0.012122924171383574), (3647, 0.01209974320878397), (4422, 0.012086239295639895), (781, 0.012085796577099833), (2697, 0.012080471333667981), (3997, 0.012076443466998156), (4289, 0.012073637182225413), (1696, 0.012059494986517533), (240, 0.012052080726060543), (2317, 0.012047748674413354), (3854, 0.01204095399522288), (2018, 0.012036183049041266), (539, 0.012034305511209929), (3626, 0.012033750842811452), (3773, 0.012028172468359055), (176, 0.012017748563842556), (369, 0.012004217933812702), (193, 0.011993611647851739), (3809, 0.011982987271476746), (2531, 0.011960115296509411), (4136, 0.011954996868299433), (1613, 0.011936891089674625), (273, 0.011934180812189067), (2550, 0.011933047010816556), (2259, 0.011930198726245882), (349, 0.011927596005840483), (3284, 0.01192530846485049), (676, 0.011922715357222134), (1420, 0.011919762593594932), (3536, 0.011907465092477285), (1603, 0.01190436506481423), (1821, 0.011903730604582465), (3501, 0.011888519838464345), (2088, 0.011884891332398501), (2685, 0.011869485370683016), (1115, 0.01185706375204437), (1445, 0.011852294633220385), (1475, 0.01182562468874051), (1500, 0.011825472096466047), (4466, 0.011812108361188654), (2144, 0.011797275005944427), (628, 0.011791800860613388), (1741, 0.01179026254883924), (793, 0.011780860441099154), (3311, 0.011778402141815768), (2192, 0.011778135161517012), (4609, 0.011776031857749836), (3034, 0.01177173911054998), (1809, 0.011767528162593972), (1525, 0.011766411824216585), (3701, 0.011765095914052424), (637, 0.01174692096784114), (2865, 0.011729744747527058), (1000, 0.011711425764855472), (4628, 0.011708476894165584), (4143, 0.011704306309440254), (849, 0.011687919557618921), (3188, 0.011682303848664517), (2239, 0.01167465921740113), (1425, 0.011674489424864218), (4114, 0.011668273721566943), (3643, 0.011658491182073242), (1112, 0.011648869863422886), (2999, 0.01162931447590258), (3840, 0.011628797190586845), (4098, 0.011627817763466813), (1397, 0.011626291720456157), (2822, 0.011602915117317076), (840, 0.011587453469320321), (3466, 0.011577522759963427), (1392, 0.011576787322694756), (1323, 0.011551352928116064), (61, 0.011546885377345543), (4745, 0.011545203415282736), (1942, 0.011541041378433602), (129, 0.011530411639610348), (1621, 0.011529814148856992), (54, 0.011520075634057853), (1440, 0.0115188420522012), (975, 0.011512901442599711), (4004, 0.011504092880921747), (824, 0.011502506524160593), (1292, 0.011501179407198144), (2198, 0.011497922237370974), (4330, 0.011482457379935931), (299, 0.011474205720141503), (3033, 0.0114695538542763), (1410, 0.011464951291852585), (1899, 0.01146483820465131), (2046, 0.011461751531292416), (545, 0.011438307569947088), (4530, 0.011438248935885485), (4591, 0.011437895181242223), (4606, 0.011433614341137646), (1406, 0.011430591073305008), (3411, 0.011423795379078868), (2533, 0.011409216940195583), (4081, 0.011406506658514911), (4327, 0.011398074934136436), (697, 0.01139114162283551), (3637, 0.011386925712458286), (693, 0.011383274328374103), (4482, 0.011382190954274313), (315, 0.01137860987576534), (1385, 0.011357987903260607), (1172, 0.011357507373321616), (2354, 0.01135503091839061), (2804, 0.011347190877634665), (3416, 0.01133310534693163), (1227, 0.011332210827339548), (263, 0.01132608152184517), (1269, 0.011325427995928785), (4320, 0.011314913087218485), (1197, 0.011307377988703737), (1106, 0.011306676749612938), (359, 0.011286031601767442), (2942, 0.01126719072485664), (1672, 0.01125817021167015), (834, 0.011251363953044448), (1579, 0.011249999461884479), (4157, 0.011245943895039374), (3736, 0.011239782037882588), (2998, 0.011239283713059331), (287, 0.01123024736987209), (1709, 0.011220006595580043), (4122, 0.01121623578186049), (466, 0.011214922538774557), (464, 0.011212713158106957), (3066, 0.011212310229283796), (1231, 0.011207365778919943), (1912, 0.011197520074571863), (3443, 0.011188822861155315), (1263, 0.011186437546241317), (2801, 0.011169571769481901), (3824, 0.01116277922569107), (3602, 0.011153834702853528), (1073, 0.01111923584469521), (3579, 0.011114294060727201), (3731, 0.011104192716635423), (1387, 0.011102011534744754), (1532, 0.011101804388007168), (773, 0.011101686612731275), (2513, 0.011100239064031365), (2226, 0.011092161432438354), (1802, 0.011090250497573863), (3318, 0.011083861673505575), (3706, 0.011070668684836374), (1463, 0.011064738311462874), (2175, 0.011051939214427726), (1759, 0.011050730216315792), (2622, 0.01104701865354379), (35, 0.01104363559975108), (2204, 0.01103781775728349), (4282, 0.011017078970741754), (3615, 0.011013662708139043), (4438, 0.011002330143491793), (4183, 0.011002310871741992), (1934, 0.010980968482673261), (154, 0.01097821510264147), (1414, 0.010971416022671442), (672, 0.01096622346164014), (4726, 0.010965147626414637), (1982, 0.010962486331554114), (1247, 0.010956484965978711), (3151, 0.010931758617838034), (2918, 0.010928793194991149), (37, 0.010925836662603832), (85, 0.010912794096286307), (1675, 0.010903250057633347), (1117, 0.010897401022811986), (2958, 0.010895938737987138), (45, 0.010891617144621526), (2064, 0.010868987419775097), (2528, 0.010861188404279356), (67, 0.010852926112772544), (3646, 0.010851365727722459), (1654, 0.010827986465379176), (2812, 0.010815278664266265), (4247, 0.01080908552626424), (2107, 0.010805244214043991), (2379, 0.01080451996161887), (4616, 0.010803895535184587), (2031, 0.010800137928864731), (214, 0.010792390092794608), (3619, 0.010789812314409602), (2358, 0.010787920037679996), (3839, 0.010787680218830302), (1667, 0.010778783072510746), (4479, 0.010771833229062569), (4553, 0.010753445162184787), (88, 0.01073945529245715), (1206, 0.010727980313497096), (812, 0.010725897566524166), (835, 0.010725475583282648), (3077, 0.010712605734056305), (939, 0.010699548078996127), (803, 0.010697092639586124), (276, 0.01069586765220949), (4205, 0.01069024618897418), (1369, 0.010657139980277596), (4451, 0.010655695412170913), (2750, 0.010654116593433814), (3856, 0.010643259257425894), (381, 0.010634804185793413), (2378, 0.010628487286274526), (833, 0.010616311737448805), (702, 0.010613108379881444), (2149, 0.010598971746347852), (2402, 0.010591825996474033), (473, 0.010581135593248076), (156, 0.010577539513555896), (944, 0.010568718564890478), (237, 0.010563497181928548), (4348, 0.010553643746976649), (838, 0.010548070497032736), (1875, 0.01053844954260626), (222, 0.010534181438132142), (868, 0.010532203874015206), (2158, 0.010530079219355561), (1308, 0.010528830588515892), (1135, 0.010526628793135998), (3, 0.010521591718659169), (1625, 0.010516859477805188), (3863, 0.010509679222634388), (249, 0.010496296905024415), (1509, 0.010474869523888887), (3754, 0.010473708469590648), (4021, 0.01046357609063378), (3369, 0.01046347656187034), (4165, 0.010460989998639059), (3563, 0.010459387454433094), (511, 0.010451681237298859), (1543, 0.0104511355542484), (604, 0.01043271846864515), (653, 0.010413217565870724), (2412, 0.010392278544784014), (4104, 0.010366879225716386), (4502, 0.010360538790838014), (3861, 0.010356192635562745), (3796, 0.010354482242782709), (3117, 0.010353413765132026), (1153, 0.010346291617414204), (3972, 0.01034419070826536), (1507, 0.010342215923688225), (3990, 0.01033361402862326), (4610, 0.010321390001825755), (4117, 0.010309434379328599), (3474, 0.010307668706251397), (668, 0.010301257285778525), (3841, 0.010291545656861387), (1869, 0.010270603524591165), (449, 0.010259390377732661), (1827, 0.010257920572070844), (4558, 0.010247613376301038), (168, 0.010233419005622264), (4350, 0.010224587437568777), (2326, 0.01022432154593245), (497, 0.010212421442953463), (4366, 0.010199683047928326), (161, 0.010196335722708711), (2460, 0.010192589977424203), (1219, 0.010176501109370784), (142, 0.010174939796404436), (1394, 0.010167540550310532), (3556, 0.010142772700543664), (1921, 0.010137890760325107), (723, 0.01013188125568688), (2573, 0.010080868269506023), (433, 0.010059766126859555), (4661, 0.010055243410166285), (393, 0.010045587747412267), (3204, 0.010021759913437015), (1580, 0.009965706191090076), (2159, 0.009958808221548316), (32, 0.009947764091812205), (2281, 0.009932337522562161), (3895, 0.00993021465247578), (3529, 0.00992403119436221), (141, 0.009919852716270229), (2524, 0.009909747078515106), (3183, 0.009889708530996445), (1563, 0.009811890536400017), (3219, 0.009783803621806069), (1062, 0.009779217079132266), (2448, 0.009777239709224951), (725, 0.009762443936962182), (3983, 0.009754744784259525), (2199, 0.00974540491242622), (1277, 0.009737022054998816), (4627, 0.009733652920115817), (3892, 0.009732270955937766), (2776, 0.00972692807014159), (430, 0.009720646079444463), (4740, 0.009719337253206943), (2643, 0.009682401757949469), (3175, 0.009677669672845418), (2296, 0.009640264200952599), (2257, 0.009638819945185064), (2771, 0.009625480818716186), (4169, 0.009620273063214148), (3078, 0.009620245572474418), (843, 0.009618128555309038), (719, 0.009615221919585741), (2901, 0.009612071476803903), (2154, 0.009589507126412208), (757, 0.009560244075128729), (2530, 0.009515361698677978), (3472, 0.009484719690149409), (1393, 0.009482963671880161), (143, 0.009474018957702652), (2441, 0.00947083419412101), (1963, 0.00946265275606227), (1209, 0.009453008175308409), (2423, 0.009434923649043962), (2601, 0.009418731060564088), (3224, 0.009402706287918297), (611, 0.0093953620093581), (4079, 0.009362252029415912), (2376, 0.009341881991393177), (4589, 0.00933907355656719), (3345, 0.009315180354202597), (377, 0.009305337572063687), (1777, 0.009278361520757908), (2320, 0.00927575356479163), (3254, 0.009275133433721107), (1334, 0.009271123030600303), (3741, 0.009268350277898985), (2427, 0.009268150941285842), (3000, 0.009246872446626997), (3613, 0.009234180308654139), (1686, 0.009233153808975596), (3113, 0.009211471705166984), (3980, 0.009206409233236753), (2474, 0.00918242157753891), (4267, 0.009162035078528932), (1144, 0.009149480154988746), (1599, 0.009144007707395211), (3520, 0.009142622413987276), (1040, 0.009134792395815633), (4677, 0.009128221362960078), (2122, 0.009117334127279362), (3620, 0.009116333975871164), (3089, 0.009096119343049606), (2826, 0.009079533521848312), (494, 0.009072766613737605), (822, 0.009069521821585621), (3554, 0.009062663321700424), (4683, 0.009061724202006767), (172, 0.00905994611906948), (1419, 0.009042070525663743), (4736, 0.009025805626407698), (452, 0.00901428190977254), (2756, 0.009012534623244453), (607, 0.009012235213495689), (1133, 0.0090118883787722), (813, 0.008961537413931814), (2174, 0.00895197567602445), (3414, 0.008931629148161075), (4483, 0.008930743348357974), (4190, 0.008928790378385142), (4730, 0.00891828900418602), (1549, 0.008908640124938914), (1757, 0.008896787181356215), (3195, 0.008887665960622513), (2687, 0.008885380473599122), (1100, 0.008881840771577859), (2772, 0.008868401527040685), (4119, 0.008868211818045894), (1615, 0.008865704059270644), (101, 0.008846897293780173), (4711, 0.008836043165292918), (3400, 0.008832159072881998), (3763, 0.008823129326023273), (3081, 0.008810663695053627), (3524, 0.008808355327780898), (3585, 0.008802379862719353), (4534, 0.008783780782627156), (684, 0.008782305114377224), (982, 0.008777215449970215), (1967, 0.00877365682689054), (3677, 0.00875839321086995), (1245, 0.008754369007439108), (2912, 0.008744948540867563), (339, 0.008739710351372288), (1466, 0.008727580272544432), (87, 0.008718352426367877), (4061, 0.008715405809715648), (635, 0.008711281308467699), (2269, 0.008689011970962118), (3487, 0.008683306498998762), (396, 0.008678780891374173), (2261, 0.008677896280356482), (1248, 0.008677172638917038), (1997, 0.008668896186076839), (4332, 0.008656430609540355), (4567, 0.008631586735187406), (4587, 0.008607531607571767), (2252, 0.008596919430895912), (4599, 0.008587622630142792), (4516, 0.008584843472818855), (4312, 0.008572508252053874), (2751, 0.008564360890055892), (4431, 0.008533044132860572), (3014, 0.008525808118204348), (2555, 0.008513445142039716), (2223, 0.008512281219474442), (1713, 0.008501202840647365), (4737, 0.008488690515713005), (74, 0.00848594349401913), (311, 0.008476877801859482), (930, 0.008468994015767804), (4265, 0.008444261166780672), (418, 0.008439800533115766), (576, 0.008439491333505685), (220, 0.008435570317933412), (3452, 0.008421511317116381), (1649, 0.008416842854998628), (4160, 0.008393851862719577), (2810, 0.00839051645350662), (523, 0.008387513983170022), (2916, 0.00838578354789679), (2799, 0.00837928317809264), (308, 0.008371716530674875), (1689, 0.008371330629255559), (4624, 0.008366888504856312), (1919, 0.008365243970400312), (1192, 0.008359793656303955), (2381, 0.00834701542808895), (3080, 0.008344761880394147), (1396, 0.008344254303765786), (3558, 0.008337822165078067), (2399, 0.00833660341325094), (4397, 0.008331998136165076), (4259, 0.00831584566085944), (2845, 0.008312522009847749), (3682, 0.008312507402481559), (858, 0.008303644646254509), (2347, 0.008302200601483503), (3907, 0.00827815742817571), (4025, 0.008277761051238904), (686, 0.008274223540054873), (2176, 0.008264560118815281), (1766, 0.00826146606718975), (715, 0.008261362662106494), (3329, 0.00825647785197113), (2049, 0.008253526065850258), (218, 0.008245167683482041), (3581, 0.008229906308432353), (3265, 0.008222701511805089), (685, 0.008196474744454394), (1506, 0.008196171474980174), (1865, 0.008193138513167138), (1567, 0.008181012327867433), (285, 0.008179449897780302), (3813, 0.008168613710995276), (977, 0.008166213568083478), (3690, 0.008154130184405249), (1111, 0.008153608147121568), (2604, 0.008147401002138488), (2017, 0.008142956375322785), (1688, 0.008136259328206196), (2614, 0.008129040927541048), (56, 0.008123736192525086), (997, 0.008122453752839636), (2082, 0.008121841000138677), (3938, 0.008117320381892662), (1087, 0.008111853817928125), (2371, 0.00810995570658193), (2798, 0.008102414204792881), (2191, 0.008099474937511028), (1413, 0.008097709648993378), (3704, 0.008090379247009167), (1, 0.00806674385442584), (732, 0.008062248365034327), (3112, 0.008050383479440964), (1978, 0.008049443436513322), (340, 0.008043837672625039), (1977, 0.008041041118497865), (333, 0.008033174089155989), (2492, 0.008028925004318727), (1731, 0.008026463679191182), (405, 0.008025951567584939), (2935, 0.008020967270255856), (39, 0.00801173739882585), (1683, 0.008011303612852292), (1191, 0.008010455011969998), (2260, 0.00800869946090723), (3728, 0.00800566584953259), (1141, 0.008000682271846906), (413, 0.007994345185436335), (4001, 0.00799241921338746), (4343, 0.007988341435180424), (749, 0.007983783539740923), (1304, 0.007981638269905098), (135, 0.007972124708847294), (92, 0.007947903374515583), (605, 0.007946811483265962), (1517, 0.007943907557714678), (460, 0.007941899329854516), (3084, 0.007940327361359573), (1213, 0.007933449163965989), (259, 0.007933300557534618), (2337, 0.007926223506189064), (647, 0.0079240799821726), (1013, 0.00791056161012238), (1531, 0.007910261466627606), (470, 0.007895959547886043), (1328, 0.007894863791512404), (1670, 0.007879683455866714), (3187, 0.007878329747347312), (1329, 0.007873777316590867), (3073, 0.007872341785852131), (3189, 0.007865639504123056), (2419, 0.00786540090408813), (1955, 0.007863887787528412), (2498, 0.007859425982144903), (727, 0.007839202877765877), (1249, 0.00782980567192652), (2520, 0.007829078460815604), (119, 0.007828109550456324), (3454, 0.007804992140903728), (2686, 0.007804250461170973), (1513, 0.007798774385507593), (2650, 0.007778335117089325), (2319, 0.007777370159410031), (1932, 0.0077738927603201525), (3765, 0.007750655166342681), (2422, 0.0077452169550966754), (4340, 0.007743016909582166), (4682, 0.007742266985955065), (1763, 0.007733924423198267), (2456, 0.00772699456009839), (4192, 0.007726516078924639), (120, 0.007721097140154415), (1697, 0.007706166782828025), (1113, 0.007702610474938289), (2466, 0.007688591497147473), (1668, 0.0076823609642824205), (4459, 0.007676089083056546), (310, 0.007666064252617513), (1936, 0.00765158982956073), (2035, 0.007650910301045191), (3912, 0.007648614033112868), (2680, 0.007648317292919016), (1033, 0.007648064040313925), (1825, 0.007632473380849079), (528, 0.007622991148254431), (3122, 0.007611712424345636), (1361, 0.0076048156384722464), (2896, 0.007602567529946121), (1889, 0.007600707624743307), (1204, 0.007595859168707433), (1915, 0.007588092746913419), (401, 0.007587741232399364), (221, 0.007586296055345218), (2887, 0.007585844430712624), (2765, 0.007584344176096575), (2549, 0.007582572943354943), (2224, 0.00757131953530435), (1630, 0.00757085895608706), (3335, 0.007564250958092457), (4501, 0.007563756906382575), (3215, 0.007553015175525374), (4399, 0.0075407182424582705), (2449, 0.007535049033259396), (2160, 0.007508127317544579), (3823, 0.007502056266139116), (2215, 0.007489315131915439), (2544, 0.007481169284417409), (963, 0.007458407801323754), (4568, 0.007457880540158429), (4328, 0.007453882956047904), (3807, 0.007447310031741886), (1746, 0.007446682727234684), (3940, 0.007446052808944364), (1196, 0.007437695490772333), (2862, 0.007435995192672182), (372, 0.007434376201619806), (3545, 0.007430913065708163), (113, 0.007426704734863767), (2071, 0.007422913387738661), (3058, 0.00741949311384226), (490, 0.00741342564262654), (1650, 0.007398766525656119), (2435, 0.00739276631217611), (1598, 0.007390322303233807), (1913, 0.007388065971638287), (1823, 0.007382353943562804), (1358, 0.0073784369874727515), (117, 0.007373104046039395), (76, 0.007369060039065758), (306, 0.00735149238554073), (1066, 0.007348671612262625), (4020, 0.007344659185559149), (1987, 0.007324165183012197), (2087, 0.00732238654639694), (2791, 0.007317566823972999), (440, 0.00731678598989484), (1270, 0.0073148369510086025), (1541, 0.007305118366062998), (2909, 0.007301516885465927), (124, 0.007285715994561956), (2401, 0.0072759399218978275), (934, 0.007271882941794714), (522, 0.007267207791145118), (2461, 0.007258860242517711), (1039, 0.007253837721151038), (194, 0.007246038292236858), (2338, 0.007208872681586976), (2058, 0.007200378872433436), (720, 0.007200365821977733), (4055, 0.007196724513371982), (898, 0.007187789837948722), (2285, 0.007179661581257168), (2065, 0.007168485610405457), (3327, 0.007156874695919397), (1839, 0.007149443189841517), (1854, 0.007147919949727281), (1744, 0.007142033614052711), (300, 0.007132468518400514), (713, 0.007127621812651144), (3533, 0.007111926984402817), (2724, 0.0070901089046511625), (859, 0.00707675716965511), (2972, 0.007056820003117181), (2047, 0.007050749981078624), (1783, 0.00704421749334062), (1608, 0.007042917669561253), (1553, 0.007041930243714464), (4596, 0.007032449999657696), (4679, 0.007014794185742671), (2975, 0.007009850085146346), (1898, 0.0070003665939845534), (1136, 0.006995056460787124), (2052, 0.006981949856488848), (2590, 0.006969252389379995), (4356, 0.006962570668257456), (2593, 0.0069072514043485595), (733, 0.006903636068979427), (357, 0.006885367655705301), (3923, 0.006878972549293708), (183, 0.006866041444533302), (2125, 0.006847112801769941), (199, 0.0068263637977986815), (1691, 0.006808137793365701), (3409, 0.006807361037866848), (2265, 0.006796455337828008), (4447, 0.0067921858316365), (1781, 0.006789034651056145), (4445, 0.0067798903075285116), (288, 0.006776068194553097), (1310, 0.006757003864166675), (3726, 0.006752810415771054), (2389, 0.0066780007159713654), (383, 0.006672299759279123), (2287, 0.006656786934867583), (2985, 0.006655365752070137), (3222, 0.006652612082166096), (1830, 0.006633572854961164), (2617, 0.006600579700798341), (2318, 0.006588022134004183), (738, 0.006573079996525147), (1684, 0.0065578981626627), (257, 0.006536450081741642), (412, 0.006518624938466797), (1943, 0.006516345802160949), (4541, 0.006516261824250163), (2721, 0.006505185961954391), (3875, 0.006485358136145333), (242, 0.006481895910056992), (1863, 0.006465717067582155), (1370, 0.006455263916348609), (789, 0.006439125700741985), (2006, 0.006384686354055825), (2758, 0.006358274818904255), (2013, 0.006357224795232125), (542, 0.006333171154370637), (1300, 0.00633044087517144), (159, 0.006244755249487865), (1418, 0.006133149406713606), (4652, 0.006098762324608132), (1005, 0.0060987178245020994), (2364, 0.006019344699240804), (1268, 0.005993504335937219), (1648, 0.005958614101552758), (1471, 0.00591690451087714), (929, 0.005755759510073164), (4635, 0.005674550879592116), (553, 0.005674279437465638), (4007, 0.005672742822257725), (1581, 0.005661408802407803), (243, 0.0056174501451630695), (2818, 0.005586731681018799), (2538, 0.005403709160891044), (2534, 0.0053390185259125575), (484, 0.005318370268553483), (2673, 0.0053071112339500475), (2547, 0.005253538167413895), (940, 0.005239521564467216), (4444, 0.00522601693187976), (3145, 0.005183070731796478), (2645, 0.005134288421465356), (4646, 0.005086604610033374), (1208, 0.0050862446479315645), (1548, 0.0050499305926484574), (2581, 0.004985352199621288), (3638, 0.004973992651269209), (4612, 0.004966542600388004), (2834, 0.004949488306185598), (4271, 0.004936515768826406), (3577, 0.004930353875051802), (2363, 0.004930190917623584), (4660, 0.00491953169742415), (1669, 0.00490875158669801), (3448, 0.004839629238132147), (4062, 0.00483210085085716), (3502, 0.004828830836781121), (368, 0.0047887462543290266), (1343, 0.004742567750279676), (512, 0.004741734598176587), (2738, 0.004708022670320722), (4594, 0.004699094249174231), (904, 0.004696235572443555), (1968, 0.004685132503887968), (4449, 0.004681051654418395), (3384, 0.0046771584187266565), (2032, 0.00467502522790464), (491, 0.004663972092945049), (4477, 0.004660869320101604), (3951, 0.0046550503511884845), (3172, 0.00464537682686343), (3450, 0.004633389951271543), (4002, 0.0046331505531406695), (4281, 0.004610931201483614), (3230, 0.00460582403803784), (3364, 0.00460551175060223), (2012, 0.004588003585176294), (380, 0.004583148236317379), (1381, 0.0045781764897727065), (614, 0.0045773616316104075), (2785, 0.004567750758299282), (2180, 0.004560371320126721), (38, 0.004559222984603855), (2486, 0.004554946129623041), (2079, 0.004554246536325053), (3661, 0.004549999636937983), (4121, 0.004537519626511424), (2638, 0.004532874654370976), (2339, 0.004531162879672894), (424, 0.004529805276238035), (425, 0.00452587516635196), (1887, 0.004521044240239976), (681, 0.00451670829461015), (3039, 0.004514483586038442), (1928, 0.0045102743555668085), (4462, 0.004508424330967047), (2470, 0.004505825091076091), (2518, 0.0045037503249639645), (1349, 0.004495139560733856), (3587, 0.004494045341617138), (2740, 0.004491912282117531), (4368, 0.004489973687035592), (666, 0.0044893041807769095), (1716, 0.004474184979759685), (3469, 0.004467733630235373), (250, 0.004464210373176368), (4108, 0.004464064162773005), (1858, 0.00446405195155086), (2436, 0.004458924292992399), (701, 0.004453378432365946), (747, 0.004447886005605871), (3857, 0.00443111142573584), (687, 0.004426198728133277), (4549, 0.004425682000122469), (2112, 0.0044032874210425), (4077, 0.004395866953991237), (48, 0.004395824239853521), (1486, 0.004393577790972237), (371, 0.004389997899182553), (4091, 0.004383574103009041), (1681, 0.004379959618740818), (2739, 0.004378117315767447), (2233, 0.00437808790935133), (3831, 0.004374852053972316), (1733, 0.004374317467286457), (677, 0.004372163455526821), (1583, 0.004370765082416809), (123, 0.004364812244578101), (4226, 0.004361470890305315), (1043, 0.004359692309039705), (675, 0.0043506864729964435), (2458, 0.004347636447275166), (1056, 0.004340617989122403), (3516, 0.004338852576820414), (704, 0.004313752696714953), (3271, 0.004310644160583386), (4659, 0.0043051335827940344), (1150, 0.004303019435527083), (4436, 0.004301932827034812), (1952, 0.004296001500267973), (3586, 0.004293480857798415), (420, 0.004289912737031914), (1798, 0.0042828652623763215), (4269, 0.004279267054314426), (1140, 0.004271648321389533), (3131, 0.004268232055034473), (4038, 0.004265104016338612), (2940, 0.004264130786309273), (12, 0.004260305191513622), (2963, 0.004259681670754197), (3780, 0.004259673867726893), (3438, 0.004259027501626991), (2609, 0.0042552803973743), (1619, 0.004251548597891477), (603, 0.004243313371986242), (680, 0.004242758116292071), (1031, 0.00424171913313962), (2147, 0.004234583693402104), (748, 0.004233344914724637), (1896, 0.004232274296666572), (913, 0.0042317816788533325), (3724, 0.004230171582392115), (1687, 0.004229930163847008), (3897, 0.00422984778412102), (2689, 0.004229081629408725), (2418, 0.0042288367549686645), (3618, 0.004228810531040094), (3464, 0.0042281566879340815), (1426, 0.004226729392342471), (2792, 0.0042266530443838), (1436, 0.004221160713139634), (4406, 0.0042198522357786645), (2330, 0.004218082239267808), (765, 0.0042163422104486), (2610, 0.004216173926008525), (3777, 0.004215167846155051), (1502, 0.004212960275747539), (3264, 0.004212527812101575), (483, 0.004212242296380204), (1893, 0.0042078287546474386), (1380, 0.00420745148692656), (3259, 0.004207392540916725), (654, 0.004204797680926479), (1185, 0.004203121530136803), (3277, 0.004200725325451118), (599, 0.004197111617904191), (3654, 0.004195743655625593), (2790, 0.004194626947621982), (2675, 0.0041821579312037475), (4363, 0.004178413388281971), (2640, 0.0041742495079745996), (3150, 0.004174087095932324), (3919, 0.004170462976328411), (211, 0.004170018319069774), (4621, 0.004168894925197958), (1660, 0.004168348664611486), (4448, 0.004166369544735573), (3018, 0.004166334670125144), (2015, 0.004165805460876568), (3599, 0.004165522388205852), (3378, 0.004163015154387707), (4629, 0.00416180237606827), (1047, 0.0041565933574002085), (1851, 0.004153400395927886), (2546, 0.004153126623893516), (2911, 0.004152058420418909), (2691, 0.004150602242112317), (2241, 0.004148568675843649), (1702, 0.0041465211872657925), (1048, 0.004145739548953945), (588, 0.004145589456540652), (3778, 0.004143966779574452), (551, 0.004143261930291825), (4262, 0.004141867367760589), (3507, 0.004135690923459145), (2511, 0.004135220885972753), (4486, 0.004135171147979721), (2072, 0.004133951694367745), (4379, 0.004133494806934721), (3920, 0.004132330671709671), (3959, 0.004132062834701352), (189, 0.00413128500019105), (11, 0.004131279873878878), (918, 0.0041286158854109785), (2816, 0.004127925113142491), (3689, 0.004126519549624466), (3549, 0.004125926789892404), (4467, 0.004120951253226468), (3463, 0.004115406077263498), (2126, 0.00411431336180839), (1636, 0.004110491557978175), (2334, 0.004106275805723729), (2431, 0.004105994367912014), (3233, 0.004104228143594718), (631, 0.004101952738072445), (3446, 0.004097180514128734), (2977, 0.004084866364464328), (2784, 0.0040777201013824475), (908, 0.004075626752052218), (1266, 0.004070152826030351), (2444, 0.004069432555629688), (3810, 0.004065229653935853), (1322, 0.004061189652850337), (1587, 0.004060963471835856), (832, 0.004056451297005169), (2045, 0.004054438380472479), (919, 0.004054251002282981), (4068, 0.004053034135281978), (28, 0.004050565768066834), (2278, 0.0040473381997895895), (2277, 0.004044099913467184), (2487, 0.0040431674616409445), (83, 0.004042768190512572), (131, 0.004041914999087327), (1751, 0.004036380306428958), (3739, 0.004033353585195512), (1985, 0.004031269107269129), (864, 0.00403125219928779), (1510, 0.0040275389783339865), (3551, 0.0040265294150629285), (4137, 0.004026112641089094), (2193, 0.0040257845129137385), (209, 0.0040256331161363694), (4503, 0.004023519771994265), (897, 0.004019834309325167), (343, 0.00401974768602034), (993, 0.004018834673123643), (736, 0.004016243592516668), (1515, 0.0040154886075615525), (2169, 0.004015281797610845), (104, 0.0040146794661661935), (529, 0.004014151404243495), (4686, 0.0040138158215351615), (4755, 0.004013697099984724), (1346, 0.004012285171402766), (1908, 0.004010695694624054), (3125, 0.004009199198684683), (2501, 0.004008681561144096), (3491, 0.004005155798938927), (3564, 0.0040049718224757875), (264, 0.003994984441792715), (1170, 0.003993975893322755), (1297, 0.003992834546873604), (1179, 0.003988940253608913), (272, 0.003988300908311943), (4006, 0.003987143516992401), (305, 0.003985621693278819), (3492, 0.003984584495995965), (3955, 0.0039812487387233045), (280, 0.0039790625239700395), (1262, 0.003978859632071831), (3174, 0.003978842621593819), (4592, 0.0039771395658413896), (2900, 0.003976806940383486), (525, 0.003968134306882131), (439, 0.003966014871725655), (3299, 0.003964282387867356), (1238, 0.003962297634789579), (3963, 0.00395963012278479), (3374, 0.003959258282589302), (105, 0.003956643673830406), (3818, 0.003956365610786035), (65, 0.00395621619311326), (2503, 0.0039560751498914715), (1239, 0.003953252608448102), (3435, 0.003950717348015181), (348, 0.003949261104395081), (1059, 0.003949099432266166), (1986, 0.0039455058007787725), (613, 0.003932344538370869), (2416, 0.003931948219114944), (1857, 0.003927501354774194), (2128, 0.0039231059813539275), (2463, 0.003921502868886926), (1551, 0.003921032200275069), (215, 0.003919382264626687), (4685, 0.003916791046665959), (4284, 0.0039144357285786704), (1807, 0.003913205235808525), (3046, 0.003912883172965187), (84, 0.0039061970574294697), (2910, 0.0039033924270443815), (870, 0.003901000569985082), (4687, 0.003900914944862806), (3368, 0.0038950174383932394), (1653, 0.003890431327981101), (4387, 0.0038900522960415578), (1422, 0.003884386755125013), (2178, 0.003880494770665494), (1035, 0.003875694117012078), (4442, 0.003869644857036126), (4550, 0.0038675734417611325), (2808, 0.0038657455124600924), (3127, 0.003864393678359861), (1146, 0.0038574466003677473), (3240, 0.0038552045591154463), (2571, 0.003854433041030196), (2003, 0.0038542333897031203), (1347, 0.003853449650563951), (4217, 0.003853259286014572), (3641, 0.0038529692049307164), (3011, 0.0038524316705684913), (3720, 0.0038499606068678476), (261, 0.0038490971620354754), (2432, 0.003845459864611052), (2056, 0.0038444279934059557), (3998, 0.003843501237533369), (4564, 0.003841327708903179), (521, 0.0038410865769691435), (112, 0.003840822096503558), (2131, 0.0038324662113891433), (138, 0.003830607072873918), (3053, 0.0038284855271606168), (782, 0.0038282451416497025), (3786, 0.003827886319865363), (3568, 0.0038260659391022326), (18, 0.0038254771243029333), (3246, 0.0038245844561252207), (1446, 0.0038231269108522105), (3567, 0.003822300018265257), (3504, 0.003821226365084901), (3868, 0.0038172680292372194), (4481, 0.003811747084852206), (883, 0.003810966716381084), (1218, 0.0038058967270820383), (3784, 0.003797333507780437), (1273, 0.0037968732099118363), (2706, 0.003792798502014165), (1375, 0.003791795287284533), (644, 0.0037898481048937284), (3465, 0.003789380227319695), (1274, 0.00378875792717055), (2631, 0.0037886269027892637), (4428, 0.003788230331739663), (1738, 0.0037873315281813156), (2892, 0.003786995180706534), (171, 0.0037869666577747445), (4272, 0.0037847849950134486), (767, 0.003784448220552764), (260, 0.003783998911721505), (2859, 0.00378232485939556), (1988, 0.003780590379190588), (1710, 0.0037790832952518194), (3712, 0.003779035021331131), (2094, 0.0037752503526820675), (1742, 0.003772187688624168), (408, 0.00377188031637237), (1054, 0.003767141657083965), (3819, 0.003766833341416298), (388, 0.00376615943184385), (4012, 0.0037652325440691603), (387, 0.0037625626131479743), (1756, 0.003762115592785001), (4257, 0.0037582170994099368), (1895, 0.0037581785831429263), (2023, 0.0037568858319314237), (3193, 0.0037476308567082166), (3566, 0.0037474647347305106), (2139, 0.0037442807335894856), (661, 0.0037425051663952267), (1793, 0.0037392141910531445), (3071, 0.0037367758667309426), (974, 0.0037346743052568436), (426, 0.0037315285741625734), (4059, 0.0037308411089967465), (1620, 0.0037304044015510655), (492, 0.0037247484341578646), (4634, 0.003722637977153583), (2992, 0.003719834336713239), (3280, 0.0037142780742668775), (866, 0.0037088028061976787), (417, 0.0037057224992620946), (2446, 0.003705423880647029), (2874, 0.0037026937949861663), (916, 0.003696653271345903), (1052, 0.003693386401284325), (1642, 0.0036923317256976466), (9, 0.003691894977938995), (2777, 0.003691453914610846), (3321, 0.003691298305600058), (2497, 0.0036845876535430717), (2491, 0.003678250733925743), (2482, 0.003677324397567468), (590, 0.0036769710495015333), (669, 0.003670783181060765), (907, 0.0036687827450014457), (4176, 0.0036683929049964635), (1984, 0.003666778669451712), (4649, 0.003663792872985915), (788, 0.0036630082704690085), (411, 0.0036618280279596955), (416, 0.003655864577765566), (4600, 0.0036509489284055467), (354, 0.0036509039773144486), (2920, 0.003650236784677325), (1782, 0.0036488353555126168), (4339, 0.0036442644158944304), (776, 0.003641246397369046), (4689, 0.003640341854436479), (291, 0.003636455463176442), (1990, 0.0036346559114928184), (1360, 0.003630916641521823), (3295, 0.0036305852135904097), (148, 0.003620322549599255), (583, 0.003616694579655782), (1595, 0.0036103725439305357), (1173, 0.003610348022235965), (1220, 0.0036007806643220948), (1719, 0.0036004971833183803), (3336, 0.003590857437172138), (722, 0.0035847223899806873), (3108, 0.00358066134119739), (885, 0.0035783891653885075), (4590, 0.0035723611802125216), (1384, 0.0035506935418293632), (1994, 0.0035496878774239882), (2587, 0.0035403871875028838), (4450, 0.003536503308838034), (3598, 0.0035315962141945355), (2906, 0.00351230767395178), (1186, 0.0035030177884845656), (97, 0.003501052638292809), (4156, 0.003497102571393876), (2608, 0.003494253322274443), (2805, 0.003488633079823132), (1194, 0.0034856285851010693), (4473, 0.003474588340378447), (3655, 0.0034719484716393694), (4353, 0.0034645877730699252), (1772, 0.003461938311110261), (4748, 0.0034551696033716917), (3748, 0.0034517947341902336), (2842, 0.0034492619207095038), (2294, 0.0034465241427258718), (234, 0.0034335534881487707), (1546, 0.003432072045390551), (2447, 0.003421685001394444), (2291, 0.0034179414542243615), (60, 0.003412721286888717), (779, 0.0034102530280573904), (1565, 0.003410069043344546), (1707, 0.0034085570474196147), (2020, 0.003403012366689808), (1120, 0.0034013092044969514), (3200, 0.003389746166858168), (2933, 0.003388012094407071), (3855, 0.0033851350964826015), (2855, 0.003383179358822988), (1971, 0.0033814873198422545), (3164, 0.0033784649585778745), (970, 0.0033706767265422703), (1312, 0.003366724384325367), (2076, 0.0033647353993183707), (2627, 0.003357377867739199), (1535, 0.003354690490097487), (78, 0.0033535088590468626), (195, 0.003353298152046166), (2127, 0.0033491552549427036), (575, 0.003346821869536074), (3821, 0.0033457687090567385), (3928, 0.003332476354111319), (1981, 0.00333166835658522), (3713, 0.0033262295166495404), (3927, 0.0033206499945318668), (1221, 0.0033167698621111336), (2969, 0.003308840368476438), (442, 0.003307980125625162), (1571, 0.003298366323687588), (3957, 0.003288335432291073), (1530, 0.003267169651889171), (1377, 0.0032182023158213464), (3944, 0.0032158931621659773), (1395, 0.0032113184836526495), (3410, 0.0032103790770500566), (2774, 0.003187926149224172), (3538, 0.003181089712347288), (294, 0.0031765225926344413), (2078, 0.0031728717734131003), (2377, 0.0031669321854172964), (3362, 0.0031590984698649433), (3316, 0.003068839970988132), (3667, 0.003050132502612915), (3356, 0.003009004773362074), (4373, 0.0030032443954361495), (4, 0.0), (5, 0.0), (8, 0.0), (13, 0.0), (15, 0.0), (16, 0.0), (17, 0.0), (19, 0.0), (20, 0.0), (21, 0.0), (23, 0.0), (31, 0.0), (34, 0.0), (36, 0.0), (40, 0.0), (41, 0.0), (42, 0.0), (46, 0.0), (51, 0.0), (55, 0.0), (62, 0.0), (63, 0.0), (66, 0.0), (68, 0.0), (71, 0.0), (77, 0.0), (81, 0.0), (90, 0.0), (93, 0.0), (95, 0.0), (98, 0.0), (99, 0.0), (103, 0.0), (107, 0.0), (111, 0.0), (115, 0.0), (116, 0.0), (118, 0.0), (126, 0.0), (127, 0.0), (128, 0.0), (134, 0.0), (139, 0.0), (145, 0.0), (147, 0.0), (151, 0.0), (157, 0.0), (158, 0.0), (163, 0.0), (174, 0.0), (180, 0.0), (181, 0.0), (190, 0.0), (197, 0.0), (204, 0.0), (205, 0.0), (206, 0.0), (207, 0.0), (210, 0.0), (213, 0.0), (224, 0.0), (226, 0.0), (227, 0.0), (235, 0.0), (236, 0.0), (238, 0.0), (241, 0.0), (244, 0.0), (246, 0.0), (248, 0.0), (252, 0.0), (253, 0.0), (255, 0.0), (258, 0.0), (262, 0.0), (267, 0.0), (268, 0.0), (274, 0.0), (278, 0.0), (282, 0.0), (283, 0.0), (289, 0.0), (290, 0.0), (295, 0.0), (296, 0.0), (302, 0.0), (303, 0.0), (307, 0.0), (313, 0.0), (314, 0.0), (316, 0.0), (318, 0.0), (320, 0.0), (321, 0.0), (322, 0.0), (323, 0.0), (325, 0.0), (326, 0.0), (329, 0.0), (331, 0.0), (332, 0.0), (364, 0.0), (366, 0.0), (367, 0.0), (374, 0.0), (375, 0.0), (376, 0.0), (382, 0.0), (386, 0.0), (389, 0.0), (394, 0.0), (397, 0.0), (398, 0.0), (399, 0.0), (402, 0.0), (414, 0.0), (419, 0.0), (422, 0.0), (431, 0.0), (436, 0.0), (447, 0.0), (450, 0.0), (456, 0.0), (458, 0.0), (462, 0.0), (468, 0.0), (471, 0.0), (475, 0.0), (476, 0.0), (478, 0.0), (480, 0.0), (481, 0.0), (482, 0.0), (485, 0.0), (487, 0.0), (493, 0.0), (499, 0.0), (502, 0.0), (503, 0.0), (505, 0.0), (506, 0.0), (509, 0.0), (513, 0.0), (514, 0.0), (515, 0.0), (516, 0.0), (518, 0.0), (526, 0.0), (531, 0.0), (533, 0.0), (534, 0.0), (535, 0.0), (536, 0.0), (543, 0.0), (544, 0.0), (550, 0.0), (552, 0.0), (554, 0.0), (556, 0.0), (558, 0.0), (563, 0.0), (564, 0.0), (565, 0.0), (570, 0.0), (571, 0.0), (572, 0.0), (573, 0.0), (574, 0.0), (579, 0.0), (580, 0.0), (581, 0.0), (586, 0.0), (587, 0.0), (589, 0.0), (591, 0.0), (592, 0.0), (593, 0.0), (595, 0.0), (598, 0.0), (601, 0.0), (602, 0.0), (606, 0.0), (608, 0.0), (616, 0.0), (617, 0.0), (623, 0.0), (625, 0.0), (626, 0.0), (627, 0.0), (632, 0.0), (633, 0.0), (634, 0.0), (636, 0.0), (638, 0.0), (645, 0.0), (649, 0.0), (650, 0.0), (652, 0.0), (655, 0.0), (658, 0.0), (659, 0.0), (660, 0.0), (667, 0.0), (673, 0.0), (679, 0.0), (682, 0.0), (688, 0.0), (694, 0.0), (707, 0.0), (710, 0.0), (711, 0.0), (716, 0.0), (718, 0.0), (721, 0.0), (729, 0.0), (734, 0.0), (735, 0.0), (739, 0.0), (741, 0.0), (746, 0.0), (751, 0.0), (754, 0.0), (758, 0.0), (759, 0.0), (760, 0.0), (761, 0.0), (764, 0.0), (766, 0.0), (770, 0.0), (771, 0.0), (772, 0.0), (774, 0.0), (777, 0.0), (783, 0.0), (784, 0.0), (791, 0.0), (795, 0.0), (796, 0.0), (799, 0.0), (800, 0.0), (801, 0.0), (808, 0.0), (809, 0.0), (814, 0.0), (816, 0.0), (818, 0.0), (823, 0.0), (825, 0.0), (826, 0.0), (828, 0.0), (830, 0.0), (837, 0.0), (841, 0.0), (842, 0.0), (844, 0.0), (845, 0.0), (848, 0.0), (851, 0.0), (857, 0.0), (860, 0.0), (865, 0.0), (867, 0.0), (869, 0.0), (871, 0.0), (873, 0.0), (875, 0.0), (876, 0.0), (877, 0.0), (886, 0.0), (888, 0.0), (889, 0.0), (896, 0.0), (902, 0.0), (903, 0.0), (910, 0.0), (914, 0.0), (917, 0.0), (921, 0.0), (922, 0.0), (925, 0.0), (927, 0.0), (933, 0.0), (937, 0.0), (941, 0.0), (942, 0.0), (943, 0.0), (947, 0.0), (949, 0.0), (950, 0.0), (951, 0.0), (952, 0.0), (955, 0.0), (956, 0.0), (959, 0.0), (960, 0.0), (964, 0.0), (965, 0.0), (967, 0.0), (968, 0.0), (969, 0.0), (972, 0.0), (979, 0.0), (983, 0.0), (984, 0.0), (986, 0.0), (987, 0.0), (990, 0.0), (992, 0.0), (996, 0.0), (999, 0.0), (1003, 0.0), (1007, 0.0), (1012, 0.0), (1015, 0.0), (1017, 0.0), (1019, 0.0), (1020, 0.0), (1024, 0.0), (1027, 0.0), (1030, 0.0), (1032, 0.0), (1034, 0.0), (1036, 0.0), (1037, 0.0), (1044, 0.0), (1051, 0.0), (1053, 0.0), (1055, 0.0), (1058, 0.0), (1061, 0.0), (1063, 0.0), (1064, 0.0), (1065, 0.0), (1069, 0.0), (1070, 0.0), (1074, 0.0), (1075, 0.0), (1078, 0.0), (1083, 0.0), (1086, 0.0), (1091, 0.0), (1096, 0.0), (1097, 0.0), (1098, 0.0), (1099, 0.0), (1102, 0.0), (1108, 0.0), (1110, 0.0), (1119, 0.0), (1121, 0.0), (1123, 0.0), (1124, 0.0), (1125, 0.0), (1126, 0.0), (1128, 0.0), (1131, 0.0), (1138, 0.0), (1139, 0.0), (1143, 0.0), (1145, 0.0), (1147, 0.0), (1148, 0.0), (1149, 0.0), (1151, 0.0), (1154, 0.0), (1156, 0.0), (1158, 0.0), (1159, 0.0), (1160, 0.0), (1164, 0.0), (1167, 0.0), (1169, 0.0), (1174, 0.0), (1177, 0.0), (1181, 0.0), (1183, 0.0), (1184, 0.0), (1187, 0.0), (1188, 0.0), (1190, 0.0), (1193, 0.0), (1199, 0.0), (1200, 0.0), (1201, 0.0), (1203, 0.0), (1205, 0.0), (1224, 0.0), (1225, 0.0), (1229, 0.0), (1230, 0.0), (1233, 0.0), (1234, 0.0), (1236, 0.0), (1240, 0.0), (1243, 0.0), (1244, 0.0), (1252, 0.0), (1256, 0.0), (1258, 0.0), (1260, 0.0), (1261, 0.0), (1264, 0.0), (1265, 0.0), (1271, 0.0), (1272, 0.0), (1275, 0.0), (1280, 0.0), (1281, 0.0), (1283, 0.0), (1286, 0.0), (1287, 0.0), (1289, 0.0), (1290, 0.0), (1293, 0.0), (1294, 0.0), (1299, 0.0), (1302, 0.0), (1303, 0.0), (1313, 0.0), (1316, 0.0), (1317, 0.0), (1318, 0.0), (1320, 0.0), (1324, 0.0), (1325, 0.0), (1326, 0.0), (1331, 0.0), (1332, 0.0), (1335, 0.0), (1337, 0.0), (1340, 0.0), (1342, 0.0), (1350, 0.0), (1355, 0.0), (1357, 0.0), (1359, 0.0), (1362, 0.0), (1363, 0.0), (1371, 0.0), (1378, 0.0), (1382, 0.0), (1386, 0.0), (1388, 0.0), (1391, 0.0), (1398, 0.0), (1399, 0.0), (1400, 0.0), (1408, 0.0), (1415, 0.0), (1416, 0.0), (1417, 0.0), (1424, 0.0), (1429, 0.0), (1432, 0.0), (1434, 0.0), (1435, 0.0), (1437, 0.0), (1438, 0.0), (1439, 0.0), (1441, 0.0), (1444, 0.0), (1448, 0.0), (1449, 0.0), (1452, 0.0), (1455, 0.0), (1457, 0.0), (1462, 0.0), (1469, 0.0), (1470, 0.0), (1476, 0.0), (1483, 0.0), (1490, 0.0), (1491, 0.0), (1497, 0.0), (1498, 0.0), (1499, 0.0), (1504, 0.0), (1508, 0.0), (1512, 0.0), (1514, 0.0), (1516, 0.0), (1518, 0.0), (1519, 0.0), (1527, 0.0), (1528, 0.0), (1533, 0.0), (1534, 0.0), (1536, 0.0), (1540, 0.0), (1545, 0.0), (1547, 0.0), (1554, 0.0), (1556, 0.0), (1560, 0.0), (1566, 0.0), (1573, 0.0), (1585, 0.0), (1589, 0.0), (1590, 0.0), (1591, 0.0), (1593, 0.0), (1596, 0.0), (1605, 0.0), (1611, 0.0), (1612, 0.0), (1618, 0.0), (1622, 0.0), (1623, 0.0), (1624, 0.0), (1628, 0.0), (1631, 0.0), (1633, 0.0), (1635, 0.0), (1637, 0.0), (1638, 0.0), (1639, 0.0), (1641, 0.0), (1644, 0.0), (1651, 0.0), (1656, 0.0), (1657, 0.0), (1658, 0.0), (1659, 0.0), (1661, 0.0), (1665, 0.0), (1671, 0.0), (1674, 0.0), (1685, 0.0), (1693, 0.0), (1705, 0.0), (1708, 0.0), (1717, 0.0), (1722, 0.0), (1727, 0.0), (1728, 0.0), (1729, 0.0), (1730, 0.0), (1732, 0.0), (1735, 0.0), (1736, 0.0), (1739, 0.0), (1740, 0.0), (1745, 0.0), (1747, 0.0), (1748, 0.0), (1749, 0.0), (1750, 0.0), (1752, 0.0), (1753, 0.0), (1754, 0.0), (1761, 0.0), (1765, 0.0), (1767, 0.0), (1770, 0.0), (1773, 0.0), (1775, 0.0), (1780, 0.0), (1785, 0.0), (1786, 0.0), (1790, 0.0), (1792, 0.0), (1795, 0.0), (1796, 0.0), (1801, 0.0), (1803, 0.0), (1805, 0.0), (1806, 0.0), (1815, 0.0), (1819, 0.0), (1822, 0.0), (1826, 0.0), (1829, 0.0), (1831, 0.0), (1832, 0.0), (1838, 0.0), (1840, 0.0), (1847, 0.0), (1848, 0.0), (1853, 0.0), (1856, 0.0), (1867, 0.0), (1870, 0.0), (1872, 0.0), (1874, 0.0), (1879, 0.0), (1880, 0.0), (1882, 0.0), (1884, 0.0), (1885, 0.0), (1890, 0.0), (1892, 0.0), (1894, 0.0), (1900, 0.0), (1901, 0.0), (1904, 0.0), (1905, 0.0), (1906, 0.0), (1909, 0.0), (1916, 0.0), (1917, 0.0), (1918, 0.0), (1922, 0.0), (1923, 0.0), (1924, 0.0), (1929, 0.0), (1930, 0.0), (1939, 0.0), (1940, 0.0), (1941, 0.0), (1945, 0.0), (1946, 0.0), (1947, 0.0), (1949, 0.0), (1956, 0.0), (1960, 0.0), (1962, 0.0), (1965, 0.0), (1966, 0.0), (1970, 0.0), (1975, 0.0), (1976, 0.0), (1980, 0.0), (1983, 0.0), (1989, 0.0), (1991, 0.0), (1995, 0.0), (2001, 0.0), (2002, 0.0), (2004, 0.0), (2008, 0.0), (2010, 0.0), (2011, 0.0), (2021, 0.0), (2024, 0.0), (2025, 0.0), (2028, 0.0), (2033, 0.0), (2042, 0.0), (2044, 0.0), (2048, 0.0), (2054, 0.0), (2057, 0.0), (2063, 0.0), (2066, 0.0), (2067, 0.0), (2068, 0.0), (2069, 0.0), (2075, 0.0), (2077, 0.0), (2080, 0.0), (2081, 0.0), (2083, 0.0), (2084, 0.0), (2089, 0.0), (2090, 0.0), (2093, 0.0), (2096, 0.0), (2101, 0.0), (2105, 0.0), (2106, 0.0), (2108, 0.0), (2110, 0.0), (2115, 0.0), (2120, 0.0), (2123, 0.0), (2124, 0.0), (2130, 0.0), (2132, 0.0), (2133, 0.0), (2134, 0.0), (2136, 0.0), (2137, 0.0), (2141, 0.0), (2142, 0.0), (2146, 0.0), (2148, 0.0), (2151, 0.0), (2152, 0.0), (2162, 0.0), (2163, 0.0), (2164, 0.0), (2165, 0.0), (2166, 0.0), (2168, 0.0), (2172, 0.0), (2173, 0.0), (2181, 0.0), (2182, 0.0), (2186, 0.0), (2187, 0.0), (2188, 0.0), (2189, 0.0), (2194, 0.0), (2202, 0.0), (2203, 0.0), (2205, 0.0), (2208, 0.0), (2209, 0.0), (2213, 0.0), (2214, 0.0), (2216, 0.0), (2217, 0.0), (2219, 0.0), (2225, 0.0), (2228, 0.0), (2229, 0.0), (2230, 0.0), (2231, 0.0), (2238, 0.0), (2240, 0.0), (2242, 0.0), (2243, 0.0), (2244, 0.0), (2247, 0.0), (2248, 0.0), (2249, 0.0), (2251, 0.0), (2253, 0.0), (2255, 0.0), (2256, 0.0), (2258, 0.0), (2270, 0.0), (2271, 0.0), (2272, 0.0), (2273, 0.0), (2275, 0.0), (2276, 0.0), (2279, 0.0), (2282, 0.0), (2286, 0.0), (2288, 0.0), (2289, 0.0), (2293, 0.0), (2295, 0.0), (2298, 0.0), (2300, 0.0), (2302, 0.0), (2304, 0.0), (2305, 0.0), (2306, 0.0), (2308, 0.0), (2309, 0.0), (2310, 0.0), (2312, 0.0), (2313, 0.0), (2314, 0.0), (2315, 0.0), (2323, 0.0), (2324, 0.0), (2325, 0.0), (2328, 0.0), (2333, 0.0), (2336, 0.0), (2341, 0.0), (2342, 0.0), (2343, 0.0), (2344, 0.0), (2345, 0.0), (2346, 0.0), (2348, 0.0), (2349, 0.0), (2350, 0.0), (2355, 0.0), (2356, 0.0), (2357, 0.0), (2361, 0.0), (2362, 0.0), (2369, 0.0), (2373, 0.0), (2374, 0.0), (2380, 0.0), (2382, 0.0), (2383, 0.0), (2384, 0.0), (2385, 0.0), (2386, 0.0), (2388, 0.0), (2394, 0.0), (2395, 0.0), (2396, 0.0), (2397, 0.0), (2400, 0.0), (2403, 0.0), (2404, 0.0), (2407, 0.0), (2410, 0.0), (2415, 0.0), (2417, 0.0), (2420, 0.0), (2424, 0.0), (2425, 0.0), (2426, 0.0), (2428, 0.0), (2429, 0.0), (2434, 0.0), (2437, 0.0), (2438, 0.0), (2439, 0.0), (2452, 0.0), (2453, 0.0), (2454, 0.0), (2455, 0.0), (2464, 0.0), (2467, 0.0), (2468, 0.0), (2469, 0.0), (2471, 0.0), (2475, 0.0), (2477, 0.0), (2478, 0.0), (2483, 0.0), (2488, 0.0), (2489, 0.0), (2490, 0.0), (2493, 0.0), (2495, 0.0), (2499, 0.0), (2500, 0.0), (2505, 0.0), (2506, 0.0), (2508, 0.0), (2512, 0.0), (2515, 0.0), (2519, 0.0), (2522, 0.0), (2523, 0.0), (2527, 0.0), (2529, 0.0), (2535, 0.0), (2536, 0.0), (2537, 0.0), (2542, 0.0), (2543, 0.0), (2545, 0.0), (2551, 0.0), (2556, 0.0), (2557, 0.0), (2558, 0.0), (2559, 0.0), (2561, 0.0), (2564, 0.0), (2565, 0.0), (2566, 0.0), (2567, 0.0), (2569, 0.0), (2572, 0.0), (2575, 0.0), (2576, 0.0), (2596, 0.0), (2597, 0.0), (2598, 0.0), (2599, 0.0), (2600, 0.0), (2602, 0.0), (2606, 0.0), (2607, 0.0), (2613, 0.0), (2619, 0.0), (2620, 0.0), (2621, 0.0), (2624, 0.0), (2628, 0.0), (2630, 0.0), (2635, 0.0), (2639, 0.0), (2641, 0.0), (2648, 0.0), (2651, 0.0), (2655, 0.0), (2657, 0.0), (2658, 0.0), (2659, 0.0), (2669, 0.0), (2670, 0.0), (2674, 0.0), (2676, 0.0), (2678, 0.0), (2679, 0.0), (2681, 0.0), (2684, 0.0), (2690, 0.0), (2692, 0.0), (2693, 0.0), (2694, 0.0), (2695, 0.0), (2699, 0.0), (2700, 0.0), (2701, 0.0), (2702, 0.0), (2703, 0.0), (2705, 0.0), (2707, 0.0), (2709, 0.0), (2714, 0.0), (2716, 0.0), (2718, 0.0), (2722, 0.0), (2726, 0.0), (2727, 0.0), (2728, 0.0), (2731, 0.0), (2735, 0.0), (2736, 0.0), (2737, 0.0), (2742, 0.0), (2743, 0.0), (2744, 0.0), (2745, 0.0), (2748, 0.0), (2754, 0.0), (2757, 0.0), (2764, 0.0), (2767, 0.0), (2768, 0.0), (2769, 0.0), (2773, 0.0), (2775, 0.0), (2778, 0.0), (2779, 0.0), (2780, 0.0), (2786, 0.0), (2787, 0.0), (2794, 0.0), (2795, 0.0), (2797, 0.0), (2800, 0.0), (2802, 0.0), (2803, 0.0), (2811, 0.0), (2815, 0.0), (2819, 0.0), (2820, 0.0), (2823, 0.0), (2825, 0.0), (2827, 0.0), (2828, 0.0), (2830, 0.0), (2832, 0.0), (2833, 0.0), (2837, 0.0), (2838, 0.0), (2843, 0.0), (2846, 0.0), (2847, 0.0), (2848, 0.0), (2849, 0.0), (2850, 0.0), (2853, 0.0), (2858, 0.0), (2860, 0.0), (2861, 0.0), (2863, 0.0), (2866, 0.0), (2868, 0.0), (2869, 0.0), (2870, 0.0), (2871, 0.0), (2872, 0.0), (2875, 0.0), (2877, 0.0), (2879, 0.0), (2880, 0.0), (2881, 0.0), (2883, 0.0), (2886, 0.0), (2888, 0.0), (2889, 0.0), (2890, 0.0), (2891, 0.0), (2893, 0.0), (2894, 0.0), (2895, 0.0), (2898, 0.0), (2902, 0.0), (2903, 0.0), (2905, 0.0), (2907, 0.0), (2914, 0.0), (2917, 0.0), (2919, 0.0), (2922, 0.0), (2923, 0.0), (2926, 0.0), (2928, 0.0), (2930, 0.0), (2932, 0.0), (2934, 0.0), (2936, 0.0), (2937, 0.0), (2939, 0.0), (2941, 0.0), (2943, 0.0), (2945, 0.0), (2946, 0.0), (2947, 0.0), (2948, 0.0), (2949, 0.0), (2950, 0.0), (2953, 0.0), (2955, 0.0), (2956, 0.0), (2959, 0.0), (2960, 0.0), (2961, 0.0), (2966, 0.0), (2967, 0.0), (2968, 0.0), (2970, 0.0), (2971, 0.0), (2973, 0.0), (2974, 0.0), (2978, 0.0), (2979, 0.0), (2983, 0.0), (2984, 0.0), (2986, 0.0), (2987, 0.0), (2988, 0.0), (2989, 0.0), (2990, 0.0), (2991, 0.0), (2993, 0.0), (2994, 0.0), (2995, 0.0), (2997, 0.0), (3001, 0.0), (3002, 0.0), (3004, 0.0), (3005, 0.0), (3006, 0.0), (3007, 0.0), (3008, 0.0), (3009, 0.0), (3012, 0.0), (3013, 0.0), (3016, 0.0), (3017, 0.0), (3019, 0.0), (3020, 0.0), (3021, 0.0), (3023, 0.0), (3025, 0.0), (3026, 0.0), (3029, 0.0), (3031, 0.0), (3032, 0.0), (3035, 0.0), (3036, 0.0), (3037, 0.0), (3038, 0.0), (3040, 0.0), (3041, 0.0), (3042, 0.0), (3044, 0.0), (3048, 0.0), (3049, 0.0), (3050, 0.0), (3051, 0.0), (3052, 0.0), (3054, 0.0), (3055, 0.0), (3056, 0.0), (3059, 0.0), (3061, 0.0), (3062, 0.0), (3063, 0.0), (3064, 0.0), (3067, 0.0), (3068, 0.0), (3069, 0.0), (3070, 0.0), (3072, 0.0), (3075, 0.0), (3076, 0.0), (3079, 0.0), (3082, 0.0), (3085, 0.0), (3086, 0.0), (3087, 0.0), (3088, 0.0), (3090, 0.0), (3093, 0.0), (3095, 0.0), (3097, 0.0), (3099, 0.0), (3100, 0.0), (3102, 0.0), (3105, 0.0), (3107, 0.0), (3114, 0.0), (3115, 0.0), (3118, 0.0), (3123, 0.0), (3124, 0.0), (3126, 0.0), (3130, 0.0), (3132, 0.0), (3134, 0.0), (3135, 0.0), (3136, 0.0), (3139, 0.0), (3140, 0.0), (3143, 0.0), (3146, 0.0), (3147, 0.0), (3153, 0.0), (3154, 0.0), (3157, 0.0), (3158, 0.0), (3159, 0.0), (3160, 0.0), (3161, 0.0), (3163, 0.0), (3165, 0.0), (3166, 0.0), (3168, 0.0), (3169, 0.0), (3170, 0.0), (3171, 0.0), (3176, 0.0), (3177, 0.0), (3178, 0.0), (3182, 0.0), (3184, 0.0), (3185, 0.0), (3186, 0.0), (3190, 0.0), (3191, 0.0), (3192, 0.0), (3194, 0.0), (3196, 0.0), (3197, 0.0), (3198, 0.0), (3202, 0.0), (3203, 0.0), (3207, 0.0), (3210, 0.0), (3220, 0.0), (3223, 0.0), (3227, 0.0), (3232, 0.0), (3239, 0.0), (3241, 0.0), (3242, 0.0), (3245, 0.0), (3248, 0.0), (3249, 0.0), (3250, 0.0), (3253, 0.0), (3255, 0.0), (3258, 0.0), (3261, 0.0), (3262, 0.0), (3266, 0.0), (3267, 0.0), (3268, 0.0), (3274, 0.0), (3275, 0.0), (3276, 0.0), (3278, 0.0), (3281, 0.0), (3285, 0.0), (3290, 0.0), (3291, 0.0), (3292, 0.0), (3296, 0.0), (3300, 0.0), (3301, 0.0), (3304, 0.0), (3305, 0.0), (3307, 0.0), (3309, 0.0), (3310, 0.0), (3314, 0.0), (3319, 0.0), (3322, 0.0), (3323, 0.0), (3324, 0.0), (3326, 0.0), (3332, 0.0), (3333, 0.0), (3334, 0.0), (3337, 0.0), (3339, 0.0), (3340, 0.0), (3341, 0.0), (3347, 0.0), (3348, 0.0), (3349, 0.0), (3351, 0.0), (3352, 0.0), (3353, 0.0), (3354, 0.0), (3355, 0.0), (3357, 0.0), (3358, 0.0), (3359, 0.0), (3363, 0.0), (3371, 0.0), (3372, 0.0), (3377, 0.0), (3381, 0.0), (3382, 0.0), (3383, 0.0), (3385, 0.0), (3388, 0.0), (3391, 0.0), (3394, 0.0), (3396, 0.0), (3398, 0.0), (3401, 0.0), (3402, 0.0), (3404, 0.0), (3405, 0.0), (3406, 0.0), (3417, 0.0), (3418, 0.0), (3419, 0.0), (3423, 0.0), (3426, 0.0), (3428, 0.0), (3429, 0.0), (3431, 0.0), (3432, 0.0), (3433, 0.0), (3434, 0.0), (3436, 0.0), (3437, 0.0), (3439, 0.0), (3440, 0.0), (3445, 0.0), (3449, 0.0), (3453, 0.0), (3455, 0.0), (3460, 0.0), (3462, 0.0), (3470, 0.0), (3475, 0.0), (3478, 0.0), (3479, 0.0), (3480, 0.0), (3486, 0.0), (3490, 0.0), (3493, 0.0), (3494, 0.0), (3496, 0.0), (3497, 0.0), (3498, 0.0), (3499, 0.0), (3500, 0.0), (3510, 0.0), (3513, 0.0), (3514, 0.0), (3519, 0.0), (3521, 0.0), (3522, 0.0), (3523, 0.0), (3525, 0.0), (3527, 0.0), (3528, 0.0), (3530, 0.0), (3532, 0.0), (3534, 0.0), (3535, 0.0), (3542, 0.0), (3543, 0.0), (3544, 0.0), (3547, 0.0), (3552, 0.0), (3560, 0.0), (3561, 0.0), (3565, 0.0), (3569, 0.0), (3570, 0.0), (3572, 0.0), (3573, 0.0), (3575, 0.0), (3576, 0.0), (3580, 0.0), (3583, 0.0), (3584, 0.0), (3588, 0.0), (3590, 0.0), (3591, 0.0), (3592, 0.0), (3595, 0.0), (3596, 0.0), (3597, 0.0), (3600, 0.0), (3601, 0.0), (3603, 0.0), (3605, 0.0), (3608, 0.0), (3609, 0.0), (3614, 0.0), (3617, 0.0), (3622, 0.0), (3623, 0.0), (3624, 0.0), (3625, 0.0), (3629, 0.0), (3634, 0.0), (3635, 0.0), (3636, 0.0), (3639, 0.0), (3640, 0.0), (3642, 0.0), (3645, 0.0), (3649, 0.0), (3652, 0.0), (3663, 0.0), (3664, 0.0), (3669, 0.0), (3670, 0.0), (3672, 0.0), (3675, 0.0), (3676, 0.0), (3679, 0.0), (3680, 0.0), (3686, 0.0), (3687, 0.0), (3688, 0.0), (3691, 0.0), (3692, 0.0), (3693, 0.0), (3694, 0.0), (3700, 0.0), (3702, 0.0), (3703, 0.0), (3707, 0.0), (3708, 0.0), (3714, 0.0), (3715, 0.0), (3717, 0.0), (3719, 0.0), (3721, 0.0), (3723, 0.0), (3725, 0.0), (3727, 0.0), (3729, 0.0), (3732, 0.0), (3733, 0.0), (3740, 0.0), (3742, 0.0), (3744, 0.0), (3745, 0.0), (3749, 0.0), (3750, 0.0), (3755, 0.0), (3756, 0.0), (3757, 0.0), (3758, 0.0), (3760, 0.0), (3761, 0.0), (3762, 0.0), (3764, 0.0), (3766, 0.0), (3767, 0.0), (3770, 0.0), (3771, 0.0), (3774, 0.0), (3775, 0.0), (3779, 0.0), (3783, 0.0), (3787, 0.0), (3788, 0.0), (3789, 0.0), (3791, 0.0), (3793, 0.0), (3795, 0.0), (3798, 0.0), (3799, 0.0), (3800, 0.0), (3804, 0.0), (3806, 0.0), (3811, 0.0), (3814, 0.0), (3815, 0.0), (3820, 0.0), (3827, 0.0), (3828, 0.0), (3832, 0.0), (3833, 0.0), (3834, 0.0), (3836, 0.0), (3837, 0.0), (3842, 0.0), (3844, 0.0), (3845, 0.0), (3848, 0.0), (3850, 0.0), (3853, 0.0), (3859, 0.0), (3862, 0.0), (3867, 0.0), (3869, 0.0), (3872, 0.0), (3873, 0.0), (3874, 0.0), (3879, 0.0), (3880, 0.0), (3881, 0.0), (3883, 0.0), (3884, 0.0), (3885, 0.0), (3887, 0.0), (3888, 0.0), (3896, 0.0), (3898, 0.0), (3900, 0.0), (3901, 0.0), (3902, 0.0), (3904, 0.0), (3908, 0.0), (3911, 0.0), (3915, 0.0), (3918, 0.0), (3922, 0.0), (3925, 0.0), (3929, 0.0), (3931, 0.0), (3932, 0.0), (3933, 0.0), (3934, 0.0), (3935, 0.0), (3936, 0.0), (3937, 0.0), (3939, 0.0), (3941, 0.0), (3942, 0.0), (3945, 0.0), (3946, 0.0), (3947, 0.0), (3949, 0.0), (3952, 0.0), (3953, 0.0), (3954, 0.0), (3958, 0.0), (3961, 0.0), (3962, 0.0), (3965, 0.0), (3967, 0.0), (3968, 0.0), (3971, 0.0), (3974, 0.0), (3975, 0.0), (3976, 0.0), (3977, 0.0), (3978, 0.0), (3981, 0.0), (3982, 0.0), (3985, 0.0), (3987, 0.0), (3988, 0.0), (3989, 0.0), (3992, 0.0), (3996, 0.0), (3999, 0.0), (4000, 0.0), (4005, 0.0), (4008, 0.0), (4011, 0.0), (4014, 0.0), (4016, 0.0), (4017, 0.0), (4018, 0.0), (4019, 0.0), (4024, 0.0), (4026, 0.0), (4027, 0.0), (4028, 0.0), (4029, 0.0), (4030, 0.0), (4033, 0.0), (4035, 0.0), (4036, 0.0), (4039, 0.0), (4040, 0.0), (4041, 0.0), (4042, 0.0), (4043, 0.0), (4044, 0.0), (4045, 0.0), (4048, 0.0), (4049, 0.0), (4052, 0.0), (4053, 0.0), (4056, 0.0), (4058, 0.0), (4060, 0.0), (4065, 0.0), (4067, 0.0), (4069, 0.0), (4071, 0.0), (4072, 0.0), (4073, 0.0), (4075, 0.0), (4078, 0.0), (4080, 0.0), (4082, 0.0), (4083, 0.0), (4084, 0.0), (4085, 0.0), (4087, 0.0), (4088, 0.0), (4092, 0.0), (4093, 0.0), (4094, 0.0), (4096, 0.0), (4097, 0.0), (4100, 0.0), (4101, 0.0), (4102, 0.0), (4103, 0.0), (4105, 0.0), (4107, 0.0), (4115, 0.0), (4116, 0.0), (4123, 0.0), (4126, 0.0), (4127, 0.0), (4128, 0.0), (4129, 0.0), (4130, 0.0), (4131, 0.0), (4133, 0.0), (4139, 0.0), (4141, 0.0), (4142, 0.0), (4145, 0.0), (4148, 0.0), (4150, 0.0), (4151, 0.0), (4153, 0.0), (4154, 0.0), (4159, 0.0), (4161, 0.0), (4163, 0.0), (4166, 0.0), (4167, 0.0), (4170, 0.0), (4172, 0.0), (4175, 0.0), (4179, 0.0), (4180, 0.0), (4181, 0.0), (4184, 0.0), (4185, 0.0), (4187, 0.0), (4188, 0.0), (4193, 0.0), (4198, 0.0), (4200, 0.0), (4202, 0.0), (4204, 0.0), (4206, 0.0), (4208, 0.0), (4209, 0.0), (4211, 0.0), (4212, 0.0), (4213, 0.0), (4215, 0.0), (4216, 0.0), (4219, 0.0), (4221, 0.0), (4222, 0.0), (4223, 0.0), (4224, 0.0), (4227, 0.0), (4228, 0.0), (4229, 0.0), (4230, 0.0), (4231, 0.0), (4232, 0.0), (4234, 0.0), (4235, 0.0), (4236, 0.0), (4238, 0.0), (4239, 0.0), (4243, 0.0), (4244, 0.0), (4246, 0.0), (4248, 0.0), (4249, 0.0), (4251, 0.0), (4253, 0.0), (4255, 0.0), (4256, 0.0), (4261, 0.0), (4264, 0.0), (4266, 0.0), (4273, 0.0), (4274, 0.0), (4275, 0.0), (4278, 0.0), (4285, 0.0), (4288, 0.0), (4291, 0.0), (4293, 0.0), (4294, 0.0), (4296, 0.0), (4298, 0.0), (4299, 0.0), (4300, 0.0), (4301, 0.0), (4302, 0.0), (4305, 0.0), (4306, 0.0), (4308, 0.0), (4310, 0.0), (4311, 0.0), (4313, 0.0), (4315, 0.0), (4316, 0.0), (4317, 0.0), (4318, 0.0), (4319, 0.0), (4321, 0.0), (4322, 0.0), (4326, 0.0), (4331, 0.0), (4333, 0.0), (4335, 0.0), (4349, 0.0), (4352, 0.0), (4354, 0.0), (4355, 0.0), (4357, 0.0), (4359, 0.0), (4360, 0.0), (4361, 0.0), (4365, 0.0), (4367, 0.0), (4369, 0.0), (4370, 0.0), (4375, 0.0), (4377, 0.0), (4381, 0.0), (4382, 0.0), (4383, 0.0), (4384, 0.0), (4385, 0.0), (4386, 0.0), (4389, 0.0), (4390, 0.0), (4391, 0.0), (4392, 0.0), (4393, 0.0), (4398, 0.0), (4400, 0.0), (4403, 0.0), (4404, 0.0), (4408, 0.0), (4412, 0.0), (4413, 0.0), (4415, 0.0), (4416, 0.0), (4417, 0.0), (4418, 0.0), (4419, 0.0), (4423, 0.0), (4424, 0.0), (4425, 0.0), (4429, 0.0), (4434, 0.0), (4435, 0.0), (4437, 0.0), (4439, 0.0), (4446, 0.0), (4452, 0.0), (4453, 0.0), (4458, 0.0), (4461, 0.0), (4463, 0.0), (4464, 0.0), (4465, 0.0), (4468, 0.0), (4469, 0.0), (4470, 0.0), (4471, 0.0), (4474, 0.0), (4475, 0.0), (4476, 0.0), (4480, 0.0), (4484, 0.0), (4488, 0.0), (4489, 0.0), (4490, 0.0), (4491, 0.0), (4493, 0.0), (4494, 0.0), (4495, 0.0), (4497, 0.0), (4499, 0.0), (4505, 0.0), (4506, 0.0), (4507, 0.0), (4508, 0.0), (4509, 0.0), (4510, 0.0), (4512, 0.0), (4513, 0.0), (4514, 0.0), (4517, 0.0), (4520, 0.0), (4521, 0.0), (4522, 0.0), (4525, 0.0), (4527, 0.0), (4528, 0.0), (4529, 0.0), (4532, 0.0), (4533, 0.0), (4535, 0.0), (4536, 0.0), (4537, 0.0), (4538, 0.0), (4539, 0.0), (4540, 0.0), (4542, 0.0), (4543, 0.0), (4544, 0.0), (4545, 0.0), (4546, 0.0), (4547, 0.0), (4552, 0.0), (4556, 0.0), (4557, 0.0), (4560, 0.0), (4561, 0.0), (4563, 0.0), (4565, 0.0), (4571, 0.0), (4572, 0.0), (4573, 0.0), (4574, 0.0), (4575, 0.0), (4577, 0.0), (4578, 0.0), (4580, 0.0), (4581, 0.0), (4583, 0.0), (4584, 0.0), (4585, 0.0), (4586, 0.0), (4588, 0.0), (4593, 0.0), (4595, 0.0), (4597, 0.0), (4601, 0.0), (4602, 0.0), (4603, 0.0), (4608, 0.0), (4611, 0.0), (4614, 0.0), (4615, 0.0), (4617, 0.0), (4618, 0.0), (4619, 0.0), (4620, 0.0), (4622, 0.0), (4626, 0.0), (4631, 0.0), (4632, 0.0), (4636, 0.0), (4637, 0.0), (4638, 0.0), (4639, 0.0), (4642, 0.0), (4643, 0.0), (4644, 0.0), (4645, 0.0), (4648, 0.0), (4651, 0.0), (4653, 0.0), (4654, 0.0), (4655, 0.0), (4656, 0.0), (4657, 0.0), (4664, 0.0), (4666, 0.0), (4667, 0.0), (4668, 0.0), (4669, 0.0), (4670, 0.0), (4671, 0.0), (4672, 0.0), (4673, 0.0), (4678, 0.0), (4680, 0.0), (4681, 0.0), (4684, 0.0), (4690, 0.0), (4691, 0.0), (4692, 0.0), (4693, 0.0), (4694, 0.0), (4696, 0.0), (4697, 0.0), (4698, 0.0), (4699, 0.0), (4700, 0.0), (4701, 0.0), (4702, 0.0), (4704, 0.0), (4705, 0.0), (4706, 0.0), (4707, 0.0), (4708, 0.0), (4709, 0.0), (4710, 0.0), (4712, 0.0), (4713, 0.0), (4714, 0.0), (4715, 0.0), (4717, 0.0), (4719, 0.0), (4720, 0.0), (4722, 0.0), (4723, 0.0), (4724, 0.0), (4725, 0.0), (4727, 0.0), (4729, 0.0), (4731, 0.0), (4733, 0.0), (4734, 0.0), (4739, 0.0), (4741, 0.0), (4742, 0.0), (4744, 0.0), (4749, 0.0), (4750, 0.0), (4751, 0.0), (4753, 0.0), (4757, 0.0), (4759, 0.0)]\n"
          ]
        }
      ]
    },
    {
      "cell_type": "code",
      "source": [
        "# Nmaes of similar movies\n",
        "i=1\n",
        "for movie in Movies:\n",
        "  index=movie[0]\n",
        "  title=data[data.index==index]['Movie_Title'].values[0]\n",
        "  if(i<31):\n",
        "    print(i,'.',title)\n",
        "    i=i+1"
      ],
      "metadata": {
        "colab": {
          "base_uri": "https://localhost:8080/"
        },
        "id": "Nt5WXr7yZIJ5",
        "outputId": "5ec2ac1b-03f8-4de4-8eb8-f5753986813d"
      },
      "execution_count": null,
      "outputs": [
        {
          "output_type": "stream",
          "name": "stdout",
          "text": [
            "1 . Finding Nemo\n",
            "2 . Shark Tale\n",
            "3 . Big Fish\n",
            "4 . John Carter\n",
            "5 . The Muse\n",
            "6 . Megamind\n",
            "7 . Mallrats\n",
            "8 . Spider-Man\n",
            "9 . Happy Feet\n",
            "10 . The Last Temptation of Christ\n",
            "11 . Meet the Deedles\n",
            "12 . The English Patient\n",
            "13 . Death Sentence\n",
            "14 . When Did You Last See Your Father?\n",
            "15 . The Life Aquatic with Steve Zissou\n",
            "16 . Flight of the Intruder\n",
            "17 . El Mariachi\n",
            "18 . Treading Water\n",
            "19 . Silent Movie\n",
            "20 . Bottle Rocket\n",
            "21 . WALL·E\n",
            "22 . The Outsiders\n",
            "23 . He Got Game\n",
            "24 . Ponyo\n",
            "25 . American Dreamz\n",
            "26 . Zoom\n",
            "27 . Shooting Fish\n",
            "28 . Bambi\n",
            "29 . Dear Frankie\n",
            "30 . Freaky Friday\n"
          ]
        }
      ]
    },
    {
      "cell_type": "markdown",
      "source": [
        "Explanation :I designed an advanced movie recommendation system using a rich Kaggle dataset. After carefully cleaning the data, including addressing missing values, I visually explored it with informative scatter and bar plots. The system employs sophisticated similarity scoring methods, like cosine similarity, to create personalized movie recommendations for users based on their preferences. Despite its user-friendly interface, the system excels at delivering tailored movie suggestions, showcasing the potential of data-driven personalization."
      ],
      "metadata": {
        "id": "x2d8twnOaO7r"
      }
    }
  ]
}